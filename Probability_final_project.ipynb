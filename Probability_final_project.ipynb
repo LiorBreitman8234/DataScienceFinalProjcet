{
 "cells": [
  {
   "cell_type": "markdown",
   "metadata": {},
   "source": [
    "# Probability\n",
    "This notebook is the first part of the final project\n"
   ]
  },
  {
   "cell_type": "code",
   "execution_count": 11,
   "metadata": {},
   "outputs": [],
   "source": [
    "import math"
   ]
  },
  {
   "cell_type": "markdown",
   "metadata": {},
   "source": [
    "# question 1:\n",
    "The probability of non identical twins is 0.008 \n",
    "The probability of identical twins is 1/300 \n",
    "Elvis had a twin that died at birth. What is the probability thay Evlis had a twin brother?\n",
    "we will use Conditional probability because we know he had a twin, and out of that we need to calculte\n",
    "the probability for an identical twin\n"
   ]
  },
  {
   "cell_type": "code",
   "execution_count": 6,
   "metadata": {},
   "outputs": [
    {
     "name": "stdout",
     "output_type": "stream",
     "text": [
      "The probabiliy that elvis had a identical twin that died at birth is: 0.29411764705882354\n"
     ]
    }
   ],
   "source": [
    "pNotIdenticalTwin = 1/125\n",
    "pIdenticalTwin = 1/300\n",
    "#the probability from twin is adding both probabilites\n",
    "pTwin = pNotIdenticalTwin + pIdenticalTwin\n",
    "#we know that we had a twin, and want to check what is the probability that is was identical\n",
    "p = pIdenticalTwin / pTwin\n",
    "print(\"The probabiliy that elvis had a identical twin that died at birth is: \"  + (str)(p))"
   ]
  },
  {
   "cell_type": "markdown",
   "metadata": {},
   "source": [
    "# question 2:\n",
    "There are 2 bowls of cookies .\n",
    "\n",
    "The first bowl has 10 almond cookies and 30 chocolate cookies.\n",
    "\n",
    "The second bowl has 20 almond cookies and 20 chocolate cookies .\n",
    "\n",
    "Erik chose  random bowl , and got a chocolate cookie.\n",
    "\n",
    "What is the probability thet Erik chose bowl number 1?\n",
    "\n",
    "Because we know Erik got a chocolate cookie, we can use Conditional probability again. \n",
    "\n",
    "The probability for getting a Chocolate cookie is the probability of choosing bowl 1 and getting a chocolate cookie\n",
    "from it, plus choosing bowl 2 and getting a chocolate cookie from it.\n"
   ]
  },
  {
   "cell_type": "code",
   "execution_count": 6,
   "metadata": {},
   "outputs": [
    {
     "name": "stdout",
     "output_type": "stream",
     "text": [
      "the probability that Erik chose the first bowl is : 0.8\n"
     ]
    }
   ],
   "source": [
    "pBowl1 = 0.5;\n",
    "pBowl2 = 0.5;\n",
    "pBowl1Choclate = 30/40\n",
    "pBowl1Almond = 10/40\n",
    "pBowl2Choclate = 20/40\n",
    "pBowl2Almond = 20/40\n",
    "pFirstBowlAndChocolate = pBowl1 * pBowl1Choclate # 0.375\n",
    "pSecondBowlAndChocolate = pBowl2 * pBowl2Choclate #0.25\n",
    "#now we need to check the probabiliy that he chose the first bowl \n",
    "P = pBowl1/( pFirstBowlAndChocolate + pSecondBowlAndChocolate )\n",
    "print(\"the probability that Erik chose the first bowl is : \" + (str)(P))"
   ]
  },
  {
   "cell_type": "markdown",
   "metadata": {},
   "source": [
    "# question 3:\n",
    "In packs that were made before 1995 the probability for a yellow candy was 0.2 and for a green candy it was 0.1\n",
    "\n",
    "In packs that were made after 1995 the probability for a yellow candy was 0.14 and for a green candy it was 0.2\n",
    "\n",
    "We know that we have 1 green candy and 1 yellow candy, but we dont know from which year they are.\n",
    "\n",
    "The probability for getting this combination is 0.2*0.14 + 0.1*0.2 (because we know they are for sure from diffrent years)\n",
    "\n",
    "We can use Conditional probability to get the probability that the yellow candy was from the older pack\n"
   ]
  },
  {
   "cell_type": "code",
   "execution_count": 2,
   "metadata": {},
   "outputs": [
    {
     "name": "stdout",
     "output_type": "stream",
     "text": [
      "the probability that the yellow candy was from the 1994 package is: 0.7407407407407408\n"
     ]
    }
   ],
   "source": [
    "#BB = before blue, AB = after blue\n",
    "pYellowBB = 0.2;\n",
    "pGreenBB = 0.1;\n",
    "pYellowAB = 0.14;\n",
    "pGreenAB = 0.2;\n",
    "pGreenAndYellow = (pYellowBB * pGreenAB) + (pYellowAB * pGreenBB)\n",
    "#the probability that the yellow candy was from before 1995 is only if the green candy is after 1995\n",
    "pYellowOlder = (pYellowBB * pGreenAB )/ pGreenAndYellow\n",
    "print(\"the probability that the yellow candy was from the 1994 package is: \" + (str)(pYellowOlder))"
   ]
  },
  {
   "cell_type": "markdown",
   "metadata": {},
   "source": [
    "# question 4:\n",
    "We know that 1/10000 people have swine flu. \n",
    "\n",
    "We also know that if you are sick, there is a 0% chance the test will say that you are healty, but if you are healthy, there is a 1% chance that the test will say that you are sick\n",
    "\n",
    "We know that the test came back positive, and we need to calcualte the probability that he is actually sick\n",
    "\n",
    "We will calculate it using Bayes Theorem\n",
    "\n",
    "p(sick/PositiveTest) = (p(positiveTest/sick) * p(Sick)) / p(PositiveTest)\n",
    "\n",
    "the probability for a positive test is if i am sick (because 0% false negative) or i am not sick but got a false positive. if i am sick there is 100% chance the test will be positive\n",
    "\n",
    "For the second part of the question, the probability of having swine flu has changed to 1/200 beacuse we know that the one who did the test came back from Thailand.\n",
    "\n",
    "We just change the pSick in our code to 1/200 insted of 1/10000, and calculate the new positive test probability\n"
   ]
  },
  {
   "cell_type": "code",
   "execution_count": 5,
   "metadata": {},
   "outputs": [
    {
     "name": "stdout",
     "output_type": "stream",
     "text": [
      "the probability that i am sick after i got a positive test is: 0.009901970492127933\n",
      "the probability that i am sick after i got a positive test and after i came back from Thailand is: 0.33444816053511706\n"
     ]
    }
   ],
   "source": [
    "pSick= 1/10000\n",
    "pFalsePositive = 0.01\n",
    "pFalseNegative = 0\n",
    "\n",
    "pPositiveTest = (pSick * 1)  + (1-pSick)*pFalsePositive\n",
    "p = (1* pSick)/pPositiveTest\n",
    "print(\"the probability that i am sick after i got a positive test is: \" + str(p))\n",
    "#now we change the sick probability from 1/10000 to 1/200 because of the new info we got\n",
    "#and positive test probability\n",
    "\n",
    "pSick = 1/200\n",
    "pPositiveTest = (pSick * 1)  + (1-pSick)*pFalsePositive\n",
    "p = (1* pSick)/pPositiveTest\n",
    "print(\"the probability that i am sick after i got a positive test and after i came back from Thailand is: \" + str(p))"
   ]
  },
  {
   "cell_type": "markdown",
   "metadata": {},
   "source": [
    "# question 5:\n",
    "Roi is playing a dice game with Yael.\n",
    "\n",
    "Roi will roll 2 six-sided dice, and if the sum of the dice is divisible by 3, he will win 6 dollars. If the sum\n",
    "is not divisible by 3, he will lose 3 dollars.\n",
    "\n",
    "What is Roi’s expected value of playing this game?\n",
    "\n",
    "The probability of that the sum of the 2 dice will be divided by 3 is 1/3 (only if we get 3,6,9 or 12 and their probability togehter is 1/3)\n",
    "\n",
    "The probability of that the sum of the 2 dice will not be divided by 3 is 2/3 (1-1/3)\n",
    "\n",
    "We will use the expected value formula to calculate it \n",
    "\n",
    "Expected value = 6 * 1/3 + (-3) * 2/3  (-3 cause he loses it)"
   ]
  },
  {
   "cell_type": "code",
   "execution_count": 15,
   "metadata": {},
   "outputs": [
    {
     "name": "stdout",
     "output_type": "stream",
     "text": [
      "Roi's expected value from the game is:0.0\n"
     ]
    }
   ],
   "source": [
    "pDividedBy3 = 1/3\n",
    "pNotDividedBy3 = 1-pDividedBy3 \n",
    "x = (6* pDividedBy3) + (-3*pNotDividedBy3)\n",
    "print(\"Roi's expected value from the game is: \"+ str(x))"
   ]
  },
  {
   "cell_type": "markdown",
   "metadata": {},
   "source": [
    "# question 6:\n",
    "Sharon has challenged Alex to a round of Marker Mixup. \n",
    "\n",
    "Marker Mixup is a game where\n",
    "there is a bag of 5 red markers numbered 1 through 5, and another bag with 5 green\n",
    "markers numbered 6 through 10.\n",
    "\n",
    "\n",
    "Alex will grab 1 marker from each bag, and if the 2 markers add up to more than 12, he will\n",
    "win 5 dollars, if the sum is exactly 12, he will break even, and if the sum is less the 12, he will lose 6 dollars\n",
    "\n",
    "There are a total of 25 possibilities in the game (5^2)\n",
    "\n",
    "They have:\n",
    "\n",
    "6 options for combinations above 12 (5+8, 5+9, 5+10, 4+9, 4+10, 3+10)\n",
    "\n",
    "4 options for combinations that are exactly 12 (5+7, 3+9, 2+10, 4+8)\n",
    "\n",
    "That leaves them with 15 oprions for combinatios below 12\n",
    "\n",
    "We will use the expected value formula to calculate it\n",
    "\n",
    "Expected value = 5 * 6/25 + (-6) * 15/25  + 0 * 4/25  (-6 cause he loses it)"
   ]
  },
  {
   "cell_type": "code",
   "execution_count": 8,
   "metadata": {},
   "outputs": [
    {
     "name": "stdout",
     "output_type": "stream",
     "text": [
      "Alex's expected value from the game is : -2.4\n"
     ]
    }
   ],
   "source": [
    "pAbove12 = 6/25\n",
    "p12 = 4/25\n",
    "pUnder12 = 15/25\n",
    "x = (5*  pAbove12)  + (0 * p12) + (-6 * pUnder12)\n",
    "print(\"Alex's expected value from the game is : \" + str(round(x,1)))"
   ]
  },
  {
   "cell_type": "markdown",
   "metadata": {},
   "source": [
    "# question 7:\n",
    "A division of a company has 200 employees, 40%, percent of which are male. \n",
    "\n",
    "Each month, the company randomly selects 8 of these employees to have lunch with the CEO.\n",
    "\n",
    "What are the mean and standard deviation of the number of males selected each month?\n",
    "\n",
    "the mean of the number of males is the probability for males * the amount of employees which is 0.4*8 = 3.2\n",
    "\n",
    "To calculate the standard deviation will use its Formula \n",
    "\n",
    "first we calculatethe deviations of each number from the mean and square it\n",
    "\n",
    "The possibilities are between 0 and 8 males chosen.\n",
    "\n",
    "$(0-3.2)^2$ = $3.2^2$    $(1-3.2)^2$ = $2.2^2$ \n",
    "\n",
    "$(2-3.2)^2$ = $1.2^2$    $(3-3.2)^2$ = $0.2^2$ \n",
    "\n",
    "$(4-3.2)^2$ = $0.8^2$    $(5-3.2)^2$ = $1.8^2$ \n",
    "\n",
    "$(6-3.2)^2$ = $2.8^2$    $(7-3.2)^2$ = $3.8^2$ \n",
    "\n",
    "$(8-3.2)^2$ = $4.8^2$ \n",
    "\n",
    "$∑$ = 65.76\n",
    "\n",
    "We divide it by number of cases (9) and Take the sqaure root of it to get the standart deviation\n",
    "\n",
    "65.76/9 = 7.30667\n",
    "\n",
    "$\\sqrt{7.30667}$ = 2.703"
   ]
  },
  {
   "cell_type": "code",
   "execution_count": 18,
   "metadata": {},
   "outputs": [
    {
     "name": "stdout",
     "output_type": "stream",
     "text": [
      "the mean of males selected is: 3.2\n",
      "the standard deviation is:2.7030846576951055\n"
     ]
    }
   ],
   "source": [
    "pMale = 0.4\n",
    "mean = 0.4 * 8\n",
    "print(\"the mean of males selected is: \" + str(mean))\n",
    "sumOfCases = 0\n",
    "for i in range(0,9):\n",
    "    sumOfCases = sumOfCases + ((i-mean)**2)\n",
    "std = math.sqrt(sumOfCases/9)\n",
    "print(\"the standard deviation is:\" + str(std))"
   ]
  },
  {
   "cell_type": "markdown",
   "metadata": {},
   "source": [
    "# question 8:\n",
    "Different dealers may sell the same car for different prices.\n",
    "\n",
    "The sale prices for a particular car are normally distributed with a mean and standard deviation of 26,000 dollars and 2,000 dollars respectively.\n",
    "\n",
    "Suppose we select one of these cars at random. \n",
    "\n",
    "Let X = the sale price (in thousands of dollars) for the selected car.\n",
    "\n",
    "Find P(26<X<30)\n",
    "\n",
    "We are going to use the 68–95–99.7 rule to calculate the probability.\n",
    "\n",
    "the rule says that when we have normally distributed we know that 68% of the values are 1 standard deviation around the mean, 95% of the values are 2 standard deviation around the mean, and 99.7% ($≈$100%) are 3 standard deviations around the mean.\n",
    "\n",
    "Mean = 26 (in thousands)\n",
    "\n",
    "std = 2 (in thousands)\n",
    "\n",
    "With the rule we know that 68% of the values are between 24000 - 28000, and 95% of the values are between 22000-30000 we dont need the other cause we need only for 30000.\n",
    "\n",
    "because we only need the values above 26000, and that is our mean, we dont need to take the values from which we reduce 1,2 or 3 standard deviations\n",
    "\n",
    "34% of the values are around 26000-28000 (half of 68%, 1 standard deviation around the mean), and 47.5% of the values are around 26000-30000 ( half of 68%, 2 standard deviation around the mean). so the probability the X is around 26 and 30 is 0.475"
   ]
  },
  {
   "cell_type": "code",
   "execution_count": 19,
   "metadata": {},
   "outputs": [
    {
     "name": "stdout",
     "output_type": "stream",
     "text": [
      "probability of 26<x<30 is: 0.475\n"
     ]
    }
   ],
   "source": [
    "std = 2\n",
    "mean = 26\n",
    "meanAnd2std = 30\n",
    "p2STDAboveMean = 0.475\n",
    "print(\"probability of 26<x<30 is: \" + str(p2STDAboveMean))"
   ]
  },
  {
   "attachments": {
    "%D7%A9%D7%90%D7%9C%D7%94%209.png": {
     "image/png": "[encoded data removed]"
    }
   },
   "cell_type": "markdown",
   "metadata": {},
   "source": [
    "# question 9:\n",
    "![%D7%A9%D7%90%D7%9C%D7%94%209.png](attachment:%D7%A9%D7%90%D7%9C%D7%94%209.png)\n",
    "\n",
    "\n",
    "The entire area of the triangle is (0.4*5)/2 which is 1\n",
    "\n",
    "\n",
    "The probability that x>3 is the right triangle starting from 3 and his area is 0.4*2/2 = 0.4"
   ]
  },
  {
   "cell_type": "code",
   "execution_count": 22,
   "metadata": {},
   "outputs": [
    {
     "name": "stdout",
     "output_type": "stream",
     "text": [
      "the probability the x is bigger then 3 is : 0.4\n"
     ]
    }
   ],
   "source": [
    "area = (0.4*5)/2\n",
    "areaRight =(0.4*2)/2\n",
    "p = areaRight/area\n",
    "print(\"the probability the x is bigger then 3 is : \" + str(p))"
   ]
  },
  {
   "cell_type": "markdown",
   "metadata": {},
   "source": [
    "# question 10:\n",
    "A company has 500 employees, and 60% of them have children.\n",
    "\n",
    "Suppose that we randomly choose 4 of these employees.\n",
    "\n",
    "What is the probability that exactly 3 of the 4 employees selected have children?\n",
    "\n",
    "There are 300 Employees with childern, 200 without.\n",
    "\n",
    "With each employee that we are choosing, the total pool of employees gets smaller (can't choose the same employee twice) \n",
    "\n",
    "we have 4 options:\n",
    "\n",
    "1. The first employee doesnt have a child and the rest have\n",
    "2. The second employee doesnt have a child and the rest have\n",
    "3. The third employee doesnt have a child and the rest have\n",
    "4. The fourth employee doesnt have a child and the rest have"
   ]
  },
  {
   "cell_type": "code",
   "execution_count": 1,
   "metadata": {},
   "outputs": [
    {
     "name": "stdout",
     "output_type": "stream",
     "text": [
      "the probability the exactly 3 of 4 employees have childern is : 0.3462919633356553\n"
     ]
    }
   ],
   "source": [
    "\n",
    "option1 = 200/500 * 300/499  * 299/498 * 298/497\n",
    "option2 = 300/500 * 200/499 * 299/498 * 298/497\n",
    "option3 = 300/500 * 299/499 * 200/498 * 298/497\n",
    "option4 = 300/500 * 299/499* 298/498 * 200/497\n",
    "p = option1 + option2 + option3 + option4\n",
    "print(\"the probability the exactly 3 of 4 employees have childern is : \" + str(p))"
   ]
  },
  {
   "attachments": {
    "11.png": {
     "image/png": "[encoded data removed]"
    }
   },
   "cell_type": "markdown",
   "metadata": {},
   "source": [
    "# question 11:\n",
    "\n",
    "Look at the next Graph. What is the expected value of X?\n",
    "![11.png](attachment:11.png)\n",
    "\n",
    "we can collect the data from the graph and orgenize it\n",
    "\n",
    "probabilities:\n",
    "1. p(-10) = 0.1\n",
    "2. p(-5) = 0.35\n",
    "3. p(0) = 0.1\n",
    "4. p(5) = 0.35\n",
    "5. p(10) = 0.1\n",
    "\n",
    "And use the expected value formuala to calculate\n",
    "expected value = -10 * 0.1 + (-5) * 0.35 + 0 + 10 * 0.1 + 5 * 0.35"
   ]
  },
  {
   "cell_type": "code",
   "execution_count": 21,
   "metadata": {},
   "outputs": [
    {
     "name": "stdout",
     "output_type": "stream",
     "text": [
      "the Excpeted value of X is :0.0\n"
     ]
    }
   ],
   "source": [
    "\n",
    "#Question 11: the grpah with diffrent probability number of each x\n",
    "#N means negative\n",
    "pN10 = 0.1\n",
    "pN5 = 0.35\n",
    "p0 = 0.1\n",
    "p5 = 0.35\n",
    "p10 = 0.1\n",
    "#using excpeted value formula\n",
    "x = (-10*pN10) + (-5*pN5) + (0*p0) + (5*p5) + (10*p10)\n",
    "print(\"the Excpeted value of X is :\"  +str(x))"
   ]
  },
  {
   "cell_type": "code",
   "execution_count": null,
   "metadata": {},
   "outputs": [],
   "source": []
  }
 ],
 "metadata": {
  "kernelspec": {
   "display_name": "Python 3",
   "language": "python",
   "name": "python3"
  },
  "language_info": {
   "codemirror_mode": {
    "name": "ipython",
    "version": 3
   },
   "file_extension": ".py",
   "mimetype": "text/x-python",
   "name": "python",
   "nbconvert_exporter": "python",
   "pygments_lexer": "ipython3",
   "version": "3.8.3"
  }
 },
 "nbformat": 4,
 "nbformat_minor": 4
}

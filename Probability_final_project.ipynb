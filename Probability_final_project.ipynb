{
 "cells": [
  {
   "cell_type": "code",
   "execution_count": 25,
   "metadata": {},
   "outputs": [],
   "source": [
    "#this notebook is for the probability part of the end project\n",
    "#notebook num #1\n",
    "import math"
   ]
  },
  {
   "cell_type": "code",
   "execution_count": 6,
   "metadata": {},
   "outputs": [
    {
     "name": "stdout",
     "output_type": "stream",
     "text": [
      "The probabiliy that elvis had a identical twin that died at birth is: 0.29411764705882354\n"
     ]
    }
   ],
   "source": [
    "#Question 1:  בערך 125/1 מהלידות זה תאומים לא זהים ו-300/1 מהלידות זה תאומים זהים. לאלביס היה\n",
    "#אח תאום שמת בלידה. מה ההסתברות שאלביס היה תאום זהה? )ניתן להניח שההסתברות\n",
    "# להולדת בן ובת שווה ל -2/ #1 .\n",
    "pNotIdenticalTwin = 1/125\n",
    "pIdenticalTwin = 1/300\n",
    "#the probability from twin is adding both probabilites\n",
    "pTwin = pNotIdenticalTwin + pIdenticalTwin\n",
    "#we know that we had a twin, and want to check what is the probability that is was identical\n",
    "p = pIdenticalTwin / pTwin\n",
    "print(\"The probabiliy that elvis had a identical twin that died at birth is: \"  + (str)(p))"
   ]
  },
  {
   "cell_type": "code",
   "execution_count": 4,
   "metadata": {},
   "outputs": [
    {
     "name": "stdout",
     "output_type": "stream",
     "text": [
      "0.375\n",
      "0.25\n",
      "the probability that Erik chose the first bowl is : 0.8\n"
     ]
    }
   ],
   "source": [
    "#Question 2: יש שתי קערות של עוגיות. בקערה 1 יש 10 עוגיות שקדים ו-30 עוגיות שוקולד. בקערה 2 יש\n",
    "#20 עוגיות שקדים ו-20 עוגיות שוקולד. אריק בחר קערה באקראי ובחר ממנה עוגיה באקראי.\n",
    "# העוגיה שנבחרה היא שוקולד. מה ההסתברות שאריק בחר את קערה #1 ?\n",
    "pBowl1 = 0.5;\n",
    "pBowl2 = 0.5;\n",
    "pBowl1Choclate = 30/40\n",
    "pBowl1Almond = 10/40\n",
    "pBowl2Choclate = 20/40\n",
    "pBowl2Almond = 20/40\n",
    "#we know that Erik got a chocolate cookie and the probability for it is selecting the first bowl * getting a chocolate cookie \n",
    "#plus selecting the second bowl and getting a chocolate cookie from it \n",
    "pFirstBowlAndChocolate = pBowl1 * pBowl1Choclate\n",
    "print(pFirstBowlAndChocolate)\n",
    "pSecondBowlAndChocolate = pBowl2 * pBowl2Choclate\n",
    "print(pSecondBowlAndChocolate)\n",
    "#now we need to check the probabiliy that he chose the first bowl \n",
    "P = pBowl1/(pFirstBowlAndChocolate+pSecondBowlAndChocolate)\n",
    "print(\"the probability that Erik chose the first bowl is : \" + (str)(P))"
   ]
  },
  {
   "cell_type": "code",
   "execution_count": 8,
   "metadata": {},
   "outputs": [
    {
     "name": "stdout",
     "output_type": "stream",
     "text": [
      "the probability that the yellow candy was from the 1994 package is: 0.7407407407407408\n"
     ]
    }
   ],
   "source": [
    "#question 3: the M&M question\n",
    "#before they added blue, the probability for a green candy was 0.1 and for yellow it was 0.2\n",
    "#after they added blue, the probability changed such that for a green candy it was 0.2 and for yellow it was 0.14\n",
    "#they probability of getting green and yellow before blue was 0.1*0.2\n",
    "#they probability of getting green and yellow after blue was 0.14*0.2\n",
    "#BB = before blue, AB = after blue\n",
    "pYellowBB = 0.2;\n",
    "pGreenBB = 0.1;\n",
    "pYellowAB = 0.14;\n",
    "pGreenAB = 0.2;\n",
    "pGreenAndYellow = (pYellowBB * pGreenAB) + (pYellowAB * pGreenBB)\n",
    "#the probability that the yellow candy was from before blue is only if the green candy is after blue\n",
    "pYellowOlder = (pYellowBB * pGreenAB )/ pGreenAndYellow\n",
    "print(\"the probability that the yellow candy was from the 1994 package is: \" + (str)(pYellowOlder))"
   ]
  },
  {
   "cell_type": "code",
   "execution_count": 12,
   "metadata": {},
   "outputs": [
    {
     "name": "stdout",
     "output_type": "stream",
     "text": [
      "the probability that i am sick after i got a positive test is: 0.009901970492127933\n",
      "the probability that i am sick after i got a positive test and after i came back from thiland is: 0.33444816053511706\n"
     ]
    }
   ],
   "source": [
    "#Question 4: swine flu question\n",
    "#we know that 1/10000 people has swine flu, we know that the probability for false positive is 0.01 (the probability that \n",
    "#the test will tell a healthy person thet he is sick)\n",
    "#the probability for false negative is 0\n",
    "# we know the test was positive, what is the probability that the person has swine flu\n",
    "pSick= 1/10000\n",
    "pFalsePositive = 0.01\n",
    "pFalseNegative = 0\n",
    "#we will use bayes theorem to calculate the probability\n",
    "# p(sick/positiveTest) = (p(positiveTest/sick) * p(sick))/p(positiveTest)\n",
    "# the probability for a positive test is if i am sick (cause 0% false negative) or i am not sick but got a false positive\n",
    "pPositiveTest = (pSick * 1)  + (1-pSick)*pFalsePositive\n",
    "#and also if i am sick there is 100% chance the test will be positive\n",
    "p = (1* pSick)/pPositiveTest\n",
    "print(\"the probability that i am sick after i got a positive test is: \" + str(p))\n",
    "#now we change the sick probability from 1/10000 to 1/200 because of the new info we got\n",
    "#and positive test probability\n",
    "\n",
    "pSick = 1/200\n",
    "pPositiveTest = (pSick * 1)  + (1-pSick)*pFalsePositive\n",
    "p = (1* pSick)/pPositiveTest\n",
    "print(\"the probability that i am sick after i got a positive test and after i came back from thiland is: \" + str(p))"
   ]
  },
  {
   "cell_type": "code",
   "execution_count": 15,
   "metadata": {},
   "outputs": [
    {
     "name": "stdout",
     "output_type": "stream",
     "text": [
      "Roi's expected value from the game is:0.0\n"
     ]
    }
   ],
   "source": [
    "#Question 5:\n",
    "#Roi is playing a dice game with Yael.\n",
    "#Roi will roll 2 six-sided dice, and if the sum of the dice is divisible by 3, he will win 6$. If the sum\n",
    "#is not divisible by 3, he will lose 3$.\n",
    "#What is Roi’s expected value of playing this game?\n",
    "#the probability that the sum is divided by 3 is if we get 3, 6, 9 or 12 which is 1/3 \n",
    "#the probability that he sum is not divided by is is 2/3 (1-1/3)\n",
    "pDividedBy3 = 1/3\n",
    "pNotDividedBy3 = 1-pDividedBy3 \n",
    "x = (6* pDividedBy3) + (-3*pNotDividedBy3)\n",
    "print(\"Roi's expected value from the game is: \"+ str(x))"
   ]
  },
  {
   "cell_type": "code",
   "execution_count": 19,
   "metadata": {},
   "outputs": [
    {
     "name": "stdout",
     "output_type": "stream",
     "text": [
      "Alex's expected value from the game is : -2.4\n"
     ]
    }
   ],
   "source": [
    "#Question 6:\n",
    "#Sharon has challenged Alex to a round of Marker Mixup. Marker Mixup is a game where\n",
    "#there is a bag of 5 red markers numbered 1 through 5, and another bag with 5 green\n",
    "#markers numbered 6 through 10.\n",
    "#Alex will grab 1 marker from each bag, and if the 2 markers add up to more than 12, he will\n",
    "#win 5$, 5. If the sum is exactly 12, he will break even, and If the sum is less than 12, he will\n",
    "#lose 6$\n",
    "#we have a total of 25 posibilities (5^2)\n",
    "# we have 6 options for a combination that is above 12\n",
    "# we have 4 option for a combination that is exectly 12\n",
    "# we have 15 options for a combination that is under 12\n",
    "pAbove12 = 6/25\n",
    "p12 = 4/25\n",
    "pUnder12 = 15/25\n",
    "x = (5*  pAbove12)  + (0 * p12) + (-6 * pUnder12)\n",
    "print(\"Alex's expected value from the game is : \" + str(round(x,1)))"
   ]
  },
  {
   "cell_type": "code",
   "execution_count": 28,
   "metadata": {},
   "outputs": [
    {
     "name": "stdout",
     "output_type": "stream",
     "text": [
      "the mean of males selected is: 3.2\n",
      "the standard deviation is:2.7030846576951055\n"
     ]
    }
   ],
   "source": [
    "#Question 7:\n",
    "#A division of a company has 200 employees, 40%, percent of which are male. Each month,\n",
    "#the company randomly selects 8 of these employees to have lunch with the CEO.\n",
    "#What are the mean and standard deviation of the number of males selected each month?\n",
    "#the mean of the number of males is the probability for males * the amount of employees which is 0.4*8\n",
    "pMale = 0.4\n",
    "mean = 0.4 * 8\n",
    "print(\"the mean of males selected is: \" + str(mean))\n",
    "#to claculate the standard devision we have all 9 cases, that 0-8 males were selected and we know the mean\n",
    "sumOfCases = 0\n",
    "for i in range(0,9):\n",
    "    sumOfCases = sumOfCases + ((i-mean)**2)\n",
    "std = math.sqrt(sumOfCases/9)\n",
    "print(\"the standard deviation is:\" + str(std))"
   ]
  },
  {
   "cell_type": "code",
   "execution_count": null,
   "metadata": {},
   "outputs": [],
   "source": [
    "#Question 8:\n",
    "#Different dealers may sell the same car for different prices. The sale prices for a particular\n",
    "#car are normally distributed with a mean and standard deviation of 26,000$ and 2,000$,\n",
    "#respectively. Suppose we select one of these cars at random. Let X = the sale price (in\n",
    "#thousands of dollars) for the selected car.\n",
    "#Find P(26<X<30),"
   ]
  },
  {
   "cell_type": "code",
   "execution_count": 22,
   "metadata": {},
   "outputs": [
    {
     "name": "stdout",
     "output_type": "stream",
     "text": [
      "the probability the x is bigger then 3 is : 0.4\n"
     ]
    }
   ],
   "source": [
    "#Question 9:\n",
    "#graph with triangle\n",
    "#the entire area of the tirangle is (0.4*5)/2 which is 1\n",
    "# the probability that x>3 is the right triangle starting from 3 and his area is 0.4*2/2 = 0.4\n",
    "area = (0.4*5)/2\n",
    "areaRight =(0.4*2)/2\n",
    "p = areaRight/area\n",
    "print(\"the probability the x is bigger then 3 is : \" + str(p))"
   ]
  },
  {
   "cell_type": "code",
   "execution_count": 1,
   "metadata": {},
   "outputs": [
    {
     "name": "stdout",
     "output_type": "stream",
     "text": [
      "the probability the exactly 3 of 4 employees have childern is : 0.3462919633356553\n"
     ]
    }
   ],
   "source": [
    "#Question 10:\n",
    "#A company has 500 employees, and 60% of them have children. Suppose that we randomly\n",
    "# 4 of these employees.\n",
    "#What is the probability that exactly 3 of the 4 employees selected have children?\n",
    "#we have 4 options, that the first 1 doesnt have a child and the rest have, that the second 1 doesnt have a child\n",
    "#and the rest have, that the third 1 doesnt have a child and the rest have, and that the fourth 1 doesnt\n",
    "#have a child and the rest have\n",
    "# we also know that we have 300 workers with children and 200 without\n",
    "option1 = 200/500 * 300/499  * 299/498 * 298/497\n",
    "option2 = 300/500 * 200/499 * 299/498 * 298/497\n",
    "option3 = 300/500 * 299/499 * 200/498 * 298/497\n",
    "option4 = 300/500 * 299/499* 298/498 * 200/497\n",
    "p = option1 + option2 + option3 + option4\n",
    "print(\"the probability the exactly 3 of 4 employees have childern is : \" + str(p))"
   ]
  },
  {
   "cell_type": "code",
   "execution_count": 21,
   "metadata": {},
   "outputs": [
    {
     "name": "stdout",
     "output_type": "stream",
     "text": [
      "the Excpeted value of X is :0.0\n"
     ]
    }
   ],
   "source": [
    "#Question 11: the grpah with diffrent probability number of each x\n",
    "#N means negative\n",
    "pN10 = 0.1\n",
    "pN5 = 0.35\n",
    "p0 = 0.1\n",
    "p5 = 0.35\n",
    "p10 = 0.1\n",
    "#using excpeted value formula\n",
    "x = (-10*pN10) + (-5*pN5) + (0*p0) + (5*p5) + (10*p10)\n",
    "print(\"the Excpeted value of X is :\"  +str(x))"
   ]
  },
  {
   "cell_type": "code",
   "execution_count": null,
   "metadata": {},
   "outputs": [],
   "source": []
  }
 ],
 "metadata": {
  "kernelspec": {
   "display_name": "Python 3",
   "language": "python",
   "name": "python3"
  },
  "language_info": {
   "codemirror_mode": {
    "name": "ipython",
    "version": 3
   },
   "file_extension": ".py",
   "mimetype": "text/x-python",
   "name": "python",
   "nbconvert_exporter": "python",
   "pygments_lexer": "ipython3",
   "version": "3.8.3"
  }
 },
 "nbformat": 4,
 "nbformat_minor": 4
}

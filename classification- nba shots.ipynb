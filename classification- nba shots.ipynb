{
 "cells": [
  {
   "cell_type": "code",
   "execution_count": null,
   "metadata": {},
   "outputs": [],
   "source": []
  },
  {
   "cell_type": "markdown",
   "metadata": {},
   "source": [
    "# NBA SHOTS classifier"
   ]
  },
  {
   "cell_type": "code",
   "execution_count": 1,
   "metadata": {},
   "outputs": [],
   "source": [
    "import pandas as pd\n",
    "import numpy as np\n",
    "import matplotlib.pyplot as plt \n",
    "import seaborn as sns\n",
    "%matplotlib inline"
   ]
  },
  {
   "cell_type": "markdown",
   "metadata": {},
   "source": [
    "First we import our data set and print it "
   ]
  },
  {
   "cell_type": "code",
   "execution_count": 49,
   "metadata": {},
   "outputs": [
    {
     "data": {
      "text/html": [
       "<div>\n",
       "<style scoped>\n",
       "    .dataframe tbody tr th:only-of-type {\n",
       "        vertical-align: middle;\n",
       "    }\n",
       "\n",
       "    .dataframe tbody tr th {\n",
       "        vertical-align: top;\n",
       "    }\n",
       "\n",
       "    .dataframe thead th {\n",
       "        text-align: right;\n",
       "    }\n",
       "</style>\n",
       "<table border=\"1\" class=\"dataframe\">\n",
       "  <thead>\n",
       "    <tr style=\"text-align: right;\">\n",
       "      <th></th>\n",
       "      <th>GAME_ID</th>\n",
       "      <th>MATCHUP</th>\n",
       "      <th>LOCATION</th>\n",
       "      <th>W</th>\n",
       "      <th>FINAL_MARGIN</th>\n",
       "      <th>SHOT_NUMBER</th>\n",
       "      <th>PERIOD</th>\n",
       "      <th>GAME_CLOCK</th>\n",
       "      <th>SHOT_CLOCK</th>\n",
       "      <th>DRIBBLES</th>\n",
       "      <th>...</th>\n",
       "      <th>SHOT_DIST</th>\n",
       "      <th>PTS_TYPE</th>\n",
       "      <th>SHOT_RESULT</th>\n",
       "      <th>CLOSEST_DEFENDER</th>\n",
       "      <th>CLOSEST_DEFENDER_PLAYER_ID</th>\n",
       "      <th>CLOSE_DEF_DIST</th>\n",
       "      <th>FGM</th>\n",
       "      <th>PTS</th>\n",
       "      <th>player_name</th>\n",
       "      <th>player_id</th>\n",
       "    </tr>\n",
       "  </thead>\n",
       "  <tbody>\n",
       "    <tr>\n",
       "      <th>0</th>\n",
       "      <td>21400899</td>\n",
       "      <td>MAR 04, 2015 - CHA @ BKN</td>\n",
       "      <td>A</td>\n",
       "      <td>W</td>\n",
       "      <td>24</td>\n",
       "      <td>1</td>\n",
       "      <td>1</td>\n",
       "      <td>1:09</td>\n",
       "      <td>10.8</td>\n",
       "      <td>2</td>\n",
       "      <td>...</td>\n",
       "      <td>7.7</td>\n",
       "      <td>2</td>\n",
       "      <td>made</td>\n",
       "      <td>Anderson, Alan</td>\n",
       "      <td>101187</td>\n",
       "      <td>1.3</td>\n",
       "      <td>1</td>\n",
       "      <td>2</td>\n",
       "      <td>brian roberts</td>\n",
       "      <td>203148</td>\n",
       "    </tr>\n",
       "    <tr>\n",
       "      <th>1</th>\n",
       "      <td>21400899</td>\n",
       "      <td>MAR 04, 2015 - CHA @ BKN</td>\n",
       "      <td>A</td>\n",
       "      <td>W</td>\n",
       "      <td>24</td>\n",
       "      <td>2</td>\n",
       "      <td>1</td>\n",
       "      <td>0:14</td>\n",
       "      <td>3.4</td>\n",
       "      <td>0</td>\n",
       "      <td>...</td>\n",
       "      <td>28.2</td>\n",
       "      <td>3</td>\n",
       "      <td>missed</td>\n",
       "      <td>Bogdanovic, Bojan</td>\n",
       "      <td>202711</td>\n",
       "      <td>6.1</td>\n",
       "      <td>0</td>\n",
       "      <td>0</td>\n",
       "      <td>brian roberts</td>\n",
       "      <td>203148</td>\n",
       "    </tr>\n",
       "    <tr>\n",
       "      <th>2</th>\n",
       "      <td>21400899</td>\n",
       "      <td>MAR 04, 2015 - CHA @ BKN</td>\n",
       "      <td>A</td>\n",
       "      <td>W</td>\n",
       "      <td>24</td>\n",
       "      <td>3</td>\n",
       "      <td>1</td>\n",
       "      <td>0:00</td>\n",
       "      <td>NaN</td>\n",
       "      <td>3</td>\n",
       "      <td>...</td>\n",
       "      <td>10.1</td>\n",
       "      <td>2</td>\n",
       "      <td>missed</td>\n",
       "      <td>Bogdanovic, Bojan</td>\n",
       "      <td>202711</td>\n",
       "      <td>0.9</td>\n",
       "      <td>0</td>\n",
       "      <td>0</td>\n",
       "      <td>brian roberts</td>\n",
       "      <td>203148</td>\n",
       "    </tr>\n",
       "    <tr>\n",
       "      <th>3</th>\n",
       "      <td>21400899</td>\n",
       "      <td>MAR 04, 2015 - CHA @ BKN</td>\n",
       "      <td>A</td>\n",
       "      <td>W</td>\n",
       "      <td>24</td>\n",
       "      <td>4</td>\n",
       "      <td>2</td>\n",
       "      <td>11:47</td>\n",
       "      <td>10.3</td>\n",
       "      <td>2</td>\n",
       "      <td>...</td>\n",
       "      <td>17.2</td>\n",
       "      <td>2</td>\n",
       "      <td>missed</td>\n",
       "      <td>Brown, Markel</td>\n",
       "      <td>203900</td>\n",
       "      <td>3.4</td>\n",
       "      <td>0</td>\n",
       "      <td>0</td>\n",
       "      <td>brian roberts</td>\n",
       "      <td>203148</td>\n",
       "    </tr>\n",
       "    <tr>\n",
       "      <th>4</th>\n",
       "      <td>21400899</td>\n",
       "      <td>MAR 04, 2015 - CHA @ BKN</td>\n",
       "      <td>A</td>\n",
       "      <td>W</td>\n",
       "      <td>24</td>\n",
       "      <td>5</td>\n",
       "      <td>2</td>\n",
       "      <td>10:34</td>\n",
       "      <td>10.9</td>\n",
       "      <td>2</td>\n",
       "      <td>...</td>\n",
       "      <td>3.7</td>\n",
       "      <td>2</td>\n",
       "      <td>missed</td>\n",
       "      <td>Young, Thaddeus</td>\n",
       "      <td>201152</td>\n",
       "      <td>1.1</td>\n",
       "      <td>0</td>\n",
       "      <td>0</td>\n",
       "      <td>brian roberts</td>\n",
       "      <td>203148</td>\n",
       "    </tr>\n",
       "  </tbody>\n",
       "</table>\n",
       "<p>5 rows × 21 columns</p>\n",
       "</div>"
      ],
      "text/plain": [
       "    GAME_ID                   MATCHUP LOCATION  W  FINAL_MARGIN  SHOT_NUMBER  \\\n",
       "0  21400899  MAR 04, 2015 - CHA @ BKN        A  W            24            1   \n",
       "1  21400899  MAR 04, 2015 - CHA @ BKN        A  W            24            2   \n",
       "2  21400899  MAR 04, 2015 - CHA @ BKN        A  W            24            3   \n",
       "3  21400899  MAR 04, 2015 - CHA @ BKN        A  W            24            4   \n",
       "4  21400899  MAR 04, 2015 - CHA @ BKN        A  W            24            5   \n",
       "\n",
       "   PERIOD GAME_CLOCK  SHOT_CLOCK  DRIBBLES  ...  SHOT_DIST  PTS_TYPE  \\\n",
       "0       1       1:09        10.8         2  ...        7.7         2   \n",
       "1       1       0:14         3.4         0  ...       28.2         3   \n",
       "2       1       0:00         NaN         3  ...       10.1         2   \n",
       "3       2      11:47        10.3         2  ...       17.2         2   \n",
       "4       2      10:34        10.9         2  ...        3.7         2   \n",
       "\n",
       "   SHOT_RESULT   CLOSEST_DEFENDER CLOSEST_DEFENDER_PLAYER_ID  CLOSE_DEF_DIST  \\\n",
       "0         made     Anderson, Alan                     101187             1.3   \n",
       "1       missed  Bogdanovic, Bojan                     202711             6.1   \n",
       "2       missed  Bogdanovic, Bojan                     202711             0.9   \n",
       "3       missed      Brown, Markel                     203900             3.4   \n",
       "4       missed    Young, Thaddeus                     201152             1.1   \n",
       "\n",
       "   FGM  PTS    player_name player_id  \n",
       "0    1    2  brian roberts    203148  \n",
       "1    0    0  brian roberts    203148  \n",
       "2    0    0  brian roberts    203148  \n",
       "3    0    0  brian roberts    203148  \n",
       "4    0    0  brian roberts    203148  \n",
       "\n",
       "[5 rows x 21 columns]"
      ]
     },
     "execution_count": 49,
     "metadata": {},
     "output_type": "execute_result"
    }
   ],
   "source": [
    "df = pd.read_csv(r\"D:\\dataFrames\\shot_logs.csv\")\n",
    "df.head()"
   ]
  },
  {
   "cell_type": "code",
   "execution_count": null,
   "metadata": {},
   "outputs": [],
   "source": []
  },
  {
   "cell_type": "markdown",
   "metadata": {},
   "source": [
    "We then want to check if we have any NaN to see how we deal with them "
   ]
  },
  {
   "cell_type": "code",
   "execution_count": 50,
   "metadata": {},
   "outputs": [
    {
     "data": {
      "text/plain": [
       "GAME_ID                          0\n",
       "MATCHUP                          0\n",
       "LOCATION                         0\n",
       "W                                0\n",
       "FINAL_MARGIN                     0\n",
       "SHOT_NUMBER                      0\n",
       "PERIOD                           0\n",
       "GAME_CLOCK                       0\n",
       "SHOT_CLOCK                    5567\n",
       "DRIBBLES                         0\n",
       "TOUCH_TIME                       0\n",
       "SHOT_DIST                        0\n",
       "PTS_TYPE                         0\n",
       "SHOT_RESULT                      0\n",
       "CLOSEST_DEFENDER                 0\n",
       "CLOSEST_DEFENDER_PLAYER_ID       0\n",
       "CLOSE_DEF_DIST                   0\n",
       "FGM                              0\n",
       "PTS                              0\n",
       "player_name                      0\n",
       "player_id                        0\n",
       "dtype: int64"
      ]
     },
     "execution_count": 50,
     "metadata": {},
     "output_type": "execute_result"
    }
   ],
   "source": [
    "df.isnull().sum()"
   ]
  },
  {
   "cell_type": "markdown",
   "metadata": {},
   "source": [
    "We can see that all of our NaN are in the SHOT_CLOCK column so we will change it to 0 cause there was no time left on the clock "
   ]
  },
  {
   "cell_type": "code",
   "execution_count": 51,
   "metadata": {
    "scrolled": false
   },
   "outputs": [
    {
     "data": {
      "text/plain": [
       "GAME_ID                       0\n",
       "MATCHUP                       0\n",
       "LOCATION                      0\n",
       "W                             0\n",
       "FINAL_MARGIN                  0\n",
       "SHOT_NUMBER                   0\n",
       "PERIOD                        0\n",
       "GAME_CLOCK                    0\n",
       "SHOT_CLOCK                    0\n",
       "DRIBBLES                      0\n",
       "TOUCH_TIME                    0\n",
       "SHOT_DIST                     0\n",
       "PTS_TYPE                      0\n",
       "SHOT_RESULT                   0\n",
       "CLOSEST_DEFENDER              0\n",
       "CLOSEST_DEFENDER_PLAYER_ID    0\n",
       "CLOSE_DEF_DIST                0\n",
       "FGM                           0\n",
       "PTS                           0\n",
       "player_name                   0\n",
       "player_id                     0\n",
       "dtype: int64"
      ]
     },
     "execution_count": 51,
     "metadata": {},
     "output_type": "execute_result"
    }
   ],
   "source": [
    "df = df.fillna(df.SHOT_CLOCK.mean())\n",
    "df.isnull().sum()"
   ]
  },
  {
   "cell_type": "markdown",
   "metadata": {},
   "source": [
    " "
   ]
  },
  {
   "cell_type": "markdown",
   "metadata": {},
   "source": [
    "Let us get the data information"
   ]
  },
  {
   "cell_type": "code",
   "execution_count": 52,
   "metadata": {},
   "outputs": [
    {
     "name": "stdout",
     "output_type": "stream",
     "text": [
      "<class 'pandas.core.frame.DataFrame'>\n",
      "RangeIndex: 128069 entries, 0 to 128068\n",
      "Data columns (total 21 columns):\n",
      " #   Column                      Non-Null Count   Dtype  \n",
      "---  ------                      --------------   -----  \n",
      " 0   GAME_ID                     128069 non-null  int64  \n",
      " 1   MATCHUP                     128069 non-null  object \n",
      " 2   LOCATION                    128069 non-null  object \n",
      " 3   W                           128069 non-null  object \n",
      " 4   FINAL_MARGIN                128069 non-null  int64  \n",
      " 5   SHOT_NUMBER                 128069 non-null  int64  \n",
      " 6   PERIOD                      128069 non-null  int64  \n",
      " 7   GAME_CLOCK                  128069 non-null  object \n",
      " 8   SHOT_CLOCK                  128069 non-null  float64\n",
      " 9   DRIBBLES                    128069 non-null  int64  \n",
      " 10  TOUCH_TIME                  128069 non-null  float64\n",
      " 11  SHOT_DIST                   128069 non-null  float64\n",
      " 12  PTS_TYPE                    128069 non-null  int64  \n",
      " 13  SHOT_RESULT                 128069 non-null  object \n",
      " 14  CLOSEST_DEFENDER            128069 non-null  object \n",
      " 15  CLOSEST_DEFENDER_PLAYER_ID  128069 non-null  int64  \n",
      " 16  CLOSE_DEF_DIST              128069 non-null  float64\n",
      " 17  FGM                         128069 non-null  int64  \n",
      " 18  PTS                         128069 non-null  int64  \n",
      " 19  player_name                 128069 non-null  object \n",
      " 20  player_id                   128069 non-null  int64  \n",
      "dtypes: float64(4), int64(10), object(7)\n",
      "memory usage: 20.5+ MB\n"
     ]
    }
   ],
   "source": [
    "df.info()"
   ]
  },
  {
   "cell_type": "markdown",
   "metadata": {},
   "source": [
    " "
   ]
  },
  {
   "cell_type": "markdown",
   "metadata": {},
   "source": [
    "For classification we need a binary value so we will replace missed shots with 0 and made shots with 1 we can also see the 45% of our shots were made"
   ]
  },
  {
   "cell_type": "code",
   "execution_count": 53,
   "metadata": {},
   "outputs": [
    {
     "name": "stdout",
     "output_type": "stream",
     "text": [
      "0.4521390812764994\n"
     ]
    },
    {
     "data": {
      "text/html": [
       "<div>\n",
       "<style scoped>\n",
       "    .dataframe tbody tr th:only-of-type {\n",
       "        vertical-align: middle;\n",
       "    }\n",
       "\n",
       "    .dataframe tbody tr th {\n",
       "        vertical-align: top;\n",
       "    }\n",
       "\n",
       "    .dataframe thead th {\n",
       "        text-align: right;\n",
       "    }\n",
       "</style>\n",
       "<table border=\"1\" class=\"dataframe\">\n",
       "  <thead>\n",
       "    <tr style=\"text-align: right;\">\n",
       "      <th></th>\n",
       "      <th>GAME_ID</th>\n",
       "      <th>MATCHUP</th>\n",
       "      <th>LOCATION</th>\n",
       "      <th>W</th>\n",
       "      <th>FINAL_MARGIN</th>\n",
       "      <th>SHOT_NUMBER</th>\n",
       "      <th>PERIOD</th>\n",
       "      <th>GAME_CLOCK</th>\n",
       "      <th>SHOT_CLOCK</th>\n",
       "      <th>DRIBBLES</th>\n",
       "      <th>...</th>\n",
       "      <th>SHOT_DIST</th>\n",
       "      <th>PTS_TYPE</th>\n",
       "      <th>SHOT_RESULT</th>\n",
       "      <th>CLOSEST_DEFENDER</th>\n",
       "      <th>CLOSEST_DEFENDER_PLAYER_ID</th>\n",
       "      <th>CLOSE_DEF_DIST</th>\n",
       "      <th>FGM</th>\n",
       "      <th>PTS</th>\n",
       "      <th>player_name</th>\n",
       "      <th>player_id</th>\n",
       "    </tr>\n",
       "  </thead>\n",
       "  <tbody>\n",
       "    <tr>\n",
       "      <th>0</th>\n",
       "      <td>21400899</td>\n",
       "      <td>MAR 04, 2015 - CHA @ BKN</td>\n",
       "      <td>A</td>\n",
       "      <td>W</td>\n",
       "      <td>24</td>\n",
       "      <td>1</td>\n",
       "      <td>1</td>\n",
       "      <td>1:09</td>\n",
       "      <td>10.800000</td>\n",
       "      <td>2</td>\n",
       "      <td>...</td>\n",
       "      <td>7.7</td>\n",
       "      <td>2</td>\n",
       "      <td>1</td>\n",
       "      <td>Anderson, Alan</td>\n",
       "      <td>101187</td>\n",
       "      <td>1.3</td>\n",
       "      <td>1</td>\n",
       "      <td>2</td>\n",
       "      <td>brian roberts</td>\n",
       "      <td>203148</td>\n",
       "    </tr>\n",
       "    <tr>\n",
       "      <th>1</th>\n",
       "      <td>21400899</td>\n",
       "      <td>MAR 04, 2015 - CHA @ BKN</td>\n",
       "      <td>A</td>\n",
       "      <td>W</td>\n",
       "      <td>24</td>\n",
       "      <td>2</td>\n",
       "      <td>1</td>\n",
       "      <td>0:14</td>\n",
       "      <td>3.400000</td>\n",
       "      <td>0</td>\n",
       "      <td>...</td>\n",
       "      <td>28.2</td>\n",
       "      <td>3</td>\n",
       "      <td>0</td>\n",
       "      <td>Bogdanovic, Bojan</td>\n",
       "      <td>202711</td>\n",
       "      <td>6.1</td>\n",
       "      <td>0</td>\n",
       "      <td>0</td>\n",
       "      <td>brian roberts</td>\n",
       "      <td>203148</td>\n",
       "    </tr>\n",
       "    <tr>\n",
       "      <th>2</th>\n",
       "      <td>21400899</td>\n",
       "      <td>MAR 04, 2015 - CHA @ BKN</td>\n",
       "      <td>A</td>\n",
       "      <td>W</td>\n",
       "      <td>24</td>\n",
       "      <td>3</td>\n",
       "      <td>1</td>\n",
       "      <td>0:00</td>\n",
       "      <td>12.453344</td>\n",
       "      <td>3</td>\n",
       "      <td>...</td>\n",
       "      <td>10.1</td>\n",
       "      <td>2</td>\n",
       "      <td>0</td>\n",
       "      <td>Bogdanovic, Bojan</td>\n",
       "      <td>202711</td>\n",
       "      <td>0.9</td>\n",
       "      <td>0</td>\n",
       "      <td>0</td>\n",
       "      <td>brian roberts</td>\n",
       "      <td>203148</td>\n",
       "    </tr>\n",
       "    <tr>\n",
       "      <th>3</th>\n",
       "      <td>21400899</td>\n",
       "      <td>MAR 04, 2015 - CHA @ BKN</td>\n",
       "      <td>A</td>\n",
       "      <td>W</td>\n",
       "      <td>24</td>\n",
       "      <td>4</td>\n",
       "      <td>2</td>\n",
       "      <td>11:47</td>\n",
       "      <td>10.300000</td>\n",
       "      <td>2</td>\n",
       "      <td>...</td>\n",
       "      <td>17.2</td>\n",
       "      <td>2</td>\n",
       "      <td>0</td>\n",
       "      <td>Brown, Markel</td>\n",
       "      <td>203900</td>\n",
       "      <td>3.4</td>\n",
       "      <td>0</td>\n",
       "      <td>0</td>\n",
       "      <td>brian roberts</td>\n",
       "      <td>203148</td>\n",
       "    </tr>\n",
       "    <tr>\n",
       "      <th>4</th>\n",
       "      <td>21400899</td>\n",
       "      <td>MAR 04, 2015 - CHA @ BKN</td>\n",
       "      <td>A</td>\n",
       "      <td>W</td>\n",
       "      <td>24</td>\n",
       "      <td>5</td>\n",
       "      <td>2</td>\n",
       "      <td>10:34</td>\n",
       "      <td>10.900000</td>\n",
       "      <td>2</td>\n",
       "      <td>...</td>\n",
       "      <td>3.7</td>\n",
       "      <td>2</td>\n",
       "      <td>0</td>\n",
       "      <td>Young, Thaddeus</td>\n",
       "      <td>201152</td>\n",
       "      <td>1.1</td>\n",
       "      <td>0</td>\n",
       "      <td>0</td>\n",
       "      <td>brian roberts</td>\n",
       "      <td>203148</td>\n",
       "    </tr>\n",
       "  </tbody>\n",
       "</table>\n",
       "<p>5 rows × 21 columns</p>\n",
       "</div>"
      ],
      "text/plain": [
       "    GAME_ID                   MATCHUP LOCATION  W  FINAL_MARGIN  SHOT_NUMBER  \\\n",
       "0  21400899  MAR 04, 2015 - CHA @ BKN        A  W            24            1   \n",
       "1  21400899  MAR 04, 2015 - CHA @ BKN        A  W            24            2   \n",
       "2  21400899  MAR 04, 2015 - CHA @ BKN        A  W            24            3   \n",
       "3  21400899  MAR 04, 2015 - CHA @ BKN        A  W            24            4   \n",
       "4  21400899  MAR 04, 2015 - CHA @ BKN        A  W            24            5   \n",
       "\n",
       "   PERIOD GAME_CLOCK  SHOT_CLOCK  DRIBBLES  ...  SHOT_DIST  PTS_TYPE  \\\n",
       "0       1       1:09   10.800000         2  ...        7.7         2   \n",
       "1       1       0:14    3.400000         0  ...       28.2         3   \n",
       "2       1       0:00   12.453344         3  ...       10.1         2   \n",
       "3       2      11:47   10.300000         2  ...       17.2         2   \n",
       "4       2      10:34   10.900000         2  ...        3.7         2   \n",
       "\n",
       "   SHOT_RESULT   CLOSEST_DEFENDER CLOSEST_DEFENDER_PLAYER_ID  CLOSE_DEF_DIST  \\\n",
       "0            1     Anderson, Alan                     101187             1.3   \n",
       "1            0  Bogdanovic, Bojan                     202711             6.1   \n",
       "2            0  Bogdanovic, Bojan                     202711             0.9   \n",
       "3            0      Brown, Markel                     203900             3.4   \n",
       "4            0    Young, Thaddeus                     201152             1.1   \n",
       "\n",
       "   FGM  PTS    player_name player_id  \n",
       "0    1    2  brian roberts    203148  \n",
       "1    0    0  brian roberts    203148  \n",
       "2    0    0  brian roberts    203148  \n",
       "3    0    0  brian roberts    203148  \n",
       "4    0    0  brian roberts    203148  \n",
       "\n",
       "[5 rows x 21 columns]"
      ]
     },
     "execution_count": 53,
     "metadata": {},
     "output_type": "execute_result"
    }
   ],
   "source": [
    "df = df.replace([\"missed\",\"made\"],[0,1])\n",
    "print(df['SHOT_RESULT'].mean())\n",
    "df.head()"
   ]
  },
  {
   "cell_type": "code",
   "execution_count": 54,
   "metadata": {},
   "outputs": [
    {
     "name": "stdout",
     "output_type": "stream",
     "text": [
      "<class 'pandas.core.frame.DataFrame'>\n",
      "RangeIndex: 128069 entries, 0 to 128068\n",
      "Data columns (total 21 columns):\n",
      " #   Column                      Non-Null Count   Dtype  \n",
      "---  ------                      --------------   -----  \n",
      " 0   GAME_ID                     128069 non-null  int64  \n",
      " 1   MATCHUP                     128069 non-null  object \n",
      " 2   LOCATION                    128069 non-null  object \n",
      " 3   W                           128069 non-null  object \n",
      " 4   FINAL_MARGIN                128069 non-null  int64  \n",
      " 5   SHOT_NUMBER                 128069 non-null  int64  \n",
      " 6   PERIOD                      128069 non-null  int64  \n",
      " 7   GAME_CLOCK                  128069 non-null  object \n",
      " 8   SHOT_CLOCK                  128069 non-null  float64\n",
      " 9   DRIBBLES                    128069 non-null  int64  \n",
      " 10  TOUCH_TIME                  128069 non-null  float64\n",
      " 11  SHOT_DIST                   128069 non-null  float64\n",
      " 12  PTS_TYPE                    128069 non-null  int64  \n",
      " 13  SHOT_RESULT                 128069 non-null  int64  \n",
      " 14  CLOSEST_DEFENDER            128069 non-null  object \n",
      " 15  CLOSEST_DEFENDER_PLAYER_ID  128069 non-null  int64  \n",
      " 16  CLOSE_DEF_DIST              128069 non-null  float64\n",
      " 17  FGM                         128069 non-null  int64  \n",
      " 18  PTS                         128069 non-null  int64  \n",
      " 19  player_name                 128069 non-null  object \n",
      " 20  player_id                   128069 non-null  int64  \n",
      "dtypes: float64(4), int64(11), object(6)\n",
      "memory usage: 20.5+ MB\n"
     ]
    }
   ],
   "source": [
    "df.info()"
   ]
  },
  {
   "cell_type": "markdown",
   "metadata": {},
   "source": [
    " "
   ]
  },
  {
   "cell_type": "code",
   "execution_count": 55,
   "metadata": {},
   "outputs": [
    {
     "data": {
      "text/html": [
       "<div>\n",
       "<style scoped>\n",
       "    .dataframe tbody tr th:only-of-type {\n",
       "        vertical-align: middle;\n",
       "    }\n",
       "\n",
       "    .dataframe tbody tr th {\n",
       "        vertical-align: top;\n",
       "    }\n",
       "\n",
       "    .dataframe thead th {\n",
       "        text-align: right;\n",
       "    }\n",
       "</style>\n",
       "<table border=\"1\" class=\"dataframe\">\n",
       "  <thead>\n",
       "    <tr style=\"text-align: right;\">\n",
       "      <th></th>\n",
       "      <th>GAME_ID</th>\n",
       "      <th>FINAL_MARGIN</th>\n",
       "      <th>SHOT_NUMBER</th>\n",
       "      <th>PERIOD</th>\n",
       "      <th>SHOT_CLOCK</th>\n",
       "      <th>DRIBBLES</th>\n",
       "      <th>TOUCH_TIME</th>\n",
       "      <th>SHOT_DIST</th>\n",
       "      <th>PTS_TYPE</th>\n",
       "      <th>SHOT_RESULT</th>\n",
       "      <th>CLOSEST_DEFENDER_PLAYER_ID</th>\n",
       "      <th>CLOSE_DEF_DIST</th>\n",
       "      <th>FGM</th>\n",
       "      <th>PTS</th>\n",
       "      <th>player_id</th>\n",
       "    </tr>\n",
       "  </thead>\n",
       "  <tbody>\n",
       "    <tr>\n",
       "      <th>count</th>\n",
       "      <td>1.280690e+05</td>\n",
       "      <td>128069.000000</td>\n",
       "      <td>128069.000000</td>\n",
       "      <td>128069.000000</td>\n",
       "      <td>128069.000000</td>\n",
       "      <td>128069.000000</td>\n",
       "      <td>128069.000000</td>\n",
       "      <td>128069.000000</td>\n",
       "      <td>128069.000000</td>\n",
       "      <td>128069.000000</td>\n",
       "      <td>128069.000000</td>\n",
       "      <td>128069.000000</td>\n",
       "      <td>128069.000000</td>\n",
       "      <td>128069.000000</td>\n",
       "      <td>128069.000000</td>\n",
       "    </tr>\n",
       "    <tr>\n",
       "      <th>mean</th>\n",
       "      <td>2.140045e+07</td>\n",
       "      <td>0.208723</td>\n",
       "      <td>6.506899</td>\n",
       "      <td>2.469427</td>\n",
       "      <td>12.453344</td>\n",
       "      <td>2.023355</td>\n",
       "      <td>2.765901</td>\n",
       "      <td>13.571504</td>\n",
       "      <td>2.264670</td>\n",
       "      <td>0.452139</td>\n",
       "      <td>159038.487284</td>\n",
       "      <td>4.123015</td>\n",
       "      <td>0.452139</td>\n",
       "      <td>0.997314</td>\n",
       "      <td>157238.251247</td>\n",
       "    </tr>\n",
       "    <tr>\n",
       "      <th>std</th>\n",
       "      <td>2.578773e+02</td>\n",
       "      <td>13.233267</td>\n",
       "      <td>4.713260</td>\n",
       "      <td>1.139919</td>\n",
       "      <td>5.636611</td>\n",
       "      <td>3.477760</td>\n",
       "      <td>3.043682</td>\n",
       "      <td>8.888964</td>\n",
       "      <td>0.441159</td>\n",
       "      <td>0.497706</td>\n",
       "      <td>78791.172947</td>\n",
       "      <td>2.756446</td>\n",
       "      <td>0.497706</td>\n",
       "      <td>1.130978</td>\n",
       "      <td>79362.389336</td>\n",
       "    </tr>\n",
       "    <tr>\n",
       "      <th>min</th>\n",
       "      <td>2.140000e+07</td>\n",
       "      <td>-53.000000</td>\n",
       "      <td>1.000000</td>\n",
       "      <td>1.000000</td>\n",
       "      <td>0.000000</td>\n",
       "      <td>0.000000</td>\n",
       "      <td>-163.600000</td>\n",
       "      <td>0.000000</td>\n",
       "      <td>2.000000</td>\n",
       "      <td>0.000000</td>\n",
       "      <td>708.000000</td>\n",
       "      <td>0.000000</td>\n",
       "      <td>0.000000</td>\n",
       "      <td>0.000000</td>\n",
       "      <td>708.000000</td>\n",
       "    </tr>\n",
       "    <tr>\n",
       "      <th>25%</th>\n",
       "      <td>2.140023e+07</td>\n",
       "      <td>-8.000000</td>\n",
       "      <td>3.000000</td>\n",
       "      <td>1.000000</td>\n",
       "      <td>8.400000</td>\n",
       "      <td>0.000000</td>\n",
       "      <td>0.900000</td>\n",
       "      <td>4.700000</td>\n",
       "      <td>2.000000</td>\n",
       "      <td>0.000000</td>\n",
       "      <td>101249.000000</td>\n",
       "      <td>2.300000</td>\n",
       "      <td>0.000000</td>\n",
       "      <td>0.000000</td>\n",
       "      <td>101162.000000</td>\n",
       "    </tr>\n",
       "    <tr>\n",
       "      <th>50%</th>\n",
       "      <td>2.140045e+07</td>\n",
       "      <td>1.000000</td>\n",
       "      <td>5.000000</td>\n",
       "      <td>2.000000</td>\n",
       "      <td>12.453344</td>\n",
       "      <td>1.000000</td>\n",
       "      <td>1.600000</td>\n",
       "      <td>13.700000</td>\n",
       "      <td>2.000000</td>\n",
       "      <td>0.000000</td>\n",
       "      <td>201949.000000</td>\n",
       "      <td>3.700000</td>\n",
       "      <td>0.000000</td>\n",
       "      <td>0.000000</td>\n",
       "      <td>201939.000000</td>\n",
       "    </tr>\n",
       "    <tr>\n",
       "      <th>75%</th>\n",
       "      <td>2.140067e+07</td>\n",
       "      <td>9.000000</td>\n",
       "      <td>9.000000</td>\n",
       "      <td>3.000000</td>\n",
       "      <td>16.400000</td>\n",
       "      <td>2.000000</td>\n",
       "      <td>3.700000</td>\n",
       "      <td>22.500000</td>\n",
       "      <td>3.000000</td>\n",
       "      <td>1.000000</td>\n",
       "      <td>203079.000000</td>\n",
       "      <td>5.300000</td>\n",
       "      <td>1.000000</td>\n",
       "      <td>2.000000</td>\n",
       "      <td>202704.000000</td>\n",
       "    </tr>\n",
       "    <tr>\n",
       "      <th>max</th>\n",
       "      <td>2.140091e+07</td>\n",
       "      <td>53.000000</td>\n",
       "      <td>38.000000</td>\n",
       "      <td>7.000000</td>\n",
       "      <td>24.000000</td>\n",
       "      <td>32.000000</td>\n",
       "      <td>24.900000</td>\n",
       "      <td>47.200000</td>\n",
       "      <td>3.000000</td>\n",
       "      <td>1.000000</td>\n",
       "      <td>530027.000000</td>\n",
       "      <td>53.200000</td>\n",
       "      <td>1.000000</td>\n",
       "      <td>3.000000</td>\n",
       "      <td>204060.000000</td>\n",
       "    </tr>\n",
       "  </tbody>\n",
       "</table>\n",
       "</div>"
      ],
      "text/plain": [
       "            GAME_ID   FINAL_MARGIN    SHOT_NUMBER         PERIOD  \\\n",
       "count  1.280690e+05  128069.000000  128069.000000  128069.000000   \n",
       "mean   2.140045e+07       0.208723       6.506899       2.469427   \n",
       "std    2.578773e+02      13.233267       4.713260       1.139919   \n",
       "min    2.140000e+07     -53.000000       1.000000       1.000000   \n",
       "25%    2.140023e+07      -8.000000       3.000000       1.000000   \n",
       "50%    2.140045e+07       1.000000       5.000000       2.000000   \n",
       "75%    2.140067e+07       9.000000       9.000000       3.000000   \n",
       "max    2.140091e+07      53.000000      38.000000       7.000000   \n",
       "\n",
       "          SHOT_CLOCK       DRIBBLES     TOUCH_TIME      SHOT_DIST  \\\n",
       "count  128069.000000  128069.000000  128069.000000  128069.000000   \n",
       "mean       12.453344       2.023355       2.765901      13.571504   \n",
       "std         5.636611       3.477760       3.043682       8.888964   \n",
       "min         0.000000       0.000000    -163.600000       0.000000   \n",
       "25%         8.400000       0.000000       0.900000       4.700000   \n",
       "50%        12.453344       1.000000       1.600000      13.700000   \n",
       "75%        16.400000       2.000000       3.700000      22.500000   \n",
       "max        24.000000      32.000000      24.900000      47.200000   \n",
       "\n",
       "            PTS_TYPE    SHOT_RESULT  CLOSEST_DEFENDER_PLAYER_ID  \\\n",
       "count  128069.000000  128069.000000               128069.000000   \n",
       "mean        2.264670       0.452139               159038.487284   \n",
       "std         0.441159       0.497706                78791.172947   \n",
       "min         2.000000       0.000000                  708.000000   \n",
       "25%         2.000000       0.000000               101249.000000   \n",
       "50%         2.000000       0.000000               201949.000000   \n",
       "75%         3.000000       1.000000               203079.000000   \n",
       "max         3.000000       1.000000               530027.000000   \n",
       "\n",
       "       CLOSE_DEF_DIST            FGM            PTS      player_id  \n",
       "count   128069.000000  128069.000000  128069.000000  128069.000000  \n",
       "mean         4.123015       0.452139       0.997314  157238.251247  \n",
       "std          2.756446       0.497706       1.130978   79362.389336  \n",
       "min          0.000000       0.000000       0.000000     708.000000  \n",
       "25%          2.300000       0.000000       0.000000  101162.000000  \n",
       "50%          3.700000       0.000000       0.000000  201939.000000  \n",
       "75%          5.300000       1.000000       2.000000  202704.000000  \n",
       "max         53.200000       1.000000       3.000000  204060.000000  "
      ]
     },
     "execution_count": 55,
     "metadata": {},
     "output_type": "execute_result"
    }
   ],
   "source": [
    "df.describe()"
   ]
  },
  {
   "cell_type": "markdown",
   "metadata": {},
   "source": [
    "we can see that the Touch_time column has a min value that is negative which is not possible"
   ]
  },
  {
   "cell_type": "code",
   "execution_count": 56,
   "metadata": {},
   "outputs": [
    {
     "data": {
      "text/plain": [
       "(312, 21)"
      ]
     },
     "execution_count": 56,
     "metadata": {},
     "output_type": "execute_result"
    }
   ],
   "source": [
    "negative = df.loc[df[\"TOUCH_TIME\"]<0]\n",
    "negative.shape"
   ]
  },
  {
   "cell_type": "code",
   "execution_count": 57,
   "metadata": {},
   "outputs": [
    {
     "data": {
      "text/html": [
       "<div>\n",
       "<style scoped>\n",
       "    .dataframe tbody tr th:only-of-type {\n",
       "        vertical-align: middle;\n",
       "    }\n",
       "\n",
       "    .dataframe tbody tr th {\n",
       "        vertical-align: top;\n",
       "    }\n",
       "\n",
       "    .dataframe thead th {\n",
       "        text-align: right;\n",
       "    }\n",
       "</style>\n",
       "<table border=\"1\" class=\"dataframe\">\n",
       "  <thead>\n",
       "    <tr style=\"text-align: right;\">\n",
       "      <th></th>\n",
       "      <th>GAME_ID</th>\n",
       "      <th>MATCHUP</th>\n",
       "      <th>LOCATION</th>\n",
       "      <th>W</th>\n",
       "      <th>FINAL_MARGIN</th>\n",
       "      <th>SHOT_NUMBER</th>\n",
       "      <th>PERIOD</th>\n",
       "      <th>GAME_CLOCK</th>\n",
       "      <th>SHOT_CLOCK</th>\n",
       "      <th>DRIBBLES</th>\n",
       "      <th>...</th>\n",
       "      <th>SHOT_DIST</th>\n",
       "      <th>PTS_TYPE</th>\n",
       "      <th>SHOT_RESULT</th>\n",
       "      <th>CLOSEST_DEFENDER</th>\n",
       "      <th>CLOSEST_DEFENDER_PLAYER_ID</th>\n",
       "      <th>CLOSE_DEF_DIST</th>\n",
       "      <th>FGM</th>\n",
       "      <th>PTS</th>\n",
       "      <th>player_name</th>\n",
       "      <th>player_id</th>\n",
       "    </tr>\n",
       "  </thead>\n",
       "  <tbody>\n",
       "    <tr>\n",
       "      <th>0</th>\n",
       "      <td>21400899</td>\n",
       "      <td>MAR 04, 2015 - CHA @ BKN</td>\n",
       "      <td>A</td>\n",
       "      <td>W</td>\n",
       "      <td>24</td>\n",
       "      <td>1</td>\n",
       "      <td>1</td>\n",
       "      <td>1:09</td>\n",
       "      <td>10.800000</td>\n",
       "      <td>2</td>\n",
       "      <td>...</td>\n",
       "      <td>7.7</td>\n",
       "      <td>2</td>\n",
       "      <td>1</td>\n",
       "      <td>Anderson, Alan</td>\n",
       "      <td>101187</td>\n",
       "      <td>1.3</td>\n",
       "      <td>1</td>\n",
       "      <td>2</td>\n",
       "      <td>brian roberts</td>\n",
       "      <td>203148</td>\n",
       "    </tr>\n",
       "    <tr>\n",
       "      <th>1</th>\n",
       "      <td>21400899</td>\n",
       "      <td>MAR 04, 2015 - CHA @ BKN</td>\n",
       "      <td>A</td>\n",
       "      <td>W</td>\n",
       "      <td>24</td>\n",
       "      <td>2</td>\n",
       "      <td>1</td>\n",
       "      <td>0:14</td>\n",
       "      <td>3.400000</td>\n",
       "      <td>0</td>\n",
       "      <td>...</td>\n",
       "      <td>28.2</td>\n",
       "      <td>3</td>\n",
       "      <td>0</td>\n",
       "      <td>Bogdanovic, Bojan</td>\n",
       "      <td>202711</td>\n",
       "      <td>6.1</td>\n",
       "      <td>0</td>\n",
       "      <td>0</td>\n",
       "      <td>brian roberts</td>\n",
       "      <td>203148</td>\n",
       "    </tr>\n",
       "    <tr>\n",
       "      <th>2</th>\n",
       "      <td>21400899</td>\n",
       "      <td>MAR 04, 2015 - CHA @ BKN</td>\n",
       "      <td>A</td>\n",
       "      <td>W</td>\n",
       "      <td>24</td>\n",
       "      <td>3</td>\n",
       "      <td>1</td>\n",
       "      <td>0:00</td>\n",
       "      <td>12.453344</td>\n",
       "      <td>3</td>\n",
       "      <td>...</td>\n",
       "      <td>10.1</td>\n",
       "      <td>2</td>\n",
       "      <td>0</td>\n",
       "      <td>Bogdanovic, Bojan</td>\n",
       "      <td>202711</td>\n",
       "      <td>0.9</td>\n",
       "      <td>0</td>\n",
       "      <td>0</td>\n",
       "      <td>brian roberts</td>\n",
       "      <td>203148</td>\n",
       "    </tr>\n",
       "    <tr>\n",
       "      <th>3</th>\n",
       "      <td>21400899</td>\n",
       "      <td>MAR 04, 2015 - CHA @ BKN</td>\n",
       "      <td>A</td>\n",
       "      <td>W</td>\n",
       "      <td>24</td>\n",
       "      <td>4</td>\n",
       "      <td>2</td>\n",
       "      <td>11:47</td>\n",
       "      <td>10.300000</td>\n",
       "      <td>2</td>\n",
       "      <td>...</td>\n",
       "      <td>17.2</td>\n",
       "      <td>2</td>\n",
       "      <td>0</td>\n",
       "      <td>Brown, Markel</td>\n",
       "      <td>203900</td>\n",
       "      <td>3.4</td>\n",
       "      <td>0</td>\n",
       "      <td>0</td>\n",
       "      <td>brian roberts</td>\n",
       "      <td>203148</td>\n",
       "    </tr>\n",
       "    <tr>\n",
       "      <th>4</th>\n",
       "      <td>21400899</td>\n",
       "      <td>MAR 04, 2015 - CHA @ BKN</td>\n",
       "      <td>A</td>\n",
       "      <td>W</td>\n",
       "      <td>24</td>\n",
       "      <td>5</td>\n",
       "      <td>2</td>\n",
       "      <td>10:34</td>\n",
       "      <td>10.900000</td>\n",
       "      <td>2</td>\n",
       "      <td>...</td>\n",
       "      <td>3.7</td>\n",
       "      <td>2</td>\n",
       "      <td>0</td>\n",
       "      <td>Young, Thaddeus</td>\n",
       "      <td>201152</td>\n",
       "      <td>1.1</td>\n",
       "      <td>0</td>\n",
       "      <td>0</td>\n",
       "      <td>brian roberts</td>\n",
       "      <td>203148</td>\n",
       "    </tr>\n",
       "  </tbody>\n",
       "</table>\n",
       "<p>5 rows × 21 columns</p>\n",
       "</div>"
      ],
      "text/plain": [
       "    GAME_ID                   MATCHUP LOCATION  W  FINAL_MARGIN  SHOT_NUMBER  \\\n",
       "0  21400899  MAR 04, 2015 - CHA @ BKN        A  W            24            1   \n",
       "1  21400899  MAR 04, 2015 - CHA @ BKN        A  W            24            2   \n",
       "2  21400899  MAR 04, 2015 - CHA @ BKN        A  W            24            3   \n",
       "3  21400899  MAR 04, 2015 - CHA @ BKN        A  W            24            4   \n",
       "4  21400899  MAR 04, 2015 - CHA @ BKN        A  W            24            5   \n",
       "\n",
       "   PERIOD GAME_CLOCK  SHOT_CLOCK  DRIBBLES  ...  SHOT_DIST  PTS_TYPE  \\\n",
       "0       1       1:09   10.800000         2  ...        7.7         2   \n",
       "1       1       0:14    3.400000         0  ...       28.2         3   \n",
       "2       1       0:00   12.453344         3  ...       10.1         2   \n",
       "3       2      11:47   10.300000         2  ...       17.2         2   \n",
       "4       2      10:34   10.900000         2  ...        3.7         2   \n",
       "\n",
       "   SHOT_RESULT   CLOSEST_DEFENDER CLOSEST_DEFENDER_PLAYER_ID  CLOSE_DEF_DIST  \\\n",
       "0            1     Anderson, Alan                     101187             1.3   \n",
       "1            0  Bogdanovic, Bojan                     202711             6.1   \n",
       "2            0  Bogdanovic, Bojan                     202711             0.9   \n",
       "3            0      Brown, Markel                     203900             3.4   \n",
       "4            0    Young, Thaddeus                     201152             1.1   \n",
       "\n",
       "   FGM  PTS    player_name player_id  \n",
       "0    1    2  brian roberts    203148  \n",
       "1    0    0  brian roberts    203148  \n",
       "2    0    0  brian roberts    203148  \n",
       "3    0    0  brian roberts    203148  \n",
       "4    0    0  brian roberts    203148  \n",
       "\n",
       "[5 rows x 21 columns]"
      ]
     },
     "execution_count": 57,
     "metadata": {},
     "output_type": "execute_result"
    }
   ],
   "source": [
    "#we can see that we have 312 values that are negative, we will assign touch_time.mean() for the negative values\n",
    "change_to = df.TOUCH_TIME.mean()\n",
    "df.loc[(df.TOUCH_TIME < 0),'TOUCH_TIME'] = change_to\n",
    "df.head()"
   ]
  },
  {
   "cell_type": "markdown",
   "metadata": {},
   "source": [
    "Lets try to determine what columns are usefull and what are not when trying to predict whether a shot went in or not, and skip the matchup column\n",
    "\n",
    "first we will look at the shot number column and check what happens to the shot precentege as the player shoots more shots at the same game, and wil ldivide those by 10 shots, <10 , 10-20 , 20-30 , 30<"
   ]
  },
  {
   "cell_type": "code",
   "execution_count": 58,
   "metadata": {},
   "outputs": [
    {
     "name": "stdout",
     "output_type": "stream",
     "text": [
      "[45.44207177631645, 45.21390812764994, 45.21390812764994, 48.148148148148145]\n"
     ]
    },
    {
     "data": {
      "image/png": "[encoded data removed]",
      "text/plain": [
       "<Figure size 720x360 with 1 Axes>"
      ]
     },
     "metadata": {},
     "output_type": "display_data"
    }
   ],
   "source": [
    "less_then_10 = df.loc[df[\"SHOT_NUMBER\"] < 10]\n",
    "between_10_20 = df.loc[(df[\"SHOT_NUMBER\"] >= 10) & (df[\"SHOT_NUMBER\"]) < 20]\n",
    "between_20_30 = df.loc[(df[\"SHOT_NUMBER\"] >= 20) & (df[\"SHOT_NUMBER\"]) < 30]\n",
    "more_then_30 = df.loc[df[\"SHOT_NUMBER\"] > 30]\n",
    "per_10 = less_then_10.loc[less_then_10[\"SHOT_RESULT\"] == 1].shape[0]/less_then_10.shape[0]\n",
    "per_10_20 = between_10_20.loc[between_10_20[\"SHOT_RESULT\"] == 1].shape[0]/between_10_20.shape[0]\n",
    "per_20_30 = between_20_30.loc[between_20_30[\"SHOT_RESULT\"] == 1].shape[0]/between_20_30.shape[0]\n",
    "per_30_plus = more_then_30.loc[more_then_30[\"SHOT_RESULT\"] == 1].shape[0]/more_then_30.shape[0]\n",
    "precentege = [per_10*100,per_10_20*100,per_20_30*100,per_30_plus*100]\n",
    "plt.figure(figsize = [10,5])\n",
    "shot_number = ['shot number <10','shot number 10-20','shot number 20-30','shot number > 30']\n",
    "plt.bar(shot_number, height = precentege)\n",
    "plt.ylabel(\"Shots Made (%)\")\n",
    "plt.title(\"% of shots made according shot number in the game\")\n",
    "print(precentege)\n",
    "#as we can see the precentege of the shot going in goes up with the shot number, so we will keep those values"
   ]
  },
  {
   "cell_type": "code",
   "execution_count": null,
   "metadata": {},
   "outputs": [],
   "source": []
  },
  {
   "cell_type": "markdown",
   "metadata": {},
   "source": [
    "next we will look if the fact the team won the game or lost changes the result of the shot"
   ]
  },
  {
   "cell_type": "code",
   "execution_count": 59,
   "metadata": {},
   "outputs": [
    {
     "name": "stdout",
     "output_type": "stream",
     "text": [
      "[0.4769254586268287, 0.4269149573053534]\n"
     ]
    },
    {
     "data": {
      "image/png": "[encoded data removed]",
      "text/plain": [
       "<Figure size 720x360 with 1 Axes>"
      ]
     },
     "metadata": {},
     "output_type": "display_data"
    }
   ],
   "source": [
    "w_shots = df.loc[df[\"W\"] == \"W\"]\n",
    "l_shots = df.loc[df[\"W\"] == 'L']\n",
    "w_shots_per = w_shots.loc[w_shots[\"SHOT_RESULT\"] == 1].shape[0]/w_shots.shape[0]\n",
    "l_shots_per = l_shots.loc[l_shots[\"SHOT_RESULT\"] == 1].shape[0]/l_shots.shape[0]\n",
    "per_arr = [w_shots_per,l_shots_per]\n",
    "plt.figure(figsize = [10,5])\n",
    "plt.ylabel(\"% of shots made\")\n",
    "plt.title(\"% of shots made according to result of game(W or L)\")\n",
    "plt.bar([\"game won\",\"game lost\"], height = per_arr)\n",
    "print(per_arr)"
   ]
  },
  {
   "cell_type": "markdown",
   "metadata": {},
   "source": [
    "as we see the result of the game changes the outcome, so we will keep this column and change it to numericl values(W = 0, L = 1)\n",
    "\n",
    "next we will chack the final margin column, a close game is if the final margin was <5, then we will check the margin between 5-15, then 15-25 and then 25+\n",
    "\n",
    "negative values in the margin column mean that the team lost by that amount, so we will check those too"
   ]
  },
  {
   "cell_type": "code",
   "execution_count": 60,
   "metadata": {},
   "outputs": [
    {
     "data": {
      "text/plain": [
       "Text(0.5, 1.0, '% of shots made according to game result and final margin')"
      ]
     },
     "execution_count": 60,
     "metadata": {},
     "output_type": "execute_result"
    },
    {
     "data": {
      "image/png": "[encoded data removed]",
      "text/plain": [
       "<Figure size 1440x720 with 1 Axes>"
      ]
     },
     "metadata": {},
     "output_type": "display_data"
    }
   ],
   "source": [
    "close_game_w = df.loc[(df[\"FINAL_MARGIN\"] < 5) & (df[\"FINAL_MARGIN\"] > 0)]\n",
    "between_5_15_w = df.loc[(df[\"FINAL_MARGIN\"] < 15) & (df[\"FINAL_MARGIN\"] >= 5)]\n",
    "between_15_25_w = df.loc[(df[\"FINAL_MARGIN\"] < 25) & (df[\"FINAL_MARGIN\"] >= 15)]\n",
    "more_then_25_w = df.loc[(df[\"FINAL_MARGIN\"] > 25)]\n",
    "close_game_l = df.loc[(abs(df[\"FINAL_MARGIN\"]) < 5) & (df[\"W\"] == \"L\")]\n",
    "between_5_15_l = df.loc[(abs(df[\"FINAL_MARGIN\"]) < 15) & (abs(df[\"FINAL_MARGIN\"]) >= 5) & (df[\"W\"] == \"L\")]\n",
    "between_15_25_l = df.loc[(abs(df[\"FINAL_MARGIN\"]) < 25) & (abs(df[\"FINAL_MARGIN\"]) >= 15) & (df[\"W\"] == \"L\")]\n",
    "more_then_25_l = df.loc[(df[\"FINAL_MARGIN\"] < -25)]\n",
    "per_1 = close_game_w.loc[close_game_w[\"SHOT_RESULT\"] == 1].shape[0]/close_game_w.shape[0]\n",
    "per_2 =  between_5_15_w.loc[between_5_15_w[\"SHOT_RESULT\"] == 1].shape[0]/between_5_15_w.shape[0]\n",
    "per_3 = between_15_25_w.loc[between_15_25_w[\"SHOT_RESULT\"] == 1].shape[0]/between_15_25_w.shape[0]\n",
    "per_4 = more_then_25_w.loc[more_then_25_w[\"SHOT_RESULT\"] == 1].shape[0]/more_then_25_w.shape[0]\n",
    "per_5 = close_game_l.loc[close_game_l[\"SHOT_RESULT\"] == 1].shape[0]/close_game_l.shape[0]\n",
    "per_6 = between_5_15_l.loc[between_5_15_l[\"SHOT_RESULT\"] == 1].shape[0]/between_5_15_l.shape[0]\n",
    "per_7 = between_15_25_l.loc[between_15_25_l[\"SHOT_RESULT\"] == 1].shape[0]/between_15_25_l.shape[0]\n",
    "per_8 = more_then_25_l.loc[more_then_25_l[\"SHOT_RESULT\"] == 1].shape[0]/more_then_25_l.shape[0]\n",
    "per_arr = [per_1,per_2,per_3,per_4,per_5,per_6,per_7,per_8]\n",
    "xlabel = [\"close game won\",\"won by 5-15 points\",\"won by 15-25 points\",\"won by more then 25 points\",\"close game lost\",\"lost by 5-15 points\", \"lost by 15-25 points\",\"lost by more then 25+\"]\n",
    "plt.figure(figsize = [20,10])\n",
    "plt.bar(xlabel, height = per_arr)\n",
    "plt.ylabel(\"% of shots made\")\n",
    "plt.title(\"% of shots made according to game result and final margin\")"
   ]
  },
  {
   "cell_type": "markdown",
   "metadata": {},
   "source": [
    "as we see there is a big difference, so we will leave it"
   ]
  },
  {
   "cell_type": "markdown",
   "metadata": {},
   "source": [
    "Deleting all the columns that are not usefull when trying to determine whether a shot went in or not\n",
    "\n",
    "we want to make it general and not by player, so all the columns according to players we will remove, and the FGM and POINTS columns are the shot_result and pts_type accordingly, so we can remove those as well"
   ]
  },
  {
   "cell_type": "code",
   "execution_count": 61,
   "metadata": {},
   "outputs": [
    {
     "data": {
      "text/html": [
       "<div>\n",
       "<style scoped>\n",
       "    .dataframe tbody tr th:only-of-type {\n",
       "        vertical-align: middle;\n",
       "    }\n",
       "\n",
       "    .dataframe tbody tr th {\n",
       "        vertical-align: top;\n",
       "    }\n",
       "\n",
       "    .dataframe thead th {\n",
       "        text-align: right;\n",
       "    }\n",
       "</style>\n",
       "<table border=\"1\" class=\"dataframe\">\n",
       "  <thead>\n",
       "    <tr style=\"text-align: right;\">\n",
       "      <th></th>\n",
       "      <th>GAME_ID</th>\n",
       "      <th>LOCATION</th>\n",
       "      <th>W</th>\n",
       "      <th>FINAL_MARGIN</th>\n",
       "      <th>SHOT_NUMBER</th>\n",
       "      <th>PERIOD</th>\n",
       "      <th>GAME_CLOCK</th>\n",
       "      <th>SHOT_CLOCK</th>\n",
       "      <th>DRIBBLES</th>\n",
       "      <th>TOUCH_TIME</th>\n",
       "      <th>SHOT_DIST</th>\n",
       "      <th>PTS_TYPE</th>\n",
       "      <th>SHOT_RESULT</th>\n",
       "      <th>CLOSE_DEF_DIST</th>\n",
       "    </tr>\n",
       "  </thead>\n",
       "  <tbody>\n",
       "    <tr>\n",
       "      <th>0</th>\n",
       "      <td>21400899</td>\n",
       "      <td>A</td>\n",
       "      <td>W</td>\n",
       "      <td>24</td>\n",
       "      <td>1</td>\n",
       "      <td>1</td>\n",
       "      <td>1:09</td>\n",
       "      <td>10.800000</td>\n",
       "      <td>2</td>\n",
       "      <td>1.9</td>\n",
       "      <td>7.7</td>\n",
       "      <td>2</td>\n",
       "      <td>1</td>\n",
       "      <td>1.3</td>\n",
       "    </tr>\n",
       "    <tr>\n",
       "      <th>1</th>\n",
       "      <td>21400899</td>\n",
       "      <td>A</td>\n",
       "      <td>W</td>\n",
       "      <td>24</td>\n",
       "      <td>2</td>\n",
       "      <td>1</td>\n",
       "      <td>0:14</td>\n",
       "      <td>3.400000</td>\n",
       "      <td>0</td>\n",
       "      <td>0.8</td>\n",
       "      <td>28.2</td>\n",
       "      <td>3</td>\n",
       "      <td>0</td>\n",
       "      <td>6.1</td>\n",
       "    </tr>\n",
       "    <tr>\n",
       "      <th>2</th>\n",
       "      <td>21400899</td>\n",
       "      <td>A</td>\n",
       "      <td>W</td>\n",
       "      <td>24</td>\n",
       "      <td>3</td>\n",
       "      <td>1</td>\n",
       "      <td>0:00</td>\n",
       "      <td>12.453344</td>\n",
       "      <td>3</td>\n",
       "      <td>2.7</td>\n",
       "      <td>10.1</td>\n",
       "      <td>2</td>\n",
       "      <td>0</td>\n",
       "      <td>0.9</td>\n",
       "    </tr>\n",
       "    <tr>\n",
       "      <th>3</th>\n",
       "      <td>21400899</td>\n",
       "      <td>A</td>\n",
       "      <td>W</td>\n",
       "      <td>24</td>\n",
       "      <td>4</td>\n",
       "      <td>2</td>\n",
       "      <td>11:47</td>\n",
       "      <td>10.300000</td>\n",
       "      <td>2</td>\n",
       "      <td>1.9</td>\n",
       "      <td>17.2</td>\n",
       "      <td>2</td>\n",
       "      <td>0</td>\n",
       "      <td>3.4</td>\n",
       "    </tr>\n",
       "    <tr>\n",
       "      <th>4</th>\n",
       "      <td>21400899</td>\n",
       "      <td>A</td>\n",
       "      <td>W</td>\n",
       "      <td>24</td>\n",
       "      <td>5</td>\n",
       "      <td>2</td>\n",
       "      <td>10:34</td>\n",
       "      <td>10.900000</td>\n",
       "      <td>2</td>\n",
       "      <td>2.7</td>\n",
       "      <td>3.7</td>\n",
       "      <td>2</td>\n",
       "      <td>0</td>\n",
       "      <td>1.1</td>\n",
       "    </tr>\n",
       "  </tbody>\n",
       "</table>\n",
       "</div>"
      ],
      "text/plain": [
       "    GAME_ID LOCATION  W  FINAL_MARGIN  SHOT_NUMBER  PERIOD GAME_CLOCK  \\\n",
       "0  21400899        A  W            24            1       1       1:09   \n",
       "1  21400899        A  W            24            2       1       0:14   \n",
       "2  21400899        A  W            24            3       1       0:00   \n",
       "3  21400899        A  W            24            4       2      11:47   \n",
       "4  21400899        A  W            24            5       2      10:34   \n",
       "\n",
       "   SHOT_CLOCK  DRIBBLES  TOUCH_TIME  SHOT_DIST  PTS_TYPE  SHOT_RESULT  \\\n",
       "0   10.800000         2         1.9        7.7         2            1   \n",
       "1    3.400000         0         0.8       28.2         3            0   \n",
       "2   12.453344         3         2.7       10.1         2            0   \n",
       "3   10.300000         2         1.9       17.2         2            0   \n",
       "4   10.900000         2         2.7        3.7         2            0   \n",
       "\n",
       "   CLOSE_DEF_DIST  \n",
       "0             1.3  \n",
       "1             6.1  \n",
       "2             0.9  \n",
       "3             3.4  \n",
       "4             1.1  "
      ]
     },
     "execution_count": 61,
     "metadata": {},
     "output_type": "execute_result"
    }
   ],
   "source": [
    "df = df.drop(columns = [\"MATCHUP\",\"player_name\" ,\"player_id\", \"CLOSEST_DEFENDER\",\"CLOSEST_DEFENDER_PLAYER_ID\",\"FGM\",\"PTS\"])\n",
    "df.head()"
   ]
  },
  {
   "cell_type": "markdown",
   "metadata": {},
   "source": [
    " "
   ]
  },
  {
   "cell_type": "markdown",
   "metadata": {},
   "source": [
    " "
   ]
  },
  {
   "cell_type": "markdown",
   "metadata": {},
   "source": [
    " "
   ]
  },
  {
   "cell_type": "markdown",
   "metadata": {},
   "source": [
    "\n"
   ]
  },
  {
   "cell_type": "code",
   "execution_count": 62,
   "metadata": {
    "scrolled": true
   },
   "outputs": [
    {
     "data": {
      "text/html": [
       "<div>\n",
       "<style scoped>\n",
       "    .dataframe tbody tr th:only-of-type {\n",
       "        vertical-align: middle;\n",
       "    }\n",
       "\n",
       "    .dataframe tbody tr th {\n",
       "        vertical-align: top;\n",
       "    }\n",
       "\n",
       "    .dataframe thead th {\n",
       "        text-align: right;\n",
       "    }\n",
       "</style>\n",
       "<table border=\"1\" class=\"dataframe\">\n",
       "  <thead>\n",
       "    <tr style=\"text-align: right;\">\n",
       "      <th></th>\n",
       "      <th>GAME_ID</th>\n",
       "      <th>LOCATION</th>\n",
       "      <th>W</th>\n",
       "      <th>FINAL_MARGIN</th>\n",
       "      <th>SHOT_NUMBER</th>\n",
       "      <th>PERIOD</th>\n",
       "      <th>GAME_CLOCK</th>\n",
       "      <th>SHOT_CLOCK</th>\n",
       "      <th>DRIBBLES</th>\n",
       "      <th>TOUCH_TIME</th>\n",
       "      <th>SHOT_DIST</th>\n",
       "      <th>PTS_TYPE</th>\n",
       "      <th>SHOT_RESULT</th>\n",
       "      <th>CLOSE_DEF_DIST</th>\n",
       "    </tr>\n",
       "  </thead>\n",
       "  <tbody>\n",
       "    <tr>\n",
       "      <th>0</th>\n",
       "      <td>21400899</td>\n",
       "      <td>A</td>\n",
       "      <td>0.0</td>\n",
       "      <td>24</td>\n",
       "      <td>1</td>\n",
       "      <td>1</td>\n",
       "      <td>1:09</td>\n",
       "      <td>10.800000</td>\n",
       "      <td>2</td>\n",
       "      <td>1.9</td>\n",
       "      <td>7.7</td>\n",
       "      <td>2</td>\n",
       "      <td>1</td>\n",
       "      <td>1.3</td>\n",
       "    </tr>\n",
       "    <tr>\n",
       "      <th>1</th>\n",
       "      <td>21400899</td>\n",
       "      <td>A</td>\n",
       "      <td>0.0</td>\n",
       "      <td>24</td>\n",
       "      <td>2</td>\n",
       "      <td>1</td>\n",
       "      <td>0:14</td>\n",
       "      <td>3.400000</td>\n",
       "      <td>0</td>\n",
       "      <td>0.8</td>\n",
       "      <td>28.2</td>\n",
       "      <td>3</td>\n",
       "      <td>0</td>\n",
       "      <td>6.1</td>\n",
       "    </tr>\n",
       "    <tr>\n",
       "      <th>2</th>\n",
       "      <td>21400899</td>\n",
       "      <td>A</td>\n",
       "      <td>0.0</td>\n",
       "      <td>24</td>\n",
       "      <td>3</td>\n",
       "      <td>1</td>\n",
       "      <td>0:00</td>\n",
       "      <td>12.453344</td>\n",
       "      <td>3</td>\n",
       "      <td>2.7</td>\n",
       "      <td>10.1</td>\n",
       "      <td>2</td>\n",
       "      <td>0</td>\n",
       "      <td>0.9</td>\n",
       "    </tr>\n",
       "    <tr>\n",
       "      <th>3</th>\n",
       "      <td>21400899</td>\n",
       "      <td>A</td>\n",
       "      <td>0.0</td>\n",
       "      <td>24</td>\n",
       "      <td>4</td>\n",
       "      <td>2</td>\n",
       "      <td>11:47</td>\n",
       "      <td>10.300000</td>\n",
       "      <td>2</td>\n",
       "      <td>1.9</td>\n",
       "      <td>17.2</td>\n",
       "      <td>2</td>\n",
       "      <td>0</td>\n",
       "      <td>3.4</td>\n",
       "    </tr>\n",
       "    <tr>\n",
       "      <th>4</th>\n",
       "      <td>21400899</td>\n",
       "      <td>A</td>\n",
       "      <td>0.0</td>\n",
       "      <td>24</td>\n",
       "      <td>5</td>\n",
       "      <td>2</td>\n",
       "      <td>10:34</td>\n",
       "      <td>10.900000</td>\n",
       "      <td>2</td>\n",
       "      <td>2.7</td>\n",
       "      <td>3.7</td>\n",
       "      <td>2</td>\n",
       "      <td>0</td>\n",
       "      <td>1.1</td>\n",
       "    </tr>\n",
       "    <tr>\n",
       "      <th>5</th>\n",
       "      <td>21400899</td>\n",
       "      <td>A</td>\n",
       "      <td>0.0</td>\n",
       "      <td>24</td>\n",
       "      <td>6</td>\n",
       "      <td>2</td>\n",
       "      <td>8:15</td>\n",
       "      <td>9.100000</td>\n",
       "      <td>2</td>\n",
       "      <td>4.4</td>\n",
       "      <td>18.4</td>\n",
       "      <td>2</td>\n",
       "      <td>0</td>\n",
       "      <td>2.6</td>\n",
       "    </tr>\n",
       "    <tr>\n",
       "      <th>6</th>\n",
       "      <td>21400899</td>\n",
       "      <td>A</td>\n",
       "      <td>0.0</td>\n",
       "      <td>24</td>\n",
       "      <td>7</td>\n",
       "      <td>4</td>\n",
       "      <td>10:15</td>\n",
       "      <td>14.500000</td>\n",
       "      <td>11</td>\n",
       "      <td>9.0</td>\n",
       "      <td>20.7</td>\n",
       "      <td>2</td>\n",
       "      <td>0</td>\n",
       "      <td>6.1</td>\n",
       "    </tr>\n",
       "    <tr>\n",
       "      <th>7</th>\n",
       "      <td>21400899</td>\n",
       "      <td>A</td>\n",
       "      <td>0.0</td>\n",
       "      <td>24</td>\n",
       "      <td>8</td>\n",
       "      <td>4</td>\n",
       "      <td>8:00</td>\n",
       "      <td>3.400000</td>\n",
       "      <td>3</td>\n",
       "      <td>2.5</td>\n",
       "      <td>3.5</td>\n",
       "      <td>2</td>\n",
       "      <td>1</td>\n",
       "      <td>2.1</td>\n",
       "    </tr>\n",
       "    <tr>\n",
       "      <th>8</th>\n",
       "      <td>21400899</td>\n",
       "      <td>A</td>\n",
       "      <td>0.0</td>\n",
       "      <td>24</td>\n",
       "      <td>9</td>\n",
       "      <td>4</td>\n",
       "      <td>5:14</td>\n",
       "      <td>12.400000</td>\n",
       "      <td>0</td>\n",
       "      <td>0.8</td>\n",
       "      <td>24.6</td>\n",
       "      <td>3</td>\n",
       "      <td>0</td>\n",
       "      <td>7.3</td>\n",
       "    </tr>\n",
       "    <tr>\n",
       "      <th>9</th>\n",
       "      <td>21400890</td>\n",
       "      <td>H</td>\n",
       "      <td>0.0</td>\n",
       "      <td>1</td>\n",
       "      <td>1</td>\n",
       "      <td>2</td>\n",
       "      <td>11:32</td>\n",
       "      <td>17.400000</td>\n",
       "      <td>0</td>\n",
       "      <td>1.1</td>\n",
       "      <td>22.4</td>\n",
       "      <td>3</td>\n",
       "      <td>0</td>\n",
       "      <td>19.8</td>\n",
       "    </tr>\n",
       "  </tbody>\n",
       "</table>\n",
       "</div>"
      ],
      "text/plain": [
       "    GAME_ID LOCATION    W  FINAL_MARGIN  SHOT_NUMBER  PERIOD GAME_CLOCK  \\\n",
       "0  21400899        A  0.0            24            1       1       1:09   \n",
       "1  21400899        A  0.0            24            2       1       0:14   \n",
       "2  21400899        A  0.0            24            3       1       0:00   \n",
       "3  21400899        A  0.0            24            4       2      11:47   \n",
       "4  21400899        A  0.0            24            5       2      10:34   \n",
       "5  21400899        A  0.0            24            6       2       8:15   \n",
       "6  21400899        A  0.0            24            7       4      10:15   \n",
       "7  21400899        A  0.0            24            8       4       8:00   \n",
       "8  21400899        A  0.0            24            9       4       5:14   \n",
       "9  21400890        H  0.0             1            1       2      11:32   \n",
       "\n",
       "   SHOT_CLOCK  DRIBBLES  TOUCH_TIME  SHOT_DIST  PTS_TYPE  SHOT_RESULT  \\\n",
       "0   10.800000         2         1.9        7.7         2            1   \n",
       "1    3.400000         0         0.8       28.2         3            0   \n",
       "2   12.453344         3         2.7       10.1         2            0   \n",
       "3   10.300000         2         1.9       17.2         2            0   \n",
       "4   10.900000         2         2.7        3.7         2            0   \n",
       "5    9.100000         2         4.4       18.4         2            0   \n",
       "6   14.500000        11         9.0       20.7         2            0   \n",
       "7    3.400000         3         2.5        3.5         2            1   \n",
       "8   12.400000         0         0.8       24.6         3            0   \n",
       "9   17.400000         0         1.1       22.4         3            0   \n",
       "\n",
       "   CLOSE_DEF_DIST  \n",
       "0             1.3  \n",
       "1             6.1  \n",
       "2             0.9  \n",
       "3             3.4  \n",
       "4             1.1  \n",
       "5             2.6  \n",
       "6             6.1  \n",
       "7             2.1  \n",
       "8             7.3  \n",
       "9            19.8  "
      ]
     },
     "execution_count": 62,
     "metadata": {},
     "output_type": "execute_result"
    }
   ],
   "source": [
    "from sklearn.preprocessing import OneHotEncoder\n",
    "ohe = OneHotEncoder(sparse=False)\n",
    "df[\"W\"] = ohe.fit_transform(df[['W']])\n",
    "df.head(10)"
   ]
  },
  {
   "cell_type": "code",
   "execution_count": 63,
   "metadata": {},
   "outputs": [
    {
     "data": {
      "text/html": [
       "<div>\n",
       "<style scoped>\n",
       "    .dataframe tbody tr th:only-of-type {\n",
       "        vertical-align: middle;\n",
       "    }\n",
       "\n",
       "    .dataframe tbody tr th {\n",
       "        vertical-align: top;\n",
       "    }\n",
       "\n",
       "    .dataframe thead th {\n",
       "        text-align: right;\n",
       "    }\n",
       "</style>\n",
       "<table border=\"1\" class=\"dataframe\">\n",
       "  <thead>\n",
       "    <tr style=\"text-align: right;\">\n",
       "      <th></th>\n",
       "      <th>GAME_ID</th>\n",
       "      <th>LOCATION</th>\n",
       "      <th>W</th>\n",
       "      <th>FINAL_MARGIN</th>\n",
       "      <th>SHOT_NUMBER</th>\n",
       "      <th>PERIOD</th>\n",
       "      <th>GAME_CLOCK</th>\n",
       "      <th>SHOT_CLOCK</th>\n",
       "      <th>DRIBBLES</th>\n",
       "      <th>TOUCH_TIME</th>\n",
       "      <th>SHOT_DIST</th>\n",
       "      <th>PTS_TYPE</th>\n",
       "      <th>SHOT_RESULT</th>\n",
       "      <th>CLOSE_DEF_DIST</th>\n",
       "    </tr>\n",
       "  </thead>\n",
       "  <tbody>\n",
       "  </tbody>\n",
       "</table>\n",
       "</div>"
      ],
      "text/plain": [
       "Empty DataFrame\n",
       "Columns: [GAME_ID, LOCATION, W, FINAL_MARGIN, SHOT_NUMBER, PERIOD, GAME_CLOCK, SHOT_CLOCK, DRIBBLES, TOUCH_TIME, SHOT_DIST, PTS_TYPE, SHOT_RESULT, CLOSE_DEF_DIST]\n",
       "Index: []"
      ]
     },
     "execution_count": 63,
     "metadata": {},
     "output_type": "execute_result"
    }
   ],
   "source": [
    "check = df.loc[df[\"W\"] == 1]\n",
    "check = check.loc[check[\"FINAL_MARGIN\"] > 0]\n",
    "check\n",
    "# as we cann see all the loses are classified as 1"
   ]
  },
  {
   "cell_type": "code",
   "execution_count": 64,
   "metadata": {},
   "outputs": [
    {
     "data": {
      "text/html": [
       "<div>\n",
       "<style scoped>\n",
       "    .dataframe tbody tr th:only-of-type {\n",
       "        vertical-align: middle;\n",
       "    }\n",
       "\n",
       "    .dataframe tbody tr th {\n",
       "        vertical-align: top;\n",
       "    }\n",
       "\n",
       "    .dataframe thead th {\n",
       "        text-align: right;\n",
       "    }\n",
       "</style>\n",
       "<table border=\"1\" class=\"dataframe\">\n",
       "  <thead>\n",
       "    <tr style=\"text-align: right;\">\n",
       "      <th></th>\n",
       "      <th>GAME_ID</th>\n",
       "      <th>LOCATION</th>\n",
       "      <th>W</th>\n",
       "      <th>FINAL_MARGIN</th>\n",
       "      <th>SHOT_NUMBER</th>\n",
       "      <th>PERIOD</th>\n",
       "      <th>GAME_CLOCK</th>\n",
       "      <th>SHOT_CLOCK</th>\n",
       "      <th>DRIBBLES</th>\n",
       "      <th>TOUCH_TIME</th>\n",
       "      <th>SHOT_DIST</th>\n",
       "      <th>PTS_TYPE</th>\n",
       "      <th>SHOT_RESULT</th>\n",
       "      <th>CLOSE_DEF_DIST</th>\n",
       "    </tr>\n",
       "  </thead>\n",
       "  <tbody>\n",
       "  </tbody>\n",
       "</table>\n",
       "</div>"
      ],
      "text/plain": [
       "Empty DataFrame\n",
       "Columns: [GAME_ID, LOCATION, W, FINAL_MARGIN, SHOT_NUMBER, PERIOD, GAME_CLOCK, SHOT_CLOCK, DRIBBLES, TOUCH_TIME, SHOT_DIST, PTS_TYPE, SHOT_RESULT, CLOSE_DEF_DIST]\n",
       "Index: []"
      ]
     },
     "execution_count": 64,
     "metadata": {},
     "output_type": "execute_result"
    }
   ],
   "source": [
    "check = df.loc[df[\"W\"] == 0]\n",
    "check = check.loc[check[\"FINAL_MARGIN\"] < 0]\n",
    "check\n",
    "# as we cann see all the wins are classified as 0"
   ]
  },
  {
   "cell_type": "markdown",
   "metadata": {},
   "source": [
    "we will draw some stats to see if maybe we can drop a certin column"
   ]
  },
  {
   "cell_type": "code",
   "execution_count": 65,
   "metadata": {},
   "outputs": [
    {
     "name": "stdout",
     "output_type": "stream",
     "text": [
      "0.45617355397753934\n",
      "0.4481172526701489\n",
      "0.008056301307390434\n"
     ]
    }
   ],
   "source": [
    "shots_home = df.loc[df[\"LOCATION\"] == \"H\"]\n",
    "shots_away = df.loc[df[\"LOCATION\"] == \"A\"]\n",
    "shots_home_made = shots_home.loc[shots_home[\"SHOT_RESULT\"] == 1]\n",
    "shots_away_made = shots_away.loc[shots_away[\"SHOT_RESULT\"] == 1]\n",
    "home_precentge = (shots_home_made.shape[0])/ shots_home.shape[0]\n",
    "away_precentge = (shots_away_made.shape[0])/ shots_away.shape[0]\n",
    "print(home_precentge)\n",
    "print(away_precentge)\n",
    "difference = abs(home_precentge - away_precentge)\n",
    "print(difference)"
   ]
  },
  {
   "cell_type": "markdown",
   "metadata": {},
   "source": [
    "as we see there is not alot of difference between home and away games so we will drop this column ,\n",
    "we will check the same for other columns that have a set number of options(period, shot type)"
   ]
  },
  {
   "cell_type": "code",
   "execution_count": 66,
   "metadata": {},
   "outputs": [
    {
     "data": {
      "text/plain": [
       "Text(0.5, 1.0, '% of shots made according to quarter')"
      ]
     },
     "execution_count": 66,
     "metadata": {},
     "output_type": "execute_result"
    },
    {
     "data": {
      "image/png": "[encoded data removed]",
      "text/plain": [
       "<Figure size 720x360 with 1 Axes>"
      ]
     },
     "metadata": {},
     "output_type": "display_data"
    }
   ],
   "source": [
    "df = df.drop(columns = [\"LOCATION\"])\n",
    "first_q = df.loc[df['PERIOD'] == 1]\n",
    "second_q = df.loc[df['PERIOD'] == 2]\n",
    "third_q = df.loc[df['PERIOD'] == 3]\n",
    "fourth_q = df.loc[df['PERIOD'] == 4]\n",
    "OT = df.loc[df['PERIOD'] == 5]\n",
    "first_q_made = first_q.loc[first_q['SHOT_RESULT'] == 1]\n",
    "second_q_made = second_q.loc[second_q['SHOT_RESULT'] == 1]\n",
    "third_q_made = third_q.loc[third_q['SHOT_RESULT'] == 1]\n",
    "fourth_q_made  = fourth_q .loc[fourth_q ['SHOT_RESULT'] == 1]\n",
    "OT_made = OT.loc[OT['SHOT_RESULT'] == 1]\n",
    "first_precentge = (first_q_made.shape[0])/(first_q.shape[0])\n",
    "second_precentge = (second_q_made.shape[0])/(second_q.shape[0])\n",
    "third_precentge = (third_q_made.shape[0])/(third_q.shape[0])\n",
    "fourth_precentge = (fourth_q_made.shape[0])/(fourth_q.shape[0])\n",
    "OT_precentge = (OT_made.shape[0])/(OT.shape[0])\n",
    "precentege = [first_precentge*100,second_precentge*100,third_precentge*100,fourth_precentge*100,OT_precentge*100]\n",
    "plt.figure(figsize = [10,5])\n",
    "Quarter = ['First Quarter','Second Quarter','Third Quarter','Fourth Quarter','Overtime']\n",
    "plt.bar(Quarter, height = precentege)\n",
    "plt.ylabel(\"Shots Made (%)\")\n",
    "plt.title(\"% of shots made according to quarter\")"
   ]
  },
  {
   "cell_type": "markdown",
   "metadata": {},
   "source": [
    "as we can see, there is a big drop in the shooting precentge the later into the game it was shot, so we will keep those columns"
   ]
  },
  {
   "cell_type": "code",
   "execution_count": 67,
   "metadata": {},
   "outputs": [
    {
     "data": {
      "text/plain": [
       "Text(0.5, 1.0, '% of shots made according to type')"
      ]
     },
     "execution_count": 67,
     "metadata": {},
     "output_type": "execute_result"
    },
    {
     "data": {
      "image/png": "[encoded data removed]",
      "text/plain": [
       "<Figure size 720x360 with 1 Axes>"
      ]
     },
     "metadata": {},
     "output_type": "display_data"
    }
   ],
   "source": [
    "two_pointers = df.loc[df['PTS_TYPE'] == 2]\n",
    "three_pointers = df.loc[df['PTS_TYPE'] == 3]\n",
    "two_pointers_made = two_pointers.loc[two_pointers['SHOT_RESULT'] == 1]\n",
    "three_pointers_made = three_pointers.loc[three_pointers['SHOT_RESULT'] == 1]\n",
    "twos_precentege =(two_pointers_made.shape[0])/(two_pointers.shape[0]) \n",
    "threes_precentege =(three_pointers_made.shape[0])/(three_pointers.shape[0]) \n",
    "precentege = [twos_precentege,threes_precentege]\n",
    "plt.figure(figsize = [10,5])\n",
    "type_shot = ['Two Pointer','Three Pointer']\n",
    "plt.bar(type_shot, height = precentege)\n",
    "plt.ylabel(\"Shots Made (%)\")\n",
    "plt.title(\"% of shots made according to type\")"
   ]
  },
  {
   "cell_type": "markdown",
   "metadata": {},
   "source": [
    "there is a huge diffrence between 3 point % and 2 point % so we wont drop those columns either\n",
    "\n",
    "from what i have read, a player is defined as closely guarded when there is a defender which is less the 6 feet away from him, so we will change data in the following way, we will check the shot result for if the defender is very close (0-3 feet), pretty close(3-6 feet), and the player is not gaurded at all (6+ feet)"
   ]
  },
  {
   "cell_type": "code",
   "execution_count": 68,
   "metadata": {},
   "outputs": [
    {
     "data": {
      "text/plain": [
       "Text(0.5, 1.0, '% of shots made according to if gaurded or not')"
      ]
     },
     "execution_count": 68,
     "metadata": {},
     "output_type": "execute_result"
    },
    {
     "data": {
      "image/png": "[encoded data removed]",
      "text/plain": [
       "<Figure size 720x360 with 1 Axes>"
      ]
     },
     "metadata": {},
     "output_type": "display_data"
    }
   ],
   "source": [
    "shots_gaurded_close = df.loc[df['CLOSE_DEF_DIST'] < 3]\n",
    "shots_gaurded = df.loc[(df['CLOSE_DEF_DIST'] >=3) & (df['CLOSE_DEF_DIST'] <= 6)]\n",
    "not_gaurded = df.loc[df['CLOSE_DEF_DIST'] > 6]\n",
    "gaurded_per = shots_gaurded.loc[shots_gaurded['SHOT_RESULT'] == 1].shape[0]/shots_gaurded.shape[0]\n",
    "not_gaurded_per = not_gaurded.loc[not_gaurded['SHOT_RESULT'] == 1].shape[0]/not_gaurded.shape[0]\n",
    "gaurded_close_per = shots_gaurded_close.loc[shots_gaurded_close['SHOT_RESULT'] == 1].shape[0]/shots_gaurded_close.shape[0]\n",
    "precentege = [gaurded_close_per*100,gaurded_per *100 ,not_gaurded_per * 100]\n",
    "plt.figure(figsize = [10,5])\n",
    "type_shot = ['Very closely gaurded','Closely gaurded','Not gaurded']\n",
    "plt.bar(type_shot, height = precentege)\n",
    "plt.ylabel(\"Shots Made (%)\")\n",
    "plt.title(\"% of shots made according to if gaurded or not\")"
   ]
  },
  {
   "cell_type": "markdown",
   "metadata": {},
   "source": [
    " "
   ]
  },
  {
   "cell_type": "code",
   "execution_count": 69,
   "metadata": {},
   "outputs": [
    {
     "name": "stdout",
     "output_type": "stream",
     "text": [
      "[46.16729816380064, 44.59125540531265, 44.77687393722138]\n"
     ]
    }
   ],
   "source": [
    "print(precentege)"
   ]
  },
  {
   "cell_type": "code",
   "execution_count": null,
   "metadata": {},
   "outputs": [],
   "source": []
  },
  {
   "cell_type": "markdown",
   "metadata": {},
   "source": [
    "as we can see there is actually a higher precentege of shots if the defender is closer then 3 feet, so we will keep it\n",
    "\n",
    "next lets check about the time left on the shot clock which goes down from 24 seconds in the nba, according to the internet, you should split it into 4 categories, 0-3 seconds left, 4-8 second left, 9-13 seconds left, 14+ second left"
   ]
  },
  {
   "cell_type": "code",
   "execution_count": 70,
   "metadata": {},
   "outputs": [
    {
     "data": {
      "text/plain": [
       "Text(0.5, 1.0, '% Of Shots Made According to time left on the shot clock')"
      ]
     },
     "execution_count": 70,
     "metadata": {},
     "output_type": "execute_result"
    },
    {
     "data": {
      "image/png": "[encoded data removed]",
      "text/plain": [
       "<Figure size 864x432 with 1 Axes>"
      ]
     },
     "metadata": {},
     "output_type": "display_data"
    }
   ],
   "source": [
    "quick_possessions =  df.loc[df['SHOT_CLOCK'] >= 14] # 14+ seconds left\n",
    "medium_possessions =df.loc[(df['SHOT_CLOCK'] < 14) &(df['SHOT_CLOCK'] >= 9)] # 9-13 seconds left\n",
    "slow_possessions =  df.loc[(df['SHOT_CLOCK'] < 9) &(df['SHOT_CLOCK'] >= 4)] # 4-8 seconds left\n",
    "late_possessions =  df.loc[df['SHOT_CLOCK'] < 4] # 0-3 seconds left\n",
    "quick_possessions_made = quick_possessions.loc[quick_possessions[\"SHOT_RESULT\"] == 1]\n",
    "medium_possessions_made = medium_possessions.loc[medium_possessions[\"SHOT_RESULT\"] == 1]\n",
    "slow_possessions_made = slow_possessions.loc[slow_possessions[\"SHOT_RESULT\"] == 1]\n",
    "late_possessions_made = late_possessions.loc[late_possessions[\"SHOT_RESULT\"] == 1]\n",
    "quick_percentge = quick_possessions_made.shape[0]/quick_possessions.shape[0]\n",
    "medium_percentge = medium_possessions_made.shape[0]/medium_possessions.shape[0]\n",
    "slow_percentge = slow_possessions_made.shape[0]/slow_possessions.shape[0]\n",
    "late_percentge = late_possessions_made.shape[0]/late_possessions.shape[0]\n",
    "precentege = [quick_percentge*100,medium_percentge*100,slow_percentge*100,late_percentge*100]\n",
    "plt.figure(figsize = [12,6])\n",
    "plt.bar(x=['14+ seconds on the clock', '9-13 second on the clock','4-8 second on the clock','less the 4 second on the clock'], height=precentege)\n",
    "plt.ylabel(\"Shots Made %\")\n",
    "plt.title(\"% Of Shots Made According to time left on the shot clock\")"
   ]
  },
  {
   "cell_type": "markdown",
   "metadata": {},
   "source": [
    "as we see there is a difference between the time on the shot clock left when shooting, so we will keep it,later on we will categorize it in the following way\n",
    "\n",
    "possesion kind:\n",
    "\n",
    "1. 14+ seconds on the clock- quick possesion\n",
    "2. 9-13 second on the clock - medium possesion\n",
    "3. 4-8 seocnds on the clock - long possesion\n",
    "4. <4 second on the clock - late possesion"
   ]
  },
  {
   "cell_type": "code",
   "execution_count": 71,
   "metadata": {},
   "outputs": [
    {
     "data": {
      "text/html": [
       "<div>\n",
       "<style scoped>\n",
       "    .dataframe tbody tr th:only-of-type {\n",
       "        vertical-align: middle;\n",
       "    }\n",
       "\n",
       "    .dataframe tbody tr th {\n",
       "        vertical-align: top;\n",
       "    }\n",
       "\n",
       "    .dataframe thead th {\n",
       "        text-align: right;\n",
       "    }\n",
       "</style>\n",
       "<table border=\"1\" class=\"dataframe\">\n",
       "  <thead>\n",
       "    <tr style=\"text-align: right;\">\n",
       "      <th></th>\n",
       "      <th>GAME_ID</th>\n",
       "      <th>W</th>\n",
       "      <th>FINAL_MARGIN</th>\n",
       "      <th>SHOT_NUMBER</th>\n",
       "      <th>PERIOD</th>\n",
       "      <th>GAME_CLOCK</th>\n",
       "      <th>SHOT_CLOCK</th>\n",
       "      <th>DRIBBLES</th>\n",
       "      <th>TOUCH_TIME</th>\n",
       "      <th>SHOT_DIST</th>\n",
       "      <th>PTS_TYPE</th>\n",
       "      <th>SHOT_RESULT</th>\n",
       "      <th>CLOSE_DEF_DIST</th>\n",
       "    </tr>\n",
       "  </thead>\n",
       "  <tbody>\n",
       "    <tr>\n",
       "      <th>0</th>\n",
       "      <td>21400899</td>\n",
       "      <td>0.0</td>\n",
       "      <td>24</td>\n",
       "      <td>1</td>\n",
       "      <td>1</td>\n",
       "      <td>1:09</td>\n",
       "      <td>10.800000</td>\n",
       "      <td>2</td>\n",
       "      <td>1.9</td>\n",
       "      <td>7.7</td>\n",
       "      <td>2</td>\n",
       "      <td>1</td>\n",
       "      <td>1.3</td>\n",
       "    </tr>\n",
       "    <tr>\n",
       "      <th>1</th>\n",
       "      <td>21400899</td>\n",
       "      <td>0.0</td>\n",
       "      <td>24</td>\n",
       "      <td>2</td>\n",
       "      <td>1</td>\n",
       "      <td>0:14</td>\n",
       "      <td>3.400000</td>\n",
       "      <td>0</td>\n",
       "      <td>0.8</td>\n",
       "      <td>28.2</td>\n",
       "      <td>3</td>\n",
       "      <td>0</td>\n",
       "      <td>6.1</td>\n",
       "    </tr>\n",
       "    <tr>\n",
       "      <th>2</th>\n",
       "      <td>21400899</td>\n",
       "      <td>0.0</td>\n",
       "      <td>24</td>\n",
       "      <td>3</td>\n",
       "      <td>1</td>\n",
       "      <td>0:00</td>\n",
       "      <td>12.453344</td>\n",
       "      <td>3</td>\n",
       "      <td>2.7</td>\n",
       "      <td>10.1</td>\n",
       "      <td>2</td>\n",
       "      <td>0</td>\n",
       "      <td>0.9</td>\n",
       "    </tr>\n",
       "    <tr>\n",
       "      <th>3</th>\n",
       "      <td>21400899</td>\n",
       "      <td>0.0</td>\n",
       "      <td>24</td>\n",
       "      <td>4</td>\n",
       "      <td>2</td>\n",
       "      <td>11:47</td>\n",
       "      <td>10.300000</td>\n",
       "      <td>2</td>\n",
       "      <td>1.9</td>\n",
       "      <td>17.2</td>\n",
       "      <td>2</td>\n",
       "      <td>0</td>\n",
       "      <td>3.4</td>\n",
       "    </tr>\n",
       "    <tr>\n",
       "      <th>4</th>\n",
       "      <td>21400899</td>\n",
       "      <td>0.0</td>\n",
       "      <td>24</td>\n",
       "      <td>5</td>\n",
       "      <td>2</td>\n",
       "      <td>10:34</td>\n",
       "      <td>10.900000</td>\n",
       "      <td>2</td>\n",
       "      <td>2.7</td>\n",
       "      <td>3.7</td>\n",
       "      <td>2</td>\n",
       "      <td>0</td>\n",
       "      <td>1.1</td>\n",
       "    </tr>\n",
       "  </tbody>\n",
       "</table>\n",
       "</div>"
      ],
      "text/plain": [
       "    GAME_ID    W  FINAL_MARGIN  SHOT_NUMBER  PERIOD GAME_CLOCK  SHOT_CLOCK  \\\n",
       "0  21400899  0.0            24            1       1       1:09   10.800000   \n",
       "1  21400899  0.0            24            2       1       0:14    3.400000   \n",
       "2  21400899  0.0            24            3       1       0:00   12.453344   \n",
       "3  21400899  0.0            24            4       2      11:47   10.300000   \n",
       "4  21400899  0.0            24            5       2      10:34   10.900000   \n",
       "\n",
       "   DRIBBLES  TOUCH_TIME  SHOT_DIST  PTS_TYPE  SHOT_RESULT  CLOSE_DEF_DIST  \n",
       "0         2         1.9        7.7         2            1             1.3  \n",
       "1         0         0.8       28.2         3            0             6.1  \n",
       "2         3         2.7       10.1         2            0             0.9  \n",
       "3         2         1.9       17.2         2            0             3.4  \n",
       "4         2         2.7        3.7         2            0             1.1  "
      ]
     },
     "execution_count": 71,
     "metadata": {},
     "output_type": "execute_result"
    }
   ],
   "source": [
    "df.head()"
   ]
  },
  {
   "cell_type": "code",
   "execution_count": 57,
   "metadata": {},
   "outputs": [],
   "source": []
  },
  {
   "cell_type": "code",
   "execution_count": 72,
   "metadata": {},
   "outputs": [
    {
     "data": {
      "text/html": [
       "<div>\n",
       "<style scoped>\n",
       "    .dataframe tbody tr th:only-of-type {\n",
       "        vertical-align: middle;\n",
       "    }\n",
       "\n",
       "    .dataframe tbody tr th {\n",
       "        vertical-align: top;\n",
       "    }\n",
       "\n",
       "    .dataframe thead th {\n",
       "        text-align: right;\n",
       "    }\n",
       "</style>\n",
       "<table border=\"1\" class=\"dataframe\">\n",
       "  <thead>\n",
       "    <tr style=\"text-align: right;\">\n",
       "      <th></th>\n",
       "      <th>GAME_ID</th>\n",
       "      <th>W</th>\n",
       "      <th>FINAL_MARGIN</th>\n",
       "      <th>SHOT_NUMBER</th>\n",
       "      <th>PERIOD</th>\n",
       "      <th>GAME_CLOCK</th>\n",
       "      <th>SHOT_CLOCK</th>\n",
       "      <th>DRIBBLES</th>\n",
       "      <th>TOUCH_TIME</th>\n",
       "      <th>SHOT_DIST</th>\n",
       "      <th>PTS_TYPE</th>\n",
       "      <th>SHOT_RESULT</th>\n",
       "      <th>CLOSE_DEF_DIST</th>\n",
       "    </tr>\n",
       "  </thead>\n",
       "  <tbody>\n",
       "    <tr>\n",
       "      <th>0</th>\n",
       "      <td>21400899</td>\n",
       "      <td>0.0</td>\n",
       "      <td>24</td>\n",
       "      <td>1</td>\n",
       "      <td>1</td>\n",
       "      <td>69</td>\n",
       "      <td>10.800000</td>\n",
       "      <td>2</td>\n",
       "      <td>1.9</td>\n",
       "      <td>7.7</td>\n",
       "      <td>2</td>\n",
       "      <td>1</td>\n",
       "      <td>1.3</td>\n",
       "    </tr>\n",
       "    <tr>\n",
       "      <th>1</th>\n",
       "      <td>21400899</td>\n",
       "      <td>0.0</td>\n",
       "      <td>24</td>\n",
       "      <td>2</td>\n",
       "      <td>1</td>\n",
       "      <td>14</td>\n",
       "      <td>3.400000</td>\n",
       "      <td>0</td>\n",
       "      <td>0.8</td>\n",
       "      <td>28.2</td>\n",
       "      <td>3</td>\n",
       "      <td>0</td>\n",
       "      <td>6.1</td>\n",
       "    </tr>\n",
       "    <tr>\n",
       "      <th>2</th>\n",
       "      <td>21400899</td>\n",
       "      <td>0.0</td>\n",
       "      <td>24</td>\n",
       "      <td>3</td>\n",
       "      <td>1</td>\n",
       "      <td>0</td>\n",
       "      <td>12.453344</td>\n",
       "      <td>3</td>\n",
       "      <td>2.7</td>\n",
       "      <td>10.1</td>\n",
       "      <td>2</td>\n",
       "      <td>0</td>\n",
       "      <td>0.9</td>\n",
       "    </tr>\n",
       "    <tr>\n",
       "      <th>3</th>\n",
       "      <td>21400899</td>\n",
       "      <td>0.0</td>\n",
       "      <td>24</td>\n",
       "      <td>4</td>\n",
       "      <td>2</td>\n",
       "      <td>707</td>\n",
       "      <td>10.300000</td>\n",
       "      <td>2</td>\n",
       "      <td>1.9</td>\n",
       "      <td>17.2</td>\n",
       "      <td>2</td>\n",
       "      <td>0</td>\n",
       "      <td>3.4</td>\n",
       "    </tr>\n",
       "    <tr>\n",
       "      <th>4</th>\n",
       "      <td>21400899</td>\n",
       "      <td>0.0</td>\n",
       "      <td>24</td>\n",
       "      <td>5</td>\n",
       "      <td>2</td>\n",
       "      <td>634</td>\n",
       "      <td>10.900000</td>\n",
       "      <td>2</td>\n",
       "      <td>2.7</td>\n",
       "      <td>3.7</td>\n",
       "      <td>2</td>\n",
       "      <td>0</td>\n",
       "      <td>1.1</td>\n",
       "    </tr>\n",
       "  </tbody>\n",
       "</table>\n",
       "</div>"
      ],
      "text/plain": [
       "    GAME_ID    W  FINAL_MARGIN  SHOT_NUMBER  PERIOD  GAME_CLOCK  SHOT_CLOCK  \\\n",
       "0  21400899  0.0            24            1       1          69   10.800000   \n",
       "1  21400899  0.0            24            2       1          14    3.400000   \n",
       "2  21400899  0.0            24            3       1           0   12.453344   \n",
       "3  21400899  0.0            24            4       2         707   10.300000   \n",
       "4  21400899  0.0            24            5       2         634   10.900000   \n",
       "\n",
       "   DRIBBLES  TOUCH_TIME  SHOT_DIST  PTS_TYPE  SHOT_RESULT  CLOSE_DEF_DIST  \n",
       "0         2         1.9        7.7         2            1             1.3  \n",
       "1         0         0.8       28.2         3            0             6.1  \n",
       "2         3         2.7       10.1         2            0             0.9  \n",
       "3         2         1.9       17.2         2            0             3.4  \n",
       "4         2         2.7        3.7         2            0             1.1  "
      ]
     },
     "execution_count": 72,
     "metadata": {},
     "output_type": "execute_result"
    }
   ],
   "source": [
    "#we will change the GAME_CLOCK column to time in second so we will be able to use it as well\n",
    "df.GAME_CLOCK = df.GAME_CLOCK.apply(lambda x: int(x.split(\":\")[0])*60 + int(x.split(\":\")[1]))\n",
    "df.head()"
   ]
  },
  {
   "cell_type": "markdown",
   "metadata": {},
   "source": [
    "next we will split to shots according to distance from the basket (SHOT_DIST column)\n",
    "\n",
    "we have 5 categories: \n",
    "\n",
    "1. close range shots (0-5 ft from basket)\n",
    "2. short two's (6-11 ft from basket)\n",
    "3. mid range (12-17 ft from basket)\n",
    "4. long two's (18- 23 ft from the basket)\n",
    "5. three pointers(23+ from the basket)\n",
    "\n",
    "also need to look out for corner threes cause the distance is not more then 23 feet so we dont accidentely categorize them as long two's\n",
    "we will also change the column name from SHOT_DIST to SHOT_TYPE"
   ]
  },
  {
   "cell_type": "code",
   "execution_count": 73,
   "metadata": {},
   "outputs": [
    {
     "data": {
      "text/plain": [
       "(array([32317., 22495., 10229., 15161., 21903., 25017.,   614.,   164.,\n",
       "          120.,    49.]),\n",
       " array([ 0.  ,  4.72,  9.44, 14.16, 18.88, 23.6 , 28.32, 33.04, 37.76,\n",
       "        42.48, 47.2 ]),\n",
       " <BarContainer object of 10 artists>)"
      ]
     },
     "execution_count": 73,
     "metadata": {},
     "output_type": "execute_result"
    },
    {
     "data": {
      "image/png": "[encoded data removed]",
      "text/plain": [
       "<Figure size 864x432 with 1 Axes>"
      ]
     },
     "metadata": {},
     "output_type": "display_data"
    }
   ],
   "source": [
    "plt.figure(figsize = [12,6])\n",
    "plt.title(\"Distribution of shots based on distance in FT\")\n",
    "plt.ylabel(\"Amount of Shots\")\n",
    "plt.xlabel(\"Distance (FT)\")\n",
    "plt.axvline(x=23.75, linewidth=0.5, color='r');\n",
    "xtics = np.arange(0,50,3)\n",
    "plt.xticks(xtics,xtics)\n",
    "plt.hist(df.SHOT_DIST)"
   ]
  },
  {
   "cell_type": "markdown",
   "metadata": {},
   "source": [
    "The red line represents the distance of the 3pt line, so shots to the right of the line are 3 Pointers, and we can we that way more 2 Pointers are taken\n",
    "\n",
    "we also want to remove the outliers, in the distance case, shots from realy far way from the basket (30ft +) that went in"
   ]
  },
  {
   "cell_type": "code",
   "execution_count": 74,
   "metadata": {},
   "outputs": [
    {
     "name": "stdout",
     "output_type": "stream",
     "text": [
      "9.35374149659864\n",
      "588\n"
     ]
    }
   ],
   "source": [
    "super_long = df.loc[df['SHOT_DIST'] >=30]\n",
    "total = super_long.shape[0]\n",
    "made = super_long.loc[super_long['SHOT_RESULT'] == 1].shape[0]\n",
    "per = made/total\n",
    "print(per*100)\n",
    "print(total)\n",
    "df = df[df.SHOT_DIST < 30]"
   ]
  },
  {
   "cell_type": "markdown",
   "metadata": {},
   "source": [
    "as we see we have 588 shots from beyond 30 ft, and only 9% of them are going in, so we are going to remove them cause it can throw our model off a bit"
   ]
  },
  {
   "cell_type": "code",
   "execution_count": 61,
   "metadata": {},
   "outputs": [],
   "source": []
  },
  {
   "cell_type": "markdown",
   "metadata": {},
   "source": [
    " "
   ]
  },
  {
   "cell_type": "code",
   "execution_count": null,
   "metadata": {},
   "outputs": [],
   "source": []
  },
  {
   "cell_type": "code",
   "execution_count": null,
   "metadata": {},
   "outputs": [],
   "source": []
  },
  {
   "cell_type": "code",
   "execution_count": 75,
   "metadata": {},
   "outputs": [
    {
     "data": {
      "text/plain": [
       "Text(0.5, 1.0, '% of shot made according to type')"
      ]
     },
     "execution_count": 75,
     "metadata": {},
     "output_type": "execute_result"
    },
    {
     "data": {
      "image/png": "[encoded data removed]",
      "text/plain": [
       "<Figure size 432x288 with 1 Axes>"
      ]
     },
     "metadata": {},
     "output_type": "display_data"
    }
   ],
   "source": [
    "close_two = df.loc[(df.SHOT_DIST <= 5)]\n",
    "short_two = df.loc[((df.SHOT_DIST <= 11) &(df.SHOT_DIST >5))]\n",
    "mid_two = df.loc[((df.SHOT_DIST > 11) &(df.SHOT_DIST <= 17))]\n",
    "long_two = df.loc[((df.SHOT_DIST > 17) &(df.SHOT_DIST <= 23.75) & (df.PTS_TYPE  == 2))]\n",
    "three = df.loc[(df.PTS_TYPE == 3)]\n",
    "close_per = close_two.loc[close_two['SHOT_RESULT'] == 1].shape[0]/close_two.shape[0]\n",
    "short_per = short_two.loc[short_two['SHOT_RESULT'] == 1].shape[0]/short_two.shape[0]\n",
    "mid_per = mid_two.loc[mid_two['SHOT_RESULT'] == 1].shape[0]/mid_two.shape[0]\n",
    "long_per = long_two.loc[long_two['SHOT_RESULT'] == 1].shape[0]/long_two.shape[0]\n",
    "three_per = three.loc[three['SHOT_RESULT'] == 1].shape[0]/three.shape[0]\n",
    "per = [close_per,short_per,mid_per,long_per,three_per]\n",
    "xlabels = [\"Close two\",\"Short two\",\"Mid two\",\"long two\",\"three\"]\n",
    "plt.bar(x = xlabels,height = per)\n",
    "plt.ylabel(\"Shots made %\")\n",
    "plt.title(\"% of shot made according to type\")"
   ]
  },
  {
   "cell_type": "code",
   "execution_count": null,
   "metadata": {},
   "outputs": [],
   "source": []
  },
  {
   "cell_type": "markdown",
   "metadata": {},
   "source": [
    " "
   ]
  },
  {
   "cell_type": "code",
   "execution_count": 76,
   "metadata": {},
   "outputs": [
    {
     "data": {
      "text/plain": [
       "Text(0.5, 1.0, '% of shots made based on time left in quarter')"
      ]
     },
     "execution_count": 76,
     "metadata": {},
     "output_type": "execute_result"
    },
    {
     "data": {
      "image/png": "[encoded data removed]",
      "text/plain": [
       "<Figure size 432x288 with 1 Axes>"
      ]
     },
     "metadata": {},
     "output_type": "display_data"
    }
   ],
   "source": [
    "first_q = df.loc[df['GAME_CLOCK'] >= 540]\n",
    "second_q = df.loc[(df['GAME_CLOCK'] < 540) & (df['GAME_CLOCK'] >= 360)]\n",
    "third_q = df.loc[(df['GAME_CLOCK'] < 360) & (df['GAME_CLOCK'] >= 180)]\n",
    "fourth_q = df.loc[(df['GAME_CLOCK'] < 180)]\n",
    "first_q_per = first_q.loc[first_q['SHOT_RESULT'] == 1].shape[0]/first_q.shape[0]\n",
    "second_q_per = second_q.loc[second_q['SHOT_RESULT'] == 1].shape[0]/second_q.shape[0]\n",
    "third_q_per = third_q.loc[third_q['SHOT_RESULT'] == 1].shape[0]/third_q.shape[0]\n",
    "fourth_q_per = fourth_q.loc[df['SHOT_RESULT'] == 1].shape[0]/fourth_q.shape[0]\n",
    "precentege = [first_q_per,second_q_per,third_q_per,fourth_q_per]\n",
    "x_bars = ['first 3 mins','3-6 mins','6-9 mins','last 3 mins']\n",
    "plt.bar(x = x_bars, height = precentege)\n",
    "plt.ylabel(\"shots made %\")\n",
    "plt.title(\"% of shots made based on time left in quarter\")"
   ]
  },
  {
   "cell_type": "markdown",
   "metadata": {},
   "source": [
    "as we see this doesnt change much, so we will drop this column\n"
   ]
  },
  {
   "cell_type": "code",
   "execution_count": null,
   "metadata": {},
   "outputs": [],
   "source": []
  },
  {
   "cell_type": "markdown",
   "metadata": {},
   "source": [
    "we can see that it is empty so that means that every shot has a type, next lets drop the shot_dist and shot_clock columns since we categorized it and the PTS_TYPE column"
   ]
  },
  {
   "cell_type": "code",
   "execution_count": 77,
   "metadata": {},
   "outputs": [],
   "source": [
    "df = df.drop(columns = [\"GAME_ID\",\"PTS_TYPE\",\"GAME_CLOCK\",])"
   ]
  },
  {
   "cell_type": "code",
   "execution_count": 78,
   "metadata": {},
   "outputs": [
    {
     "data": {
      "text/html": [
       "<div>\n",
       "<style scoped>\n",
       "    .dataframe tbody tr th:only-of-type {\n",
       "        vertical-align: middle;\n",
       "    }\n",
       "\n",
       "    .dataframe tbody tr th {\n",
       "        vertical-align: top;\n",
       "    }\n",
       "\n",
       "    .dataframe thead th {\n",
       "        text-align: right;\n",
       "    }\n",
       "</style>\n",
       "<table border=\"1\" class=\"dataframe\">\n",
       "  <thead>\n",
       "    <tr style=\"text-align: right;\">\n",
       "      <th></th>\n",
       "      <th>W</th>\n",
       "      <th>FINAL_MARGIN</th>\n",
       "      <th>SHOT_NUMBER</th>\n",
       "      <th>PERIOD</th>\n",
       "      <th>SHOT_CLOCK</th>\n",
       "      <th>DRIBBLES</th>\n",
       "      <th>TOUCH_TIME</th>\n",
       "      <th>SHOT_DIST</th>\n",
       "      <th>SHOT_RESULT</th>\n",
       "      <th>CLOSE_DEF_DIST</th>\n",
       "    </tr>\n",
       "  </thead>\n",
       "  <tbody>\n",
       "    <tr>\n",
       "      <th>0</th>\n",
       "      <td>0.0</td>\n",
       "      <td>24</td>\n",
       "      <td>1</td>\n",
       "      <td>1</td>\n",
       "      <td>10.800000</td>\n",
       "      <td>2</td>\n",
       "      <td>1.9</td>\n",
       "      <td>7.7</td>\n",
       "      <td>1</td>\n",
       "      <td>1.3</td>\n",
       "    </tr>\n",
       "    <tr>\n",
       "      <th>1</th>\n",
       "      <td>0.0</td>\n",
       "      <td>24</td>\n",
       "      <td>2</td>\n",
       "      <td>1</td>\n",
       "      <td>3.400000</td>\n",
       "      <td>0</td>\n",
       "      <td>0.8</td>\n",
       "      <td>28.2</td>\n",
       "      <td>0</td>\n",
       "      <td>6.1</td>\n",
       "    </tr>\n",
       "    <tr>\n",
       "      <th>2</th>\n",
       "      <td>0.0</td>\n",
       "      <td>24</td>\n",
       "      <td>3</td>\n",
       "      <td>1</td>\n",
       "      <td>12.453344</td>\n",
       "      <td>3</td>\n",
       "      <td>2.7</td>\n",
       "      <td>10.1</td>\n",
       "      <td>0</td>\n",
       "      <td>0.9</td>\n",
       "    </tr>\n",
       "    <tr>\n",
       "      <th>3</th>\n",
       "      <td>0.0</td>\n",
       "      <td>24</td>\n",
       "      <td>4</td>\n",
       "      <td>2</td>\n",
       "      <td>10.300000</td>\n",
       "      <td>2</td>\n",
       "      <td>1.9</td>\n",
       "      <td>17.2</td>\n",
       "      <td>0</td>\n",
       "      <td>3.4</td>\n",
       "    </tr>\n",
       "    <tr>\n",
       "      <th>4</th>\n",
       "      <td>0.0</td>\n",
       "      <td>24</td>\n",
       "      <td>5</td>\n",
       "      <td>2</td>\n",
       "      <td>10.900000</td>\n",
       "      <td>2</td>\n",
       "      <td>2.7</td>\n",
       "      <td>3.7</td>\n",
       "      <td>0</td>\n",
       "      <td>1.1</td>\n",
       "    </tr>\n",
       "  </tbody>\n",
       "</table>\n",
       "</div>"
      ],
      "text/plain": [
       "     W  FINAL_MARGIN  SHOT_NUMBER  PERIOD  SHOT_CLOCK  DRIBBLES  TOUCH_TIME  \\\n",
       "0  0.0            24            1       1   10.800000         2         1.9   \n",
       "1  0.0            24            2       1    3.400000         0         0.8   \n",
       "2  0.0            24            3       1   12.453344         3         2.7   \n",
       "3  0.0            24            4       2   10.300000         2         1.9   \n",
       "4  0.0            24            5       2   10.900000         2         2.7   \n",
       "\n",
       "   SHOT_DIST  SHOT_RESULT  CLOSE_DEF_DIST  \n",
       "0        7.7            1             1.3  \n",
       "1       28.2            0             6.1  \n",
       "2       10.1            0             0.9  \n",
       "3       17.2            0             3.4  \n",
       "4        3.7            0             1.1  "
      ]
     },
     "execution_count": 78,
     "metadata": {},
     "output_type": "execute_result"
    }
   ],
   "source": [
    "df.head()"
   ]
  },
  {
   "cell_type": "code",
   "execution_count": 79,
   "metadata": {},
   "outputs": [
    {
     "data": {
      "text/html": [
       "<div>\n",
       "<style scoped>\n",
       "    .dataframe tbody tr th:only-of-type {\n",
       "        vertical-align: middle;\n",
       "    }\n",
       "\n",
       "    .dataframe tbody tr th {\n",
       "        vertical-align: top;\n",
       "    }\n",
       "\n",
       "    .dataframe thead th {\n",
       "        text-align: right;\n",
       "    }\n",
       "</style>\n",
       "<table border=\"1\" class=\"dataframe\">\n",
       "  <thead>\n",
       "    <tr style=\"text-align: right;\">\n",
       "      <th></th>\n",
       "      <th>W</th>\n",
       "      <th>FINAL_MARGIN</th>\n",
       "      <th>SHOT_NUMBER</th>\n",
       "      <th>PERIOD</th>\n",
       "      <th>SHOT_CLOCK</th>\n",
       "      <th>DRIBBLES</th>\n",
       "      <th>TOUCH_TIME</th>\n",
       "      <th>SHOT_DIST</th>\n",
       "      <th>SHOT_RESULT</th>\n",
       "      <th>CLOSE_DEF_DIST</th>\n",
       "    </tr>\n",
       "  </thead>\n",
       "  <tbody>\n",
       "    <tr>\n",
       "      <th>count</th>\n",
       "      <td>127481.000000</td>\n",
       "      <td>127481.000000</td>\n",
       "      <td>127481.000000</td>\n",
       "      <td>127481.000000</td>\n",
       "      <td>127481.000000</td>\n",
       "      <td>127481.000000</td>\n",
       "      <td>127481.000000</td>\n",
       "      <td>127481.000000</td>\n",
       "      <td>127481.000000</td>\n",
       "      <td>127481.000000</td>\n",
       "    </tr>\n",
       "    <tr>\n",
       "      <th>mean</th>\n",
       "      <td>0.495391</td>\n",
       "      <td>0.213899</td>\n",
       "      <td>6.502969</td>\n",
       "      <td>2.469529</td>\n",
       "      <td>12.458421</td>\n",
       "      <td>2.025063</td>\n",
       "      <td>2.781177</td>\n",
       "      <td>13.471787</td>\n",
       "      <td>0.453793</td>\n",
       "      <td>4.114030</td>\n",
       "    </tr>\n",
       "    <tr>\n",
       "      <th>std</th>\n",
       "      <td>0.499981</td>\n",
       "      <td>13.232030</td>\n",
       "      <td>4.711046</td>\n",
       "      <td>1.140099</td>\n",
       "      <td>5.637749</td>\n",
       "      <td>3.482676</td>\n",
       "      <td>2.986633</td>\n",
       "      <td>8.781947</td>\n",
       "      <td>0.497862</td>\n",
       "      <td>2.745217</td>\n",
       "    </tr>\n",
       "    <tr>\n",
       "      <th>min</th>\n",
       "      <td>0.000000</td>\n",
       "      <td>-53.000000</td>\n",
       "      <td>1.000000</td>\n",
       "      <td>1.000000</td>\n",
       "      <td>0.000000</td>\n",
       "      <td>0.000000</td>\n",
       "      <td>0.000000</td>\n",
       "      <td>0.000000</td>\n",
       "      <td>0.000000</td>\n",
       "      <td>0.000000</td>\n",
       "    </tr>\n",
       "    <tr>\n",
       "      <th>25%</th>\n",
       "      <td>0.000000</td>\n",
       "      <td>-8.000000</td>\n",
       "      <td>3.000000</td>\n",
       "      <td>1.000000</td>\n",
       "      <td>8.400000</td>\n",
       "      <td>0.000000</td>\n",
       "      <td>0.900000</td>\n",
       "      <td>4.700000</td>\n",
       "      <td>0.000000</td>\n",
       "      <td>2.300000</td>\n",
       "    </tr>\n",
       "    <tr>\n",
       "      <th>50%</th>\n",
       "      <td>0.000000</td>\n",
       "      <td>1.000000</td>\n",
       "      <td>5.000000</td>\n",
       "      <td>2.000000</td>\n",
       "      <td>12.453344</td>\n",
       "      <td>1.000000</td>\n",
       "      <td>1.600000</td>\n",
       "      <td>13.500000</td>\n",
       "      <td>0.000000</td>\n",
       "      <td>3.700000</td>\n",
       "    </tr>\n",
       "    <tr>\n",
       "      <th>75%</th>\n",
       "      <td>1.000000</td>\n",
       "      <td>9.000000</td>\n",
       "      <td>9.000000</td>\n",
       "      <td>3.000000</td>\n",
       "      <td>16.400000</td>\n",
       "      <td>2.000000</td>\n",
       "      <td>3.700000</td>\n",
       "      <td>22.500000</td>\n",
       "      <td>1.000000</td>\n",
       "      <td>5.300000</td>\n",
       "    </tr>\n",
       "    <tr>\n",
       "      <th>max</th>\n",
       "      <td>1.000000</td>\n",
       "      <td>53.000000</td>\n",
       "      <td>38.000000</td>\n",
       "      <td>7.000000</td>\n",
       "      <td>24.000000</td>\n",
       "      <td>32.000000</td>\n",
       "      <td>24.900000</td>\n",
       "      <td>29.900000</td>\n",
       "      <td>1.000000</td>\n",
       "      <td>53.200000</td>\n",
       "    </tr>\n",
       "  </tbody>\n",
       "</table>\n",
       "</div>"
      ],
      "text/plain": [
       "                   W   FINAL_MARGIN    SHOT_NUMBER         PERIOD  \\\n",
       "count  127481.000000  127481.000000  127481.000000  127481.000000   \n",
       "mean        0.495391       0.213899       6.502969       2.469529   \n",
       "std         0.499981      13.232030       4.711046       1.140099   \n",
       "min         0.000000     -53.000000       1.000000       1.000000   \n",
       "25%         0.000000      -8.000000       3.000000       1.000000   \n",
       "50%         0.000000       1.000000       5.000000       2.000000   \n",
       "75%         1.000000       9.000000       9.000000       3.000000   \n",
       "max         1.000000      53.000000      38.000000       7.000000   \n",
       "\n",
       "          SHOT_CLOCK       DRIBBLES     TOUCH_TIME      SHOT_DIST  \\\n",
       "count  127481.000000  127481.000000  127481.000000  127481.000000   \n",
       "mean       12.458421       2.025063       2.781177      13.471787   \n",
       "std         5.637749       3.482676       2.986633       8.781947   \n",
       "min         0.000000       0.000000       0.000000       0.000000   \n",
       "25%         8.400000       0.000000       0.900000       4.700000   \n",
       "50%        12.453344       1.000000       1.600000      13.500000   \n",
       "75%        16.400000       2.000000       3.700000      22.500000   \n",
       "max        24.000000      32.000000      24.900000      29.900000   \n",
       "\n",
       "         SHOT_RESULT  CLOSE_DEF_DIST  \n",
       "count  127481.000000   127481.000000  \n",
       "mean        0.453793        4.114030  \n",
       "std         0.497862        2.745217  \n",
       "min         0.000000        0.000000  \n",
       "25%         0.000000        2.300000  \n",
       "50%         0.000000        3.700000  \n",
       "75%         1.000000        5.300000  \n",
       "max         1.000000       53.200000  "
      ]
     },
     "execution_count": 79,
     "metadata": {},
     "output_type": "execute_result"
    }
   ],
   "source": [
    "df.describe()"
   ]
  },
  {
   "cell_type": "markdown",
   "metadata": {},
   "source": [
    "next lets see about dribbels, 0 dribbels means a catch and shoot, so this will be a category, and we will do every 1-10,11-20, 21+ dribbels as well\n",
    "\n",
    "check we didnt count a shot twice or missed a shot"
   ]
  },
  {
   "cell_type": "code",
   "execution_count": 80,
   "metadata": {
    "scrolled": false
   },
   "outputs": [
    {
     "name": "stdout",
     "output_type": "stream",
     "text": [
      "62984\n",
      "59422\n",
      "4568\n",
      "507\n",
      "127481\n",
      "127481\n"
     ]
    }
   ],
   "source": [
    "catch_shot = df.loc[df['DRIBBLES'] == 0]\n",
    "low_dribbles = df.loc[(df['DRIBBLES'] >=1) & (df['DRIBBLES'] <=10)]\n",
    "med_dribbles = df.loc[(df['DRIBBLES'] >=11) & (df['DRIBBLES']<= 20)]\n",
    "high_dribbles = df.loc[df['DRIBBLES'] > 20]\n",
    "print(catch_shot.shape[0])\n",
    "print(low_dribbles.shape[0])\n",
    "print(med_dribbles.shape[0])\n",
    "print(high_dribbles.shape[0])\n",
    "print(df.shape[0])\n",
    "print(catch_shot.shape[0]+low_dribbles.shape[0]+med_dribbles.shape[0]+high_dribbles.shape[0])"
   ]
  },
  {
   "cell_type": "markdown",
   "metadata": {},
   "source": [
    "now lets check the shot % based on amount of dribbles"
   ]
  },
  {
   "cell_type": "code",
   "execution_count": 81,
   "metadata": {},
   "outputs": [
    {
     "data": {
      "image/png": "[encoded data removed]",
      "text/plain": [
       "<Figure size 432x288 with 1 Axes>"
      ]
     },
     "metadata": {},
     "output_type": "display_data"
    }
   ],
   "source": [
    "catch_per = catch_shot.loc[catch_shot['SHOT_RESULT'] ==1].shape[0]/catch_shot.shape[0]\n",
    "low_per = low_dribbles.loc[low_dribbles['SHOT_RESULT'] ==1].shape[0]/low_dribbles.shape[0]\n",
    "med_per = med_dribbles.loc[med_dribbles['SHOT_RESULT'] ==1].shape[0]/med_dribbles.shape[0]\n",
    "high_per = high_dribbles.loc[high_dribbles['SHOT_RESULT'] ==1].shape[0]/high_dribbles.shape[0]\n",
    "per_arr = [catch_per*100,low_per*100,med_per*100,high_per*100]\n",
    "xlabels = [\"catch and shoot\",\"1-10 dribbles\",\"11-20 dribbles\",\"21+ dribbles\"]\n",
    "sns.set_style(\"whitegrid\")\n",
    "ax = sns.barplot(y = per_arr, x = xlabels)"
   ]
  },
  {
   "cell_type": "code",
   "execution_count": 82,
   "metadata": {},
   "outputs": [
    {
     "name": "stdout",
     "output_type": "stream",
     "text": [
      "0.3708086785009862\n",
      "507\n",
      "0.4176882661996497\n",
      "4568\n",
      "0.4369762040994918\n",
      "59422\n",
      "0.4729455099707862\n",
      "62984\n"
     ]
    }
   ],
   "source": [
    "print(high_per)\n",
    "print(high_dribbles.shape[0])\n",
    "print(med_per)\n",
    "print(med_dribbles.shape[0])\n",
    "print(low_per)\n",
    "print(low_dribbles.shape[0])\n",
    "print(catch_per)\n",
    "print(catch_shot.shape[0])"
   ]
  },
  {
   "cell_type": "markdown",
   "metadata": {},
   "source": [
    "we can see that as the player dribbles more, there is a bigger chance he will miss, but we also see that 96% of the shots taken were either catch and shoot situations or 1-10 dribbles so the big drop is only for a small amount of percentege of shots so we will remove all the shots with 21+ dribbles since it will move our model to fit these shots, and they represent \n",
    "0.4% of our shots\n",
    "\n"
   ]
  },
  {
   "cell_type": "code",
   "execution_count": 83,
   "metadata": {},
   "outputs": [
    {
     "data": {
      "text/html": [
       "<div>\n",
       "<style scoped>\n",
       "    .dataframe tbody tr th:only-of-type {\n",
       "        vertical-align: middle;\n",
       "    }\n",
       "\n",
       "    .dataframe tbody tr th {\n",
       "        vertical-align: top;\n",
       "    }\n",
       "\n",
       "    .dataframe thead th {\n",
       "        text-align: right;\n",
       "    }\n",
       "</style>\n",
       "<table border=\"1\" class=\"dataframe\">\n",
       "  <thead>\n",
       "    <tr style=\"text-align: right;\">\n",
       "      <th></th>\n",
       "      <th>W</th>\n",
       "      <th>FINAL_MARGIN</th>\n",
       "      <th>SHOT_NUMBER</th>\n",
       "      <th>PERIOD</th>\n",
       "      <th>SHOT_CLOCK</th>\n",
       "      <th>DRIBBLES</th>\n",
       "      <th>TOUCH_TIME</th>\n",
       "      <th>SHOT_DIST</th>\n",
       "      <th>SHOT_RESULT</th>\n",
       "      <th>CLOSE_DEF_DIST</th>\n",
       "    </tr>\n",
       "  </thead>\n",
       "  <tbody>\n",
       "    <tr>\n",
       "      <th>count</th>\n",
       "      <td>126974.000000</td>\n",
       "      <td>126974.000000</td>\n",
       "      <td>126974.000000</td>\n",
       "      <td>126974.000000</td>\n",
       "      <td>126974.000000</td>\n",
       "      <td>126974.000000</td>\n",
       "      <td>126974.000000</td>\n",
       "      <td>126974.000000</td>\n",
       "      <td>126974.000000</td>\n",
       "      <td>126974.000000</td>\n",
       "    </tr>\n",
       "    <tr>\n",
       "      <th>mean</th>\n",
       "      <td>0.496015</td>\n",
       "      <td>0.199395</td>\n",
       "      <td>6.488887</td>\n",
       "      <td>2.468127</td>\n",
       "      <td>12.485933</td>\n",
       "      <td>1.940941</td>\n",
       "      <td>2.714758</td>\n",
       "      <td>13.467838</td>\n",
       "      <td>0.454124</td>\n",
       "      <td>4.116421</td>\n",
       "    </tr>\n",
       "    <tr>\n",
       "      <th>std</th>\n",
       "      <td>0.499986</td>\n",
       "      <td>13.234296</td>\n",
       "      <td>4.699159</td>\n",
       "      <td>1.139787</td>\n",
       "      <td>5.627748</td>\n",
       "      <td>3.221703</td>\n",
       "      <td>2.797926</td>\n",
       "      <td>8.783883</td>\n",
       "      <td>0.497893</td>\n",
       "      <td>2.748513</td>\n",
       "    </tr>\n",
       "    <tr>\n",
       "      <th>min</th>\n",
       "      <td>0.000000</td>\n",
       "      <td>-53.000000</td>\n",
       "      <td>1.000000</td>\n",
       "      <td>1.000000</td>\n",
       "      <td>0.000000</td>\n",
       "      <td>0.000000</td>\n",
       "      <td>0.000000</td>\n",
       "      <td>0.000000</td>\n",
       "      <td>0.000000</td>\n",
       "      <td>0.000000</td>\n",
       "    </tr>\n",
       "    <tr>\n",
       "      <th>25%</th>\n",
       "      <td>0.000000</td>\n",
       "      <td>-8.000000</td>\n",
       "      <td>3.000000</td>\n",
       "      <td>1.000000</td>\n",
       "      <td>8.500000</td>\n",
       "      <td>0.000000</td>\n",
       "      <td>0.900000</td>\n",
       "      <td>4.700000</td>\n",
       "      <td>0.000000</td>\n",
       "      <td>2.300000</td>\n",
       "    </tr>\n",
       "    <tr>\n",
       "      <th>50%</th>\n",
       "      <td>0.000000</td>\n",
       "      <td>1.000000</td>\n",
       "      <td>5.000000</td>\n",
       "      <td>2.000000</td>\n",
       "      <td>12.453344</td>\n",
       "      <td>1.000000</td>\n",
       "      <td>1.600000</td>\n",
       "      <td>13.500000</td>\n",
       "      <td>0.000000</td>\n",
       "      <td>3.700000</td>\n",
       "    </tr>\n",
       "    <tr>\n",
       "      <th>75%</th>\n",
       "      <td>1.000000</td>\n",
       "      <td>9.000000</td>\n",
       "      <td>9.000000</td>\n",
       "      <td>3.000000</td>\n",
       "      <td>16.400000</td>\n",
       "      <td>2.000000</td>\n",
       "      <td>3.700000</td>\n",
       "      <td>22.500000</td>\n",
       "      <td>1.000000</td>\n",
       "      <td>5.300000</td>\n",
       "    </tr>\n",
       "    <tr>\n",
       "      <th>max</th>\n",
       "      <td>1.000000</td>\n",
       "      <td>53.000000</td>\n",
       "      <td>38.000000</td>\n",
       "      <td>7.000000</td>\n",
       "      <td>24.000000</td>\n",
       "      <td>20.000000</td>\n",
       "      <td>23.200000</td>\n",
       "      <td>29.900000</td>\n",
       "      <td>1.000000</td>\n",
       "      <td>53.200000</td>\n",
       "    </tr>\n",
       "  </tbody>\n",
       "</table>\n",
       "</div>"
      ],
      "text/plain": [
       "                   W   FINAL_MARGIN    SHOT_NUMBER         PERIOD  \\\n",
       "count  126974.000000  126974.000000  126974.000000  126974.000000   \n",
       "mean        0.496015       0.199395       6.488887       2.468127   \n",
       "std         0.499986      13.234296       4.699159       1.139787   \n",
       "min         0.000000     -53.000000       1.000000       1.000000   \n",
       "25%         0.000000      -8.000000       3.000000       1.000000   \n",
       "50%         0.000000       1.000000       5.000000       2.000000   \n",
       "75%         1.000000       9.000000       9.000000       3.000000   \n",
       "max         1.000000      53.000000      38.000000       7.000000   \n",
       "\n",
       "          SHOT_CLOCK       DRIBBLES     TOUCH_TIME      SHOT_DIST  \\\n",
       "count  126974.000000  126974.000000  126974.000000  126974.000000   \n",
       "mean       12.485933       1.940941       2.714758      13.467838   \n",
       "std         5.627748       3.221703       2.797926       8.783883   \n",
       "min         0.000000       0.000000       0.000000       0.000000   \n",
       "25%         8.500000       0.000000       0.900000       4.700000   \n",
       "50%        12.453344       1.000000       1.600000      13.500000   \n",
       "75%        16.400000       2.000000       3.700000      22.500000   \n",
       "max        24.000000      20.000000      23.200000      29.900000   \n",
       "\n",
       "         SHOT_RESULT  CLOSE_DEF_DIST  \n",
       "count  126974.000000   126974.000000  \n",
       "mean        0.454124        4.116421  \n",
       "std         0.497893        2.748513  \n",
       "min         0.000000        0.000000  \n",
       "25%         0.000000        2.300000  \n",
       "50%         0.000000        3.700000  \n",
       "75%         1.000000        5.300000  \n",
       "max         1.000000       53.200000  "
      ]
     },
     "execution_count": 83,
     "metadata": {},
     "output_type": "execute_result"
    }
   ],
   "source": [
    "df = df[df.DRIBBLES <= 20]\n",
    "df.describe()"
   ]
  },
  {
   "cell_type": "markdown",
   "metadata": {},
   "source": [
    "last lets check the touch_time column, we will split it to 4 categories, 0-6 second,6-12,12-18,18-24"
   ]
  },
  {
   "cell_type": "code",
   "execution_count": 84,
   "metadata": {},
   "outputs": [
    {
     "data": {
      "text/plain": [
       "Text(0.5, 1.0, '% of shots made based on time dribbeling')"
      ]
     },
     "execution_count": 84,
     "metadata": {},
     "output_type": "execute_result"
    },
    {
     "data": {
      "image/png": "[encoded data removed]",
      "text/plain": [
       "<Figure size 720x360 with 1 Axes>"
      ]
     },
     "metadata": {},
     "output_type": "display_data"
    }
   ],
   "source": [
    "short_touch = df.loc[df[\"TOUCH_TIME\"] < 6]\n",
    "med_touch = df.loc[(df[\"TOUCH_TIME\"] >= 6) & (df[\"TOUCH_TIME\"] < 12)]\n",
    "long_touch = df.loc[(df[\"TOUCH_TIME\"] >= 12) & (df[\"TOUCH_TIME\"] < 18)]\n",
    "super_long_touch = df.loc[(df[\"TOUCH_TIME\"] >= 18) & (df[\"TOUCH_TIME\"] < 24)]\n",
    "short_per = short_touch.loc[short_touch[\"SHOT_RESULT\"] == 1].shape[0]/short_touch.shape[0]\n",
    "med_per = med_touch.loc[med_touch[\"SHOT_RESULT\"] == 1].shape[0]/med_touch.shape[0]\n",
    "long_per = long_touch.loc[long_touch[\"SHOT_RESULT\"] == 1].shape[0]/long_touch.shape[0]\n",
    "sLong_per = super_long_touch.loc[super_long_touch[\"SHOT_RESULT\"] == 1].shape[0]/super_long_touch.shape[0]\n",
    "per = [short_per,med_per,long_per,sLong_per ]\n",
    "xlabels =[\"0-6 seconds dribbeling\",\"6-12 second dribbeling\",\"12-18 second dribbeling\",\"18-24 seconds dribbeling\"]\n",
    "plt.figure(figsize = [10,5])\n",
    "plt.bar(x = xlabels,height = per)\n",
    "plt.ylabel(\"Shots made %\")\n",
    "plt.title(\"% of shots made based on time dribbeling\")"
   ]
  },
  {
   "cell_type": "markdown",
   "metadata": {},
   "source": [
    "as we see the longer the player is dribbeling, his % of making his shot drops, but we will see how much we have of each category to wee if we can remove the outliers"
   ]
  },
  {
   "cell_type": "code",
   "execution_count": 85,
   "metadata": {},
   "outputs": [
    {
     "name": "stdout",
     "output_type": "stream",
     "text": [
      "0.45912173271594514\n",
      "112517\n",
      "0.41725921137685845\n",
      "12376\n",
      "0.41026970954356845\n",
      "1928\n",
      "0.3137254901960784\n",
      "153\n"
     ]
    }
   ],
   "source": [
    "print(short_per)\n",
    "print(short_touch.shape[0])\n",
    "print(med_per)\n",
    "print(med_touch.shape[0])\n",
    "print(long_per)\n",
    "print(long_touch.shape[0])\n",
    "print(sLong_per)\n",
    "print(super_long_touch.shape[0])"
   ]
  },
  {
   "cell_type": "markdown",
   "metadata": {},
   "source": [
    "as we see we only have 153 shots with more then 18 second of dribbeling, which is 0.1% of our total shots, and beaucse they have a very low precentege, it will also lower the model down, so we will remove those as well"
   ]
  },
  {
   "cell_type": "code",
   "execution_count": 86,
   "metadata": {},
   "outputs": [
    {
     "data": {
      "text/html": [
       "<div>\n",
       "<style scoped>\n",
       "    .dataframe tbody tr th:only-of-type {\n",
       "        vertical-align: middle;\n",
       "    }\n",
       "\n",
       "    .dataframe tbody tr th {\n",
       "        vertical-align: top;\n",
       "    }\n",
       "\n",
       "    .dataframe thead th {\n",
       "        text-align: right;\n",
       "    }\n",
       "</style>\n",
       "<table border=\"1\" class=\"dataframe\">\n",
       "  <thead>\n",
       "    <tr style=\"text-align: right;\">\n",
       "      <th></th>\n",
       "      <th>W</th>\n",
       "      <th>FINAL_MARGIN</th>\n",
       "      <th>SHOT_NUMBER</th>\n",
       "      <th>PERIOD</th>\n",
       "      <th>SHOT_CLOCK</th>\n",
       "      <th>DRIBBLES</th>\n",
       "      <th>TOUCH_TIME</th>\n",
       "      <th>SHOT_DIST</th>\n",
       "      <th>SHOT_RESULT</th>\n",
       "      <th>CLOSE_DEF_DIST</th>\n",
       "    </tr>\n",
       "  </thead>\n",
       "  <tbody>\n",
       "    <tr>\n",
       "      <th>0</th>\n",
       "      <td>0.0</td>\n",
       "      <td>24</td>\n",
       "      <td>1</td>\n",
       "      <td>1</td>\n",
       "      <td>10.800000</td>\n",
       "      <td>2</td>\n",
       "      <td>1.9</td>\n",
       "      <td>7.7</td>\n",
       "      <td>1</td>\n",
       "      <td>1.3</td>\n",
       "    </tr>\n",
       "    <tr>\n",
       "      <th>1</th>\n",
       "      <td>0.0</td>\n",
       "      <td>24</td>\n",
       "      <td>2</td>\n",
       "      <td>1</td>\n",
       "      <td>3.400000</td>\n",
       "      <td>0</td>\n",
       "      <td>0.8</td>\n",
       "      <td>28.2</td>\n",
       "      <td>0</td>\n",
       "      <td>6.1</td>\n",
       "    </tr>\n",
       "    <tr>\n",
       "      <th>2</th>\n",
       "      <td>0.0</td>\n",
       "      <td>24</td>\n",
       "      <td>3</td>\n",
       "      <td>1</td>\n",
       "      <td>12.453344</td>\n",
       "      <td>3</td>\n",
       "      <td>2.7</td>\n",
       "      <td>10.1</td>\n",
       "      <td>0</td>\n",
       "      <td>0.9</td>\n",
       "    </tr>\n",
       "    <tr>\n",
       "      <th>3</th>\n",
       "      <td>0.0</td>\n",
       "      <td>24</td>\n",
       "      <td>4</td>\n",
       "      <td>2</td>\n",
       "      <td>10.300000</td>\n",
       "      <td>2</td>\n",
       "      <td>1.9</td>\n",
       "      <td>17.2</td>\n",
       "      <td>0</td>\n",
       "      <td>3.4</td>\n",
       "    </tr>\n",
       "    <tr>\n",
       "      <th>4</th>\n",
       "      <td>0.0</td>\n",
       "      <td>24</td>\n",
       "      <td>5</td>\n",
       "      <td>2</td>\n",
       "      <td>10.900000</td>\n",
       "      <td>2</td>\n",
       "      <td>2.7</td>\n",
       "      <td>3.7</td>\n",
       "      <td>0</td>\n",
       "      <td>1.1</td>\n",
       "    </tr>\n",
       "    <tr>\n",
       "      <th>...</th>\n",
       "      <td>...</td>\n",
       "      <td>...</td>\n",
       "      <td>...</td>\n",
       "      <td>...</td>\n",
       "      <td>...</td>\n",
       "      <td>...</td>\n",
       "      <td>...</td>\n",
       "      <td>...</td>\n",
       "      <td>...</td>\n",
       "      <td>...</td>\n",
       "    </tr>\n",
       "    <tr>\n",
       "      <th>128064</th>\n",
       "      <td>1.0</td>\n",
       "      <td>-16</td>\n",
       "      <td>5</td>\n",
       "      <td>3</td>\n",
       "      <td>18.300000</td>\n",
       "      <td>5</td>\n",
       "      <td>6.2</td>\n",
       "      <td>8.7</td>\n",
       "      <td>0</td>\n",
       "      <td>0.8</td>\n",
       "    </tr>\n",
       "    <tr>\n",
       "      <th>128065</th>\n",
       "      <td>1.0</td>\n",
       "      <td>-16</td>\n",
       "      <td>6</td>\n",
       "      <td>4</td>\n",
       "      <td>19.800000</td>\n",
       "      <td>4</td>\n",
       "      <td>5.2</td>\n",
       "      <td>0.6</td>\n",
       "      <td>1</td>\n",
       "      <td>0.6</td>\n",
       "    </tr>\n",
       "    <tr>\n",
       "      <th>128066</th>\n",
       "      <td>1.0</td>\n",
       "      <td>-16</td>\n",
       "      <td>7</td>\n",
       "      <td>4</td>\n",
       "      <td>23.000000</td>\n",
       "      <td>2</td>\n",
       "      <td>4.2</td>\n",
       "      <td>16.9</td>\n",
       "      <td>1</td>\n",
       "      <td>4.2</td>\n",
       "    </tr>\n",
       "    <tr>\n",
       "      <th>128067</th>\n",
       "      <td>1.0</td>\n",
       "      <td>-16</td>\n",
       "      <td>8</td>\n",
       "      <td>4</td>\n",
       "      <td>9.100000</td>\n",
       "      <td>4</td>\n",
       "      <td>4.5</td>\n",
       "      <td>18.3</td>\n",
       "      <td>0</td>\n",
       "      <td>3.0</td>\n",
       "    </tr>\n",
       "    <tr>\n",
       "      <th>128068</th>\n",
       "      <td>1.0</td>\n",
       "      <td>-16</td>\n",
       "      <td>9</td>\n",
       "      <td>4</td>\n",
       "      <td>12.453344</td>\n",
       "      <td>5</td>\n",
       "      <td>4.7</td>\n",
       "      <td>5.1</td>\n",
       "      <td>1</td>\n",
       "      <td>2.3</td>\n",
       "    </tr>\n",
       "  </tbody>\n",
       "</table>\n",
       "<p>126821 rows × 10 columns</p>\n",
       "</div>"
      ],
      "text/plain": [
       "          W  FINAL_MARGIN  SHOT_NUMBER  PERIOD  SHOT_CLOCK  DRIBBLES  \\\n",
       "0       0.0            24            1       1   10.800000         2   \n",
       "1       0.0            24            2       1    3.400000         0   \n",
       "2       0.0            24            3       1   12.453344         3   \n",
       "3       0.0            24            4       2   10.300000         2   \n",
       "4       0.0            24            5       2   10.900000         2   \n",
       "...     ...           ...          ...     ...         ...       ...   \n",
       "128064  1.0           -16            5       3   18.300000         5   \n",
       "128065  1.0           -16            6       4   19.800000         4   \n",
       "128066  1.0           -16            7       4   23.000000         2   \n",
       "128067  1.0           -16            8       4    9.100000         4   \n",
       "128068  1.0           -16            9       4   12.453344         5   \n",
       "\n",
       "        TOUCH_TIME  SHOT_DIST  SHOT_RESULT  CLOSE_DEF_DIST  \n",
       "0              1.9        7.7            1             1.3  \n",
       "1              0.8       28.2            0             6.1  \n",
       "2              2.7       10.1            0             0.9  \n",
       "3              1.9       17.2            0             3.4  \n",
       "4              2.7        3.7            0             1.1  \n",
       "...            ...        ...          ...             ...  \n",
       "128064         6.2        8.7            0             0.8  \n",
       "128065         5.2        0.6            1             0.6  \n",
       "128066         4.2       16.9            1             4.2  \n",
       "128067         4.5       18.3            0             3.0  \n",
       "128068         4.7        5.1            1             2.3  \n",
       "\n",
       "[126821 rows x 10 columns]"
      ]
     },
     "execution_count": 86,
     "metadata": {},
     "output_type": "execute_result"
    }
   ],
   "source": [
    "df = df[df[\"TOUCH_TIME\"] < 18]\n",
    "df"
   ]
  },
  {
   "cell_type": "markdown",
   "metadata": {},
   "source": [
    "now we will get our data ready to use in the clasifer, first we need to get our target array and then remove the shot_result column"
   ]
  },
  {
   "cell_type": "code",
   "execution_count": 87,
   "metadata": {},
   "outputs": [
    {
     "name": "stdout",
     "output_type": "stream",
     "text": [
      "0         1\n",
      "1         0\n",
      "2         0\n",
      "3         0\n",
      "4         0\n",
      "         ..\n",
      "126816    0\n",
      "126817    1\n",
      "126818    1\n",
      "126819    0\n",
      "126820    1\n",
      "Name: SHOT_RESULT, Length: 126821, dtype: int64\n",
      "<class 'pandas.core.series.Series'>\n"
     ]
    }
   ],
   "source": [
    "df.reset_index(drop=True, inplace=True)\n",
    "target = df.SHOT_RESULT\n",
    "df = df.drop(columns = [\"SHOT_RESULT\"])\n",
    "print(target)\n",
    "print(type(target))\n",
    "target = target.to_numpy()"
   ]
  },
  {
   "cell_type": "markdown",
   "metadata": {},
   "source": [
    " "
   ]
  },
  {
   "cell_type": "markdown",
   "metadata": {},
   "source": [
    " "
   ]
  },
  {
   "cell_type": "markdown",
   "metadata": {},
   "source": [
    "now we need to set an array of arrays that will hold our data for each shot and reindex our dataframe cause we dropped some rows\n",
    "\n",
    "i will build 2 models, 1 where i categorize the some of the data to groups and the other where i leave it as is, first we will do the second option"
   ]
  },
  {
   "cell_type": "code",
   "execution_count": 88,
   "metadata": {},
   "outputs": [
    {
     "data": {
      "text/html": [
       "<div>\n",
       "<style scoped>\n",
       "    .dataframe tbody tr th:only-of-type {\n",
       "        vertical-align: middle;\n",
       "    }\n",
       "\n",
       "    .dataframe tbody tr th {\n",
       "        vertical-align: top;\n",
       "    }\n",
       "\n",
       "    .dataframe thead th {\n",
       "        text-align: right;\n",
       "    }\n",
       "</style>\n",
       "<table border=\"1\" class=\"dataframe\">\n",
       "  <thead>\n",
       "    <tr style=\"text-align: right;\">\n",
       "      <th></th>\n",
       "      <th>W</th>\n",
       "      <th>FINAL_MARGIN</th>\n",
       "      <th>SHOT_NUMBER</th>\n",
       "      <th>PERIOD</th>\n",
       "      <th>SHOT_CLOCK</th>\n",
       "      <th>DRIBBLES</th>\n",
       "      <th>TOUCH_TIME</th>\n",
       "      <th>SHOT_DIST</th>\n",
       "      <th>CLOSE_DEF_DIST</th>\n",
       "    </tr>\n",
       "  </thead>\n",
       "  <tbody>\n",
       "    <tr>\n",
       "      <th>0</th>\n",
       "      <td>0.0</td>\n",
       "      <td>24</td>\n",
       "      <td>1</td>\n",
       "      <td>1</td>\n",
       "      <td>10.800000</td>\n",
       "      <td>2</td>\n",
       "      <td>1.9</td>\n",
       "      <td>7.7</td>\n",
       "      <td>1.3</td>\n",
       "    </tr>\n",
       "    <tr>\n",
       "      <th>1</th>\n",
       "      <td>0.0</td>\n",
       "      <td>24</td>\n",
       "      <td>2</td>\n",
       "      <td>1</td>\n",
       "      <td>3.400000</td>\n",
       "      <td>0</td>\n",
       "      <td>0.8</td>\n",
       "      <td>28.2</td>\n",
       "      <td>6.1</td>\n",
       "    </tr>\n",
       "    <tr>\n",
       "      <th>2</th>\n",
       "      <td>0.0</td>\n",
       "      <td>24</td>\n",
       "      <td>3</td>\n",
       "      <td>1</td>\n",
       "      <td>12.453344</td>\n",
       "      <td>3</td>\n",
       "      <td>2.7</td>\n",
       "      <td>10.1</td>\n",
       "      <td>0.9</td>\n",
       "    </tr>\n",
       "    <tr>\n",
       "      <th>3</th>\n",
       "      <td>0.0</td>\n",
       "      <td>24</td>\n",
       "      <td>4</td>\n",
       "      <td>2</td>\n",
       "      <td>10.300000</td>\n",
       "      <td>2</td>\n",
       "      <td>1.9</td>\n",
       "      <td>17.2</td>\n",
       "      <td>3.4</td>\n",
       "    </tr>\n",
       "    <tr>\n",
       "      <th>4</th>\n",
       "      <td>0.0</td>\n",
       "      <td>24</td>\n",
       "      <td>5</td>\n",
       "      <td>2</td>\n",
       "      <td>10.900000</td>\n",
       "      <td>2</td>\n",
       "      <td>2.7</td>\n",
       "      <td>3.7</td>\n",
       "      <td>1.1</td>\n",
       "    </tr>\n",
       "  </tbody>\n",
       "</table>\n",
       "</div>"
      ],
      "text/plain": [
       "     W  FINAL_MARGIN  SHOT_NUMBER  PERIOD  SHOT_CLOCK  DRIBBLES  TOUCH_TIME  \\\n",
       "0  0.0            24            1       1   10.800000         2         1.9   \n",
       "1  0.0            24            2       1    3.400000         0         0.8   \n",
       "2  0.0            24            3       1   12.453344         3         2.7   \n",
       "3  0.0            24            4       2   10.300000         2         1.9   \n",
       "4  0.0            24            5       2   10.900000         2         2.7   \n",
       "\n",
       "   SHOT_DIST  CLOSE_DEF_DIST  \n",
       "0        7.7             1.3  \n",
       "1       28.2             6.1  \n",
       "2       10.1             0.9  \n",
       "3       17.2             3.4  \n",
       "4        3.7             1.1  "
      ]
     },
     "execution_count": 88,
     "metadata": {},
     "output_type": "execute_result"
    }
   ],
   "source": [
    "df.head()"
   ]
  },
  {
   "cell_type": "code",
   "execution_count": null,
   "metadata": {},
   "outputs": [],
   "source": []
  },
  {
   "cell_type": "code",
   "execution_count": 42,
   "metadata": {},
   "outputs": [],
   "source": [
    "data = np.zeros((df.shape[0],9))\n",
    "for i in range(len(data)):\n",
    "    data[i][0] = df.loc[i].W\n",
    "    data[i][1] = df.loc[i].FINAL_MARGIN\n",
    "    data[i][2] = df.loc[i].SHOT_NUMBER\n",
    "    data[i][3] = df.loc[i].PERIOD\n",
    "    data[i][4] = df.loc[i].SHOT_CLOCK\n",
    "    data[i][5] = df.loc[i].DRIBBLES\n",
    "    data[i][6] = df.loc[i].TOUCH_TIME\n",
    "    data[i][7] = df.loc[i].SHOT_DIST\n",
    "    data[i][8] = df.loc[i].CLOSE_DEF_DIST"
   ]
  },
  {
   "cell_type": "code",
   "execution_count": null,
   "metadata": {},
   "outputs": [],
   "source": []
  },
  {
   "cell_type": "code",
   "execution_count": 43,
   "metadata": {},
   "outputs": [],
   "source": [
    "from sklearn.model_selection import cross_val_score\n",
    "from sklearn.neighbors import KNeighborsClassifier\n",
    "from sklearn import metrics\n",
    "from sklearn.model_selection import train_test_split"
   ]
  },
  {
   "cell_type": "markdown",
   "metadata": {},
   "source": [
    "after we worked on the data, its time to start splitting it and using sklearn models on it,first we will run on a loop to check for the most optimal n in knn model, and since we have a lot of sampels, we will check between 200 and 300, and also try to use the train-test split, since we have a lot of rows, a test size of 0.05 will be enough"
   ]
  },
  {
   "cell_type": "code",
   "execution_count": 54,
   "metadata": {
    "scrolled": true
   },
   "outputs": [],
   "source": [
    "data_train, data_test, target_train, target_test = train_test_split(data, target,test_size = 0.05, random_state=10)\n",
    "\n",
    "k_range = list(range(1,1000))\n",
    "k_scores_1 = []\n",
    "k_confusion_1 = []\n",
    "for k in k_range:\n",
    "    knn = KNeighborsClassifier(n_neighbors=k)\n",
    "    knn.fit(data_train, target_train)\n",
    "    pred = knn.predict(data_test)\n",
    "    score = metrics.accuracy_score(target_test, pred)\n",
    "    confusion = metrics.confusion_matrix(target_test, pred)\n",
    "    k_scores_1.append(score)\n",
    "    k_confusion_1.append(confusion)"
   ]
  },
  {
   "cell_type": "code",
   "execution_count": 55,
   "metadata": {},
   "outputs": [
    {
     "data": {
      "text/plain": [
       "[<matplotlib.lines.Line2D at 0x2722e3087f0>]"
      ]
     },
     "execution_count": 55,
     "metadata": {},
     "output_type": "execute_result"
    },
    {
     "data": {
      "image/png": "[encoded data removed]",
      "text/plain": [
       "<Figure size 720x360 with 1 Axes>"
      ]
     },
     "metadata": {},
     "output_type": "display_data"
    }
   ],
   "source": [
    "plt.figure(figsize = [10,5])\n",
    "plt.plot(k_scores_1)"
   ]
  },
  {
   "cell_type": "markdown",
   "metadata": {},
   "source": [
    "lets average the confusion matrix and see what we have"
   ]
  },
  {
   "cell_type": "code",
   "execution_count": 56,
   "metadata": {},
   "outputs": [],
   "source": [
    "TP = 0\n",
    "FP =0 \n",
    "TN = 0\n",
    "FN = 0\n",
    "for i in range(len(k_confusion_1)):\n",
    "    TP = TP + k_confusion_1[i][1, 1]\n",
    "    FP = FP + k_confusion_1[i][0, 1]\n",
    "    TN = TN + k_confusion_1[i][0, 0]\n",
    "    FN = FN + k_confusion_1[i][1, 0]"
   ]
  },
  {
   "cell_type": "code",
   "execution_count": 57,
   "metadata": {},
   "outputs": [
    {
     "name": "stdout",
     "output_type": "stream",
     "text": [
      "0.6169977924944813\n",
      "743\n"
     ]
    }
   ],
   "source": [
    "print(max(k_scores_1))\n",
    "i = 0\n",
    "for i in range(999):\n",
    "    if k_scores_1[i] == max(k_scores_1):\n",
    "        print(i)"
   ]
  },
  {
   "cell_type": "markdown",
   "metadata": {},
   "source": [
    "we can see that k_scores_1[743] is our max accuracy, so will check every thing acording to k =744"
   ]
  },
  {
   "cell_type": "code",
   "execution_count": 58,
   "metadata": {
    "scrolled": true
   },
   "outputs": [
    {
     "name": "stdout",
     "output_type": "stream",
     "text": [
      "average of true positive: 1090.3253253253254\n",
      "average of true negative: 2792.865865865866\n",
      "average of false positive: 698.1341341341341\n",
      "average of false negative: 1760.6746746746746\n",
      "accuracy =0.6169977924944813\n",
      "recall = 0.38512802525429674\n",
      "presicion = 0.6189402480270575\n",
      "TP: 1098\n",
      "FP: 676\n",
      "TN: 2815\n",
      "FN: 1753\n"
     ]
    }
   ],
   "source": [
    "TPmean = TP/len(k_confusion_1)\n",
    "FPmean = FP/len(k_confusion_1)\n",
    "TNmean = TN/len(k_confusion_1)\n",
    "FNmean = FN/len(k_confusion_1)\n",
    "print(\"average of true positive: \" + str(TPmean))\n",
    "print(\"average of true negative: \" + str(TNmean))\n",
    "print(\"average of false positive: \" + str(FPmean))\n",
    "print(\"average of false negative: \" + str(FNmean))\n",
    "knn_1 = KNeighborsClassifier(n_neighbors=744)\n",
    "knn_1.fit(data_train, target_train)\n",
    "pred = knn_1.predict(data_test)\n",
    "print(\"accuracy =\" + str(metrics.accuracy_score(target_test, pred)))\n",
    "print(\"recall = \" + str(metrics.recall_score(target_test, pred)))\n",
    "print(\"presicion = \" + str(metrics.precision_score(target_test, pred)))\n",
    "confusion_1 = metrics.confusion_matrix(target_test, pred)  \n",
    "print(\"TP: \" + str(confusion_1[1, 1]))\n",
    "print(\"FP: \" + str(confusion_1[0, 1]))\n",
    "print(\"TN: \" + str(confusion_1[0, 0]))\n",
    "print(\"FN: \" + str(confusion_1[1, 0]))"
   ]
  },
  {
   "cell_type": "markdown",
   "metadata": {},
   "source": [
    "now lets check with a couple of dummies"
   ]
  },
  {
   "cell_type": "code",
   "execution_count": 51,
   "metadata": {},
   "outputs": [
    {
     "name": "stdout",
     "output_type": "stream",
     "text": [
      "[0.5504572690003153, 0.5145064648375907, 0.48943550930305896]\n"
     ]
    },
    {
     "data": {
      "image/png": "[encoded data removed]",
      "text/plain": [
       "<Figure size 432x288 with 1 Axes>"
      ]
     },
     "metadata": {},
     "output_type": "display_data"
    }
   ],
   "source": [
    "from sklearn.dummy import DummyClassifier\n",
    "dummy_scores = []\n",
    "dummy_confusion = []\n",
    "\n",
    "dummy_1 = DummyClassifier(strategy=\"most_frequent\")\n",
    "dummy_1.fit(data_train, target_train)\n",
    "pred_dummy_1 = dummy_1.predict(data_test)\n",
    "dummy_scores.append(metrics.accuracy_score(target_test, pred_dummy_1))\n",
    "confusion = metrics.confusion_matrix(target_test, pred_dummy_1)\n",
    "dummy_confusion.append(confusion)\n",
    "\n",
    "dummy_2 = DummyClassifier(strategy = \"stratified\")\n",
    "dummy_2.fit(data_train, target_train)\n",
    "pred_dummy_2 = dummy_2.predict(data_test)\n",
    "dummy_scores.append(metrics.accuracy_score(target_test, pred_dummy_2))\n",
    "confusion = metrics.confusion_matrix(target_test, pred_dummy_2)\n",
    "dummy_confusion.append(confusion)\n",
    "\n",
    "dummy_3 = DummyClassifier(strategy = \"uniform\")\n",
    "dummy_3.fit(data_train, target_train)\n",
    "pred_dummy_3 = dummy_3.predict(data_test)\n",
    "dummy_scores.append(metrics.accuracy_score(target_test, pred_dummy_3))\n",
    "confusion = metrics.confusion_matrix(target_test, pred_dummy_3)\n",
    "dummy_confusion.append(confusion)\n",
    "\n",
    "xlables = [\"dummy 1\",\"dummy 2\",\"dummy 3\"]\n",
    "plt.ylabel(\"accuracy\")\n",
    "plt.title(\"accuracy for fummy classifiers\")\n",
    "plt.bar(xlables,height = dummy_scores)\n",
    "print(dummy_scores)"
   ]
  },
  {
   "cell_type": "code",
   "execution_count": 52,
   "metadata": {},
   "outputs": [
    {
     "data": {
      "text/plain": [
       "[array([[3491,    0],\n",
       "        [2851,    0]], dtype=int64),\n",
       " array([[1944, 1547],\n",
       "        [1532, 1319]], dtype=int64),\n",
       " array([[1757, 1734],\n",
       "        [1504, 1347]], dtype=int64)]"
      ]
     },
     "execution_count": 52,
     "metadata": {},
     "output_type": "execute_result"
    }
   ],
   "source": [
    "dummy_confusion"
   ]
  },
  {
   "cell_type": "code",
   "execution_count": 53,
   "metadata": {},
   "outputs": [
    {
     "name": "stdout",
     "output_type": "stream",
     "text": [
      "average of true positive: 888.6666666666666\n",
      "average of true negative: 2397.3333333333335\n",
      "average of false positive: 1093.6666666666667\n",
      "average of false negative: 1962.3333333333333\n"
     ]
    }
   ],
   "source": [
    "TP = 0\n",
    "FP =0 \n",
    "TN = 0\n",
    "FN = 0\n",
    "for i in range(len(dummy_confusion)):\n",
    "    TP = TP + dummy_confusion[i][1, 1]\n",
    "    FP = FP + dummy_confusion[i][0, 1]\n",
    "    TN = TN + dummy_confusion[i][0, 0]\n",
    "    FN = FN + dummy_confusion[i][1, 0]\n",
    "TPmean = TP/len(dummy_confusion)\n",
    "FPmean = FP/len(dummy_confusion)\n",
    "TNmean = TN/len(dummy_confusion)\n",
    "FNmean = FN/len(dummy_confusion)\n",
    "print(\"average of true positive: \" + str(TPmean))\n",
    "print(\"average of true negative: \" + str(TNmean))\n",
    "print(\"average of false positive: \" + str(FPmean))\n",
    "print(\"average of false negative: \" + str(FNmean))"
   ]
  },
  {
   "cell_type": "markdown",
   "metadata": {},
   "source": [
    "now we will categorize shot_dist and game_clock to groups like this\n",
    "\n",
    "possesion kind:\n",
    "\n",
    "1. 14+ seconds on the clock- quick possesion\n",
    "2. 9-13 second on the clock - medium possesion\n",
    "3. 4-8 seocnds on the clock - long possesion\n",
    "4. <4 second on the clock - late possesion\n",
    "\n",
    "shots type:\n",
    "\n",
    "1. close range shots (0-5 ft from basket)\n",
    "2. short two's (6-11 ft from basket)\n",
    "3. mid range (12-17 ft from basket)\n",
    "4. long two's (18- 23 ft from the basket)\n",
    "5. three pointers(23+ from the basket)"
   ]
  },
  {
   "cell_type": "code",
   "execution_count": null,
   "metadata": {},
   "outputs": [],
   "source": []
  },
  {
   "cell_type": "code",
   "execution_count": 101,
   "metadata": {},
   "outputs": [],
   "source": [
    "new_df = df.copy()\n",
    "new_df.loc[(new_df.SHOT_DIST <= 5),'SHOT_DIST'] = 1\n",
    "new_df.loc[((new_df.SHOT_DIST <= 11) &(new_df.SHOT_DIST >5)),'SHOT_DIST'] = 2\n",
    "new_df.loc[((new_df.SHOT_DIST > 11) &(new_df.SHOT_DIST <= 17)),'SHOT_DIST'] = 3\n",
    "new_df.loc[((new_df.SHOT_DIST > 17) &(new_df.SHOT_DIST <= 23.75)) ,'SHOT_DIST'] = 4\n",
    "new_df.loc[(new_df.SHOT_DIST > 23.75), 'SHOT_DIST'] = 5\n",
    "new_df.loc[(new_df.SHOT_CLOCK <= 4),'SHOT_CLOCK'] = 4\n",
    "new_df.loc[((new_df.SHOT_CLOCK <= 9) &(new_df.SHOT_CLOCK >4)),'SHOT_CLOCK'] = 3\n",
    "new_df.loc[((new_df.SHOT_CLOCK > 9) &(new_df.SHOT_CLOCK <= 14)),'SHOT_CLOCK'] = 2\n",
    "new_df.loc[(new_df.SHOT_CLOCK > 14),'SHOT_CLOCK'] = 1"
   ]
  },
  {
   "cell_type": "code",
   "execution_count": 102,
   "metadata": {},
   "outputs": [
    {
     "data": {
      "text/html": [
       "<div>\n",
       "<style scoped>\n",
       "    .dataframe tbody tr th:only-of-type {\n",
       "        vertical-align: middle;\n",
       "    }\n",
       "\n",
       "    .dataframe tbody tr th {\n",
       "        vertical-align: top;\n",
       "    }\n",
       "\n",
       "    .dataframe thead th {\n",
       "        text-align: right;\n",
       "    }\n",
       "</style>\n",
       "<table border=\"1\" class=\"dataframe\">\n",
       "  <thead>\n",
       "    <tr style=\"text-align: right;\">\n",
       "      <th></th>\n",
       "      <th>W</th>\n",
       "      <th>FINAL_MARGIN</th>\n",
       "      <th>SHOT_NUMBER</th>\n",
       "      <th>PERIOD</th>\n",
       "      <th>SHOT_CLOCK</th>\n",
       "      <th>DRIBBLES</th>\n",
       "      <th>TOUCH_TIME</th>\n",
       "      <th>SHOT_DIST</th>\n",
       "      <th>CLOSE_DEF_DIST</th>\n",
       "    </tr>\n",
       "  </thead>\n",
       "  <tbody>\n",
       "    <tr>\n",
       "      <th>0</th>\n",
       "      <td>0.0</td>\n",
       "      <td>24</td>\n",
       "      <td>1</td>\n",
       "      <td>1</td>\n",
       "      <td>2.0</td>\n",
       "      <td>2</td>\n",
       "      <td>1.9</td>\n",
       "      <td>2.0</td>\n",
       "      <td>1.3</td>\n",
       "    </tr>\n",
       "    <tr>\n",
       "      <th>1</th>\n",
       "      <td>0.0</td>\n",
       "      <td>24</td>\n",
       "      <td>2</td>\n",
       "      <td>1</td>\n",
       "      <td>4.0</td>\n",
       "      <td>0</td>\n",
       "      <td>0.8</td>\n",
       "      <td>5.0</td>\n",
       "      <td>6.1</td>\n",
       "    </tr>\n",
       "    <tr>\n",
       "      <th>2</th>\n",
       "      <td>0.0</td>\n",
       "      <td>24</td>\n",
       "      <td>3</td>\n",
       "      <td>1</td>\n",
       "      <td>2.0</td>\n",
       "      <td>3</td>\n",
       "      <td>2.7</td>\n",
       "      <td>2.0</td>\n",
       "      <td>0.9</td>\n",
       "    </tr>\n",
       "    <tr>\n",
       "      <th>3</th>\n",
       "      <td>0.0</td>\n",
       "      <td>24</td>\n",
       "      <td>4</td>\n",
       "      <td>2</td>\n",
       "      <td>2.0</td>\n",
       "      <td>2</td>\n",
       "      <td>1.9</td>\n",
       "      <td>4.0</td>\n",
       "      <td>3.4</td>\n",
       "    </tr>\n",
       "    <tr>\n",
       "      <th>4</th>\n",
       "      <td>0.0</td>\n",
       "      <td>24</td>\n",
       "      <td>5</td>\n",
       "      <td>2</td>\n",
       "      <td>2.0</td>\n",
       "      <td>2</td>\n",
       "      <td>2.7</td>\n",
       "      <td>1.0</td>\n",
       "      <td>1.1</td>\n",
       "    </tr>\n",
       "  </tbody>\n",
       "</table>\n",
       "</div>"
      ],
      "text/plain": [
       "     W  FINAL_MARGIN  SHOT_NUMBER  PERIOD  SHOT_CLOCK  DRIBBLES  TOUCH_TIME  \\\n",
       "0  0.0            24            1       1         2.0         2         1.9   \n",
       "1  0.0            24            2       1         4.0         0         0.8   \n",
       "2  0.0            24            3       1         2.0         3         2.7   \n",
       "3  0.0            24            4       2         2.0         2         1.9   \n",
       "4  0.0            24            5       2         2.0         2         2.7   \n",
       "\n",
       "   SHOT_DIST  CLOSE_DEF_DIST  \n",
       "0        2.0             1.3  \n",
       "1        5.0             6.1  \n",
       "2        2.0             0.9  \n",
       "3        4.0             3.4  \n",
       "4        1.0             1.1  "
      ]
     },
     "execution_count": 102,
     "metadata": {},
     "output_type": "execute_result"
    }
   ],
   "source": [
    "new_df.head()"
   ]
  },
  {
   "cell_type": "markdown",
   "metadata": {},
   "source": [
    "lets create dummy variabels for all the types, as the model can assume wrong stuff with those random numbers"
   ]
  },
  {
   "cell_type": "code",
   "execution_count": 103,
   "metadata": {},
   "outputs": [
    {
     "data": {
      "text/html": [
       "<div>\n",
       "<style scoped>\n",
       "    .dataframe tbody tr th:only-of-type {\n",
       "        vertical-align: middle;\n",
       "    }\n",
       "\n",
       "    .dataframe tbody tr th {\n",
       "        vertical-align: top;\n",
       "    }\n",
       "\n",
       "    .dataframe thead th {\n",
       "        text-align: right;\n",
       "    }\n",
       "</style>\n",
       "<table border=\"1\" class=\"dataframe\">\n",
       "  <thead>\n",
       "    <tr style=\"text-align: right;\">\n",
       "      <th></th>\n",
       "      <th>W</th>\n",
       "      <th>FINAL_MARGIN</th>\n",
       "      <th>SHOT_NUMBER</th>\n",
       "      <th>PERIOD</th>\n",
       "      <th>DRIBBLES</th>\n",
       "      <th>TOUCH_TIME</th>\n",
       "      <th>CLOSE_DEF_DIST</th>\n",
       "      <th>SHOT_DIST_1.0</th>\n",
       "      <th>SHOT_DIST_2.0</th>\n",
       "      <th>SHOT_DIST_3.0</th>\n",
       "      <th>SHOT_DIST_4.0</th>\n",
       "      <th>SHOT_DIST_5.0</th>\n",
       "      <th>SHOT_CLOCK_1.0</th>\n",
       "      <th>SHOT_CLOCK_2.0</th>\n",
       "      <th>SHOT_CLOCK_3.0</th>\n",
       "      <th>SHOT_CLOCK_4.0</th>\n",
       "    </tr>\n",
       "  </thead>\n",
       "  <tbody>\n",
       "    <tr>\n",
       "      <th>0</th>\n",
       "      <td>0.0</td>\n",
       "      <td>24</td>\n",
       "      <td>1</td>\n",
       "      <td>1</td>\n",
       "      <td>2</td>\n",
       "      <td>1.9</td>\n",
       "      <td>1.3</td>\n",
       "      <td>0</td>\n",
       "      <td>1</td>\n",
       "      <td>0</td>\n",
       "      <td>0</td>\n",
       "      <td>0</td>\n",
       "      <td>0</td>\n",
       "      <td>1</td>\n",
       "      <td>0</td>\n",
       "      <td>0</td>\n",
       "    </tr>\n",
       "    <tr>\n",
       "      <th>1</th>\n",
       "      <td>0.0</td>\n",
       "      <td>24</td>\n",
       "      <td>2</td>\n",
       "      <td>1</td>\n",
       "      <td>0</td>\n",
       "      <td>0.8</td>\n",
       "      <td>6.1</td>\n",
       "      <td>0</td>\n",
       "      <td>0</td>\n",
       "      <td>0</td>\n",
       "      <td>0</td>\n",
       "      <td>1</td>\n",
       "      <td>0</td>\n",
       "      <td>0</td>\n",
       "      <td>0</td>\n",
       "      <td>1</td>\n",
       "    </tr>\n",
       "    <tr>\n",
       "      <th>2</th>\n",
       "      <td>0.0</td>\n",
       "      <td>24</td>\n",
       "      <td>3</td>\n",
       "      <td>1</td>\n",
       "      <td>3</td>\n",
       "      <td>2.7</td>\n",
       "      <td>0.9</td>\n",
       "      <td>0</td>\n",
       "      <td>1</td>\n",
       "      <td>0</td>\n",
       "      <td>0</td>\n",
       "      <td>0</td>\n",
       "      <td>0</td>\n",
       "      <td>1</td>\n",
       "      <td>0</td>\n",
       "      <td>0</td>\n",
       "    </tr>\n",
       "    <tr>\n",
       "      <th>3</th>\n",
       "      <td>0.0</td>\n",
       "      <td>24</td>\n",
       "      <td>4</td>\n",
       "      <td>2</td>\n",
       "      <td>2</td>\n",
       "      <td>1.9</td>\n",
       "      <td>3.4</td>\n",
       "      <td>0</td>\n",
       "      <td>0</td>\n",
       "      <td>0</td>\n",
       "      <td>1</td>\n",
       "      <td>0</td>\n",
       "      <td>0</td>\n",
       "      <td>1</td>\n",
       "      <td>0</td>\n",
       "      <td>0</td>\n",
       "    </tr>\n",
       "    <tr>\n",
       "      <th>4</th>\n",
       "      <td>0.0</td>\n",
       "      <td>24</td>\n",
       "      <td>5</td>\n",
       "      <td>2</td>\n",
       "      <td>2</td>\n",
       "      <td>2.7</td>\n",
       "      <td>1.1</td>\n",
       "      <td>1</td>\n",
       "      <td>0</td>\n",
       "      <td>0</td>\n",
       "      <td>0</td>\n",
       "      <td>0</td>\n",
       "      <td>0</td>\n",
       "      <td>1</td>\n",
       "      <td>0</td>\n",
       "      <td>0</td>\n",
       "    </tr>\n",
       "  </tbody>\n",
       "</table>\n",
       "</div>"
      ],
      "text/plain": [
       "     W  FINAL_MARGIN  SHOT_NUMBER  PERIOD  DRIBBLES  TOUCH_TIME  \\\n",
       "0  0.0            24            1       1         2         1.9   \n",
       "1  0.0            24            2       1         0         0.8   \n",
       "2  0.0            24            3       1         3         2.7   \n",
       "3  0.0            24            4       2         2         1.9   \n",
       "4  0.0            24            5       2         2         2.7   \n",
       "\n",
       "   CLOSE_DEF_DIST  SHOT_DIST_1.0  SHOT_DIST_2.0  SHOT_DIST_3.0  SHOT_DIST_4.0  \\\n",
       "0             1.3              0              1              0              0   \n",
       "1             6.1              0              0              0              0   \n",
       "2             0.9              0              1              0              0   \n",
       "3             3.4              0              0              0              1   \n",
       "4             1.1              1              0              0              0   \n",
       "\n",
       "   SHOT_DIST_5.0  SHOT_CLOCK_1.0  SHOT_CLOCK_2.0  SHOT_CLOCK_3.0  \\\n",
       "0              0               0               1               0   \n",
       "1              1               0               0               0   \n",
       "2              0               0               1               0   \n",
       "3              0               0               1               0   \n",
       "4              0               0               1               0   \n",
       "\n",
       "   SHOT_CLOCK_4.0  \n",
       "0               0  \n",
       "1               1  \n",
       "2               0  \n",
       "3               0  \n",
       "4               0  "
      ]
     },
     "execution_count": 103,
     "metadata": {},
     "output_type": "execute_result"
    }
   ],
   "source": [
    "new_df= pd.get_dummies(new_df, columns = ['SHOT_DIST','SHOT_CLOCK'])\n",
    "new_df.head()"
   ]
  },
  {
   "cell_type": "code",
   "execution_count": 104,
   "metadata": {},
   "outputs": [
    {
     "data": {
      "text/html": [
       "<div>\n",
       "<style scoped>\n",
       "    .dataframe tbody tr th:only-of-type {\n",
       "        vertical-align: middle;\n",
       "    }\n",
       "\n",
       "    .dataframe tbody tr th {\n",
       "        vertical-align: top;\n",
       "    }\n",
       "\n",
       "    .dataframe thead th {\n",
       "        text-align: right;\n",
       "    }\n",
       "</style>\n",
       "<table border=\"1\" class=\"dataframe\">\n",
       "  <thead>\n",
       "    <tr style=\"text-align: right;\">\n",
       "      <th></th>\n",
       "      <th>W</th>\n",
       "      <th>FINAL_MARGIN</th>\n",
       "      <th>SHOT_NUMBER</th>\n",
       "      <th>PERIOD</th>\n",
       "      <th>DRIBBLES</th>\n",
       "      <th>TOUCH_TIME</th>\n",
       "      <th>CLOSE_DEF_DIST</th>\n",
       "      <th>CLOSE_TWO</th>\n",
       "      <th>SHORT_TWO</th>\n",
       "      <th>MID_RANGE</th>\n",
       "      <th>LONG_TWO</th>\n",
       "      <th>THREE</th>\n",
       "      <th>QUICK_POS</th>\n",
       "      <th>MED_POS</th>\n",
       "      <th>LONG_POS</th>\n",
       "      <th>LATE_POS</th>\n",
       "    </tr>\n",
       "  </thead>\n",
       "  <tbody>\n",
       "    <tr>\n",
       "      <th>0</th>\n",
       "      <td>0.0</td>\n",
       "      <td>24</td>\n",
       "      <td>1</td>\n",
       "      <td>1</td>\n",
       "      <td>2</td>\n",
       "      <td>1.9</td>\n",
       "      <td>1.3</td>\n",
       "      <td>0</td>\n",
       "      <td>1</td>\n",
       "      <td>0</td>\n",
       "      <td>0</td>\n",
       "      <td>0</td>\n",
       "      <td>0</td>\n",
       "      <td>1</td>\n",
       "      <td>0</td>\n",
       "      <td>0</td>\n",
       "    </tr>\n",
       "    <tr>\n",
       "      <th>1</th>\n",
       "      <td>0.0</td>\n",
       "      <td>24</td>\n",
       "      <td>2</td>\n",
       "      <td>1</td>\n",
       "      <td>0</td>\n",
       "      <td>0.8</td>\n",
       "      <td>6.1</td>\n",
       "      <td>0</td>\n",
       "      <td>0</td>\n",
       "      <td>0</td>\n",
       "      <td>0</td>\n",
       "      <td>1</td>\n",
       "      <td>0</td>\n",
       "      <td>0</td>\n",
       "      <td>0</td>\n",
       "      <td>1</td>\n",
       "    </tr>\n",
       "    <tr>\n",
       "      <th>2</th>\n",
       "      <td>0.0</td>\n",
       "      <td>24</td>\n",
       "      <td>3</td>\n",
       "      <td>1</td>\n",
       "      <td>3</td>\n",
       "      <td>2.7</td>\n",
       "      <td>0.9</td>\n",
       "      <td>0</td>\n",
       "      <td>1</td>\n",
       "      <td>0</td>\n",
       "      <td>0</td>\n",
       "      <td>0</td>\n",
       "      <td>0</td>\n",
       "      <td>1</td>\n",
       "      <td>0</td>\n",
       "      <td>0</td>\n",
       "    </tr>\n",
       "    <tr>\n",
       "      <th>3</th>\n",
       "      <td>0.0</td>\n",
       "      <td>24</td>\n",
       "      <td>4</td>\n",
       "      <td>2</td>\n",
       "      <td>2</td>\n",
       "      <td>1.9</td>\n",
       "      <td>3.4</td>\n",
       "      <td>0</td>\n",
       "      <td>0</td>\n",
       "      <td>0</td>\n",
       "      <td>1</td>\n",
       "      <td>0</td>\n",
       "      <td>0</td>\n",
       "      <td>1</td>\n",
       "      <td>0</td>\n",
       "      <td>0</td>\n",
       "    </tr>\n",
       "    <tr>\n",
       "      <th>4</th>\n",
       "      <td>0.0</td>\n",
       "      <td>24</td>\n",
       "      <td>5</td>\n",
       "      <td>2</td>\n",
       "      <td>2</td>\n",
       "      <td>2.7</td>\n",
       "      <td>1.1</td>\n",
       "      <td>1</td>\n",
       "      <td>0</td>\n",
       "      <td>0</td>\n",
       "      <td>0</td>\n",
       "      <td>0</td>\n",
       "      <td>0</td>\n",
       "      <td>1</td>\n",
       "      <td>0</td>\n",
       "      <td>0</td>\n",
       "    </tr>\n",
       "  </tbody>\n",
       "</table>\n",
       "</div>"
      ],
      "text/plain": [
       "     W  FINAL_MARGIN  SHOT_NUMBER  PERIOD  DRIBBLES  TOUCH_TIME  \\\n",
       "0  0.0            24            1       1         2         1.9   \n",
       "1  0.0            24            2       1         0         0.8   \n",
       "2  0.0            24            3       1         3         2.7   \n",
       "3  0.0            24            4       2         2         1.9   \n",
       "4  0.0            24            5       2         2         2.7   \n",
       "\n",
       "   CLOSE_DEF_DIST  CLOSE_TWO  SHORT_TWO  MID_RANGE  LONG_TWO  THREE  \\\n",
       "0             1.3          0          1          0         0      0   \n",
       "1             6.1          0          0          0         0      1   \n",
       "2             0.9          0          1          0         0      0   \n",
       "3             3.4          0          0          0         1      0   \n",
       "4             1.1          1          0          0         0      0   \n",
       "\n",
       "   QUICK_POS  MED_POS  LONG_POS  LATE_POS  \n",
       "0          0        1         0         0  \n",
       "1          0        0         0         1  \n",
       "2          0        1         0         0  \n",
       "3          0        1         0         0  \n",
       "4          0        1         0         0  "
      ]
     },
     "execution_count": 104,
     "metadata": {},
     "output_type": "execute_result"
    }
   ],
   "source": [
    "new_df = new_df.rename(columns = {\"SHOT_DIST_1.0\":\"CLOSE_TWO\",\"SHOT_DIST_2.0\":\"SHORT_TWO\",\"SHOT_DIST_3.0\":\"MID_RANGE\",\"SHOT_DIST_4.0\":\"LONG_TWO\",\"SHOT_DIST_5.0\":\"THREE\",\"SHOT_CLOCK_1.0\":\"QUICK_POS\",\"SHOT_CLOCK_2.0\":\"MED_POS\",\"SHOT_CLOCK_3.0\":\"LONG_POS\",\"SHOT_CLOCK_4.0\":\"LATE_POS\"})\n",
    "new_df.head()"
   ]
  },
  {
   "cell_type": "code",
   "execution_count": 105,
   "metadata": {},
   "outputs": [
    {
     "data": {
      "text/plain": [
       "(126821, 16)"
      ]
     },
     "execution_count": 105,
     "metadata": {},
     "output_type": "execute_result"
    }
   ],
   "source": [
    "new_df.shape"
   ]
  },
  {
   "cell_type": "code",
   "execution_count": 106,
   "metadata": {},
   "outputs": [],
   "source": [
    "data = np.zeros((new_df.shape[0],16))\n",
    "for i in range(len(data)):\n",
    "    data[i][0] = new_df.loc[i].W\n",
    "    data[i][1] = new_df.loc[i].FINAL_MARGIN\n",
    "    data[i][2] = new_df.loc[i].SHOT_NUMBER\n",
    "    data[i][3] = new_df.loc[i].PERIOD\n",
    "    data[i][4] = new_df.loc[i].DRIBBLES\n",
    "    data[i][5] = new_df.loc[i].TOUCH_TIME\n",
    "    data[i][6] = new_df.loc[i].CLOSE_DEF_DIST\n",
    "    data[i][7] = new_df.loc[i].CLOSE_TWO\n",
    "    data[i][8] = new_df.loc[i].SHORT_TWO\n",
    "    data[i][9] = new_df.loc[i].MID_RANGE\n",
    "    data[i][10] = new_df.loc[i].LONG_TWO\n",
    "    data[i][11] = new_df.loc[i].THREE\n",
    "    data[i][12] = new_df.loc[i].QUICK_POS\n",
    "    data[i][13] = new_df.loc[i].MED_POS\n",
    "    data[i][14] = new_df.loc[i].LONG_POS\n",
    "    data[i][15]=new_df.loc[i].LATE_POS"
   ]
  },
  {
   "cell_type": "code",
   "execution_count": 107,
   "metadata": {},
   "outputs": [],
   "source": [
    "data_train, data_test, target_train, target_test = train_test_split(data, target,test_size = 0.05, random_state=10)\n",
    "\n",
    "k_range = list(range(1,1000))\n",
    "k_scores_2 = []\n",
    "k_confusion_2 = []\n",
    "for k in k_range:\n",
    "    knn = KNeighborsClassifier(n_neighbors=k)\n",
    "    knn.fit(data_train, target_train)\n",
    "    pred = knn.predict(data_test)\n",
    "    score = metrics.accuracy_score(target_test, pred)\n",
    "    confusion = metrics.confusion_matrix(target_test, pred)\n",
    "    k_scores_2.append(score)\n",
    "    k_confusion_2.append(confusion)"
   ]
  },
  {
   "cell_type": "code",
   "execution_count": 108,
   "metadata": {},
   "outputs": [
    {
     "data": {
      "text/plain": [
       "Text(0, 0.5, 'accuracy')"
      ]
     },
     "execution_count": 108,
     "metadata": {},
     "output_type": "execute_result"
    },
    {
     "data": {
      "image/png": "[encoded data removed]",
      "text/plain": [
       "<Figure size 720x360 with 1 Axes>"
      ]
     },
     "metadata": {},
     "output_type": "display_data"
    }
   ],
   "source": [
    "plt.figure(figsize = [10,5])\n",
    "plt.plot(k_scores_2)\n",
    "plt.ylabel(\"accuracy\")"
   ]
  },
  {
   "cell_type": "code",
   "execution_count": 109,
   "metadata": {},
   "outputs": [
    {
     "name": "stdout",
     "output_type": "stream",
     "text": [
      "average on true positive: 823.2262262262262\n",
      "average on true negative: 2842.054054054054\n",
      "average on false positive: 648.9459459459459\n",
      "average on false negative: 2027.7737737737739\n"
     ]
    }
   ],
   "source": [
    "TP = 0\n",
    "FP =0 \n",
    "TN = 0\n",
    "FN = 0\n",
    "for i in range(len(k_confusion_2)):\n",
    "    TP = TP + k_confusion_2[i][1, 1]\n",
    "    FP = FP + k_confusion_2[i][0, 1]\n",
    "    TN = TN + k_confusion_2[i][0, 0]\n",
    "    FN = FN + k_confusion_2[i][1, 0]\n",
    "TPmean = TP/len(k_confusion_2)\n",
    "FPmean = FP/len(k_confusion_2)\n",
    "TNmean = TN/len(k_confusion_2)\n",
    "FNmean = FN/len(k_confusion_2)\n",
    "print(\"average on true positive: \" + str(TPmean))\n",
    "print(\"average on true negative: \" + str(TNmean))\n",
    "print(\"average on false positive: \" + str(FPmean))\n",
    "print(\"average on false negative: \" + str(FNmean))\n"
   ]
  },
  {
   "cell_type": "code",
   "execution_count": 110,
   "metadata": {},
   "outputs": [
    {
     "name": "stdout",
     "output_type": "stream",
     "text": [
      "0.5884578997161779\n",
      "142\n"
     ]
    }
   ],
   "source": [
    "print(max(k_scores_2))\n",
    "for i in range(999):\n",
    "    if k_scores_2[i] == max(k_scores_2):\n",
    "        print(i)"
   ]
  },
  {
   "cell_type": "markdown",
   "metadata": {},
   "source": [
    "as we can see k_scores_2[142] has the best result so we will check with k = 143"
   ]
  },
  {
   "cell_type": "code",
   "execution_count": 111,
   "metadata": {},
   "outputs": [
    {
     "name": "stdout",
     "output_type": "stream",
     "text": [
      "TP: 952\n",
      "FP: 711\n",
      "TN: 2780\n",
      "FN: 1899\n",
      "accuracy =0.5884578997161779\n",
      "recall = 0.33391792353560157\n",
      "presicion = 0.5724594107035478\n"
     ]
    }
   ],
   "source": [
    "knn_2 = KNeighborsClassifier(n_neighbors=143)\n",
    "knn_2.fit(data_train, target_train)\n",
    "pred = knn_2.predict(data_test)\n",
    "confusion_2 = metrics.confusion_matrix(target_test, pred)\n",
    "print(\"TP: \" + str(confusion_2[1, 1]))\n",
    "print(\"FP: \" + str(confusion_2[0, 1]))\n",
    "print(\"TN: \" + str(confusion_2[0, 0]))\n",
    "print(\"FN: \" + str(confusion_2[1, 0]))\n",
    "print(\"accuracy =\" + str(metrics.accuracy_score(target_test, pred)))\n",
    "print(\"recall = \" + str(metrics.recall_score(target_test, pred)))\n",
    "print(\"presicion = \" + str(metrics.precision_score(target_test, pred)))"
   ]
  },
  {
   "cell_type": "markdown",
   "metadata": {},
   "source": [
    "as we can see, the max score we got for our categorized data is lower then the score we got for the non categorized data as well as for the confusion matrix splits, in the non categorized data we got more true positive cases and less false negative cases, so i will assume that using the non categorized data is batter, ans also both of them are better then our dummy classifiers, which range from 50-55% accuracy and a lot more cases of false positives and negatives\n",
    "\n",
    "so we will take the uncategorized data and k = 744 and try to improve our model"
   ]
  },
  {
   "cell_type": "code",
   "execution_count": 117,
   "metadata": {},
   "outputs": [],
   "source": [
    "data = np.zeros((df.shape[0],9))\n",
    "for i in range(len(data)):\n",
    "    data[i][0] = df.loc[i].W\n",
    "    data[i][1] = df.loc[i].FINAL_MARGIN\n",
    "    data[i][2] = df.loc[i].SHOT_NUMBER\n",
    "    data[i][3] = df.loc[i].PERIOD\n",
    "    data[i][4] = df.loc[i].SHOT_CLOCK\n",
    "    data[i][5] = df.loc[i].DRIBBLES\n",
    "    data[i][6] = df.loc[i].TOUCH_TIME\n",
    "    data[i][7] = df.loc[i].SHOT_DIST\n",
    "    data[i][8] = df.loc[i].CLOSE_DEF_DIST\n"
   ]
  },
  {
   "cell_type": "code",
   "execution_count": 48,
   "metadata": {},
   "outputs": [],
   "source": [
    "data_train, data_test, target_train, target_test = train_test_split(data, target,test_size = 0.05, random_state=10)\n",
    "knn = KNeighborsClassifier(n_neighbors=744)\n",
    "knn.fit(data_train, target_train)\n",
    "pred = knn.predict(data_test)\n",
    "predict_proba = knn.predict_proba(data_test)\n",
    "confusion = metrics.confusion_matrix(target_test, pred)"
   ]
  },
  {
   "cell_type": "code",
   "execution_count": 49,
   "metadata": {},
   "outputs": [],
   "source": [
    "probability_made = predict_proba[:,1]\n",
    "probability_not_made =  predict_proba[:,0]"
   ]
  },
  {
   "cell_type": "code",
   "execution_count": 50,
   "metadata": {},
   "outputs": [
    {
     "name": "stdout",
     "output_type": "stream",
     "text": [
      "0.454857614198567\n",
      "0.545142385801433\n"
     ]
    }
   ],
   "source": [
    "print(probability_made.mean())\n",
    "print(probability_not_made.mean())"
   ]
  },
  {
   "cell_type": "markdown",
   "metadata": {},
   "source": [
    "lets watch the probability of made and not made and try to maybe change the threshold to get better accuracy"
   ]
  },
  {
   "cell_type": "code",
   "execution_count": 51,
   "metadata": {},
   "outputs": [
    {
     "name": "stdout",
     "output_type": "stream",
     "text": [
      "probability made: 0.24596774193548387\n",
      "shot number: 553\n",
      "shot featurs[ 1.  -8.  12.   4.   1.6  3.   6.7 28.9  4. ] 0\n",
      "\n",
      "probability made: 0.24596774193548387\n",
      "shot number: 1995\n",
      "shot featurs[  1.  -20.   12.    2.    3.    2.    2.1  27.3   4.1] 1\n",
      "\n",
      "probability made: 0.8817204301075269\n",
      "shot number: 2013\n",
      "shot featurs[ 1.  -3.   6.   1.  20.9  0.   0.8  2.3 16. ] 1\n",
      "\n",
      "probability made: 0.24596774193548387\n",
      "shot number: 5701\n",
      "shot featurs[ 1.  -6.   8.   2.   1.   3.   5.1 24.1  4.2] 0\n",
      "\n"
     ]
    }
   ],
   "source": [
    "for i in range(len(probability_made)):\n",
    "    if(probability_made[i] == max(probability_made)):\n",
    "        print(\"probability made: \" +str(probability_made[i]))\n",
    "        print(\"shot number: \" + str(i))\n",
    "        print(\"shot featurs\" +str(data_test[i]) +\" \"+ str(target_test[i]))\n",
    "        print()\n",
    "    if(probability_made[i] == min(probability_made)):\n",
    "        print(\"probability made: \" +str(probability_made[i]))\n",
    "        print(\"shot number: \" + str(i))\n",
    "        print(\"shot featurs\" +str(data_test[i]) +\" \"+ str(target_test[i]))\n",
    "        print()"
   ]
  },
  {
   "cell_type": "markdown",
   "metadata": {},
   "source": [
    "lets try to use binarize to get more accuracy"
   ]
  },
  {
   "cell_type": "code",
   "execution_count": 52,
   "metadata": {},
   "outputs": [
    {
     "name": "stdout",
     "output_type": "stream",
     "text": [
      "stats for for threshold of 0.5\n",
      "[[2815  676]\n",
      " [1753 1098]]\n",
      "accuracy =0.6169977924944813\n",
      "f beta score = 0.4166034299590226\n",
      "recall = 0.38512802525429674\n",
      "presicion = 0.6189402480270575\n",
      "Specificity = 0.8063592093955887\n",
      "area under curve = 0.5957436173249427\n"
     ]
    },
    {
     "data": {
      "image/png": "[encoded data removed]",
      "text/plain": [
       "<Figure size 432x288 with 1 Axes>"
      ]
     },
     "metadata": {},
     "output_type": "display_data"
    }
   ],
   "source": [
    "print(\"stats for for threshold of 0.5\" )\n",
    "print(confusion)\n",
    "print(\"accuracy =\" + str(metrics.accuracy_score(target_test, pred)))\n",
    "print(\"f beta score = \" + str(metrics.fbeta_score(target_test,pred, beta = 2)))\n",
    "print(\"recall = \" + str(metrics.recall_score(target_test, pred)))\n",
    "print(\"presicion = \" + str(metrics.precision_score(target_test, pred)))\n",
    "print(\"Specificity = \" + str(confusion[0,0]/float(confusion[0,0] + confusion[0,1])))\n",
    "fpr, tpr, thresholds = metrics.roc_curve(target_test, pred)\n",
    "plt.plot(fpr, tpr)\n",
    "plt.xlim([0.0, 1.0])\n",
    "plt.ylim([0.0, 1.0])\n",
    "plt.title('ROC curve for Shots made')\n",
    "plt.xlabel('False Positive Rate (1 - Specificity)')\n",
    "plt.ylabel('True Positive Rate (Sensitivity)')\n",
    "plt.grid(True)\n",
    "print(\"area under curve = \" + str(metrics.roc_auc_score(target_test, pred)))"
   ]
  },
  {
   "cell_type": "code",
   "execution_count": 159,
   "metadata": {},
   "outputs": [],
   "source": [
    "from sklearn.preprocessing import binarize\n",
    "x = 0.44\n",
    "pred = binarize([probability_made], threshold =x)[0]"
   ]
  },
  {
   "cell_type": "code",
   "execution_count": 160,
   "metadata": {},
   "outputs": [
    {
     "name": "stdout",
     "output_type": "stream",
     "text": [
      "stats for thresold of 0.44\n",
      "[[2247 1244]\n",
      " [1312 1539]]\n",
      "accuracy =0.5969725638599811\n",
      "recall/Sensitivity = 0.5398105927744651\n",
      "presicion = 0.55300035932447\n",
      "Specificity = 0.6436551131480951\n",
      "area under curve = 0.5917328529612801\n"
     ]
    },
    {
     "data": {
      "image/png": "[encoded data removed]",
      "text/plain": [
       "<Figure size 432x288 with 1 Axes>"
      ]
     },
     "metadata": {},
     "output_type": "display_data"
    }
   ],
   "source": [
    "print(\"stats for thresold of \" + str(x))\n",
    "confusion_x = metrics.confusion_matrix(target_test, pred)\n",
    "print(confusion_x)\n",
    "print(\"accuracy =\" + str(metrics.accuracy_score(target_test, pred)))#check the best k and print\n",
    "print(\"recall/Sensitivity = \" + str(metrics.recall_score(target_test, pred)))\n",
    "print(\"presicion = \" + str(metrics.precision_score(target_test, pred)))\n",
    "print(\"Specificity = \" + str(confusion_x[0,0]/float(confusion_x[0,0] + confusion_x[0,1])))\n",
    "fpr, tpr, thresholds = metrics.roc_curve(target_test, pred)\n",
    "plt.plot(fpr, tpr)\n",
    "plt.xlim([0.0, 1.0])\n",
    "plt.ylim([0.0, 1.0])\n",
    "plt.title('ROC curve for Shots made')\n",
    "plt.xlabel('False Positive Rate (1 - Specificity)')\n",
    "plt.ylabel('True Positive Rate (Sensitivity)')\n",
    "plt.grid(True)\n",
    "print(\"area under curve = \" + str(metrics.roc_auc_score(target_test, pred)))"
   ]
  },
  {
   "cell_type": "markdown",
   "metadata": {},
   "source": [
    "after playing a bit with the threshold, i saw that a threshold of 0.5 gave me the most acurate result, and as i lowerd the threshold, the specificity reduced but recall grew, and vice versa, when i put a more restrictive threshold, my specificity grew but the recall reduced, and now i will move on to the decision tree classifier"
   ]
  },
  {
   "cell_type": "code",
   "execution_count": 179,
   "metadata": {},
   "outputs": [],
   "source": [
    "from sklearn.tree import DecisionTreeClassifier\n",
    "from sklearn import tree\n",
    "import graphviz \n",
    "\n",
    "data_train, data_test, target_train, target_test = train_test_split(data, target,test_size = 0.05, random_state=10)\n"
   ]
  },
  {
   "cell_type": "code",
   "execution_count": 219,
   "metadata": {},
   "outputs": [],
   "source": [
    "clf.fit(data_train,target_train)\n",
    "clf = DecisionTreeClassifier(random_state=0, max_depth = 5, max_leaf_nodes = 10)\n",
    "clf.fit(data_train,target_train)\n",
    "pred = clf.predict(data_test)\n",
    "confusion = metrics.confusion_matrix(target_test, pred)"
   ]
  },
  {
   "cell_type": "code",
   "execution_count": 220,
   "metadata": {},
   "outputs": [
    {
     "data": {
      "image/svg+xml": [
       "<?xml version=\"1.0\" encoding=\"UTF-8\" standalone=\"no\"?>\r\n",
       "<!DOCTYPE svg PUBLIC \"-//W3C//DTD SVG 1.1//EN\"\r\n",
       " \"http://www.w3.org/Graphics/SVG/1.1/DTD/svg11.dtd\">\r\n",
       "<!-- Generated by graphviz version 2.38.0 (20140413.2041)\r\n",
       " -->\r\n",
       "<!-- Title: Tree Pages: 1 -->\r\n",
       "<svg width=\"1239pt\" height=\"477pt\"\r\n",
       " viewBox=\"0.00 0.00 1238.50 477.00\" xmlns=\"http://www.w3.org/2000/svg\" xmlns:xlink=\"http://www.w3.org/1999/xlink\">\r\n",
       "<g id=\"graph0\" class=\"graph\" transform=\"scale(1 1) rotate(0) translate(4 473)\">\r\n",
       "<title>Tree</title>\r\n",
       "<polygon fill=\"white\" stroke=\"none\" points=\"-4,4 -4,-473 1234.5,-473 1234.5,4 -4,4\"/>\r\n",
       "<!-- 0 -->\r\n",
       "<g id=\"node1\" class=\"node\"><title>0</title>\r\n",
       "<polygon fill=\"none\" stroke=\"black\" points=\"682,-469 537,-469 537,-401 682,-401 682,-469\"/>\r\n",
       "<text text-anchor=\"middle\" x=\"609.5\" y=\"-453.8\" font-family=\"Times New Roman,serif\" font-size=\"14.00\">SHOT_DIST &lt;= 4.85</text>\r\n",
       "<text text-anchor=\"middle\" x=\"609.5\" y=\"-438.8\" font-family=\"Times New Roman,serif\" font-size=\"14.00\">gini = 0.496</text>\r\n",
       "<text text-anchor=\"middle\" x=\"609.5\" y=\"-423.8\" font-family=\"Times New Roman,serif\" font-size=\"14.00\">samples = 120479</text>\r\n",
       "<text text-anchor=\"middle\" x=\"609.5\" y=\"-408.8\" font-family=\"Times New Roman,serif\" font-size=\"14.00\">value = [65716, 54763]</text>\r\n",
       "</g>\r\n",
       "<!-- 1 -->\r\n",
       "<g id=\"node2\" class=\"node\"><title>1</title>\r\n",
       "<polygon fill=\"none\" stroke=\"black\" points=\"579.5,-365 397.5,-365 397.5,-297 579.5,-297 579.5,-365\"/>\r\n",
       "<text text-anchor=\"middle\" x=\"488.5\" y=\"-349.8\" font-family=\"Times New Roman,serif\" font-size=\"14.00\">CLOSE_DEF_DIST &lt;= 2.75</text>\r\n",
       "<text text-anchor=\"middle\" x=\"488.5\" y=\"-334.8\" font-family=\"Times New Roman,serif\" font-size=\"14.00\">gini = 0.47</text>\r\n",
       "<text text-anchor=\"middle\" x=\"488.5\" y=\"-319.8\" font-family=\"Times New Roman,serif\" font-size=\"14.00\">samples = 31302</text>\r\n",
       "<text text-anchor=\"middle\" x=\"488.5\" y=\"-304.8\" font-family=\"Times New Roman,serif\" font-size=\"14.00\">value = [11843, 19459]</text>\r\n",
       "</g>\r\n",
       "<!-- 0&#45;&gt;1 -->\r\n",
       "<g id=\"edge1\" class=\"edge\"><title>0&#45;&gt;1</title>\r\n",
       "<path fill=\"none\" stroke=\"black\" d=\"M570.215,-400.884C559.226,-391.62 547.167,-381.455 535.768,-371.845\"/>\r\n",
       "<polygon fill=\"black\" stroke=\"black\" points=\"537.904,-369.069 528.002,-365.299 533.392,-374.421 537.904,-369.069\"/>\r\n",
       "<text text-anchor=\"middle\" x=\"530.125\" y=\"-386.509\" font-family=\"Times New Roman,serif\" font-size=\"14.00\">True</text>\r\n",
       "</g>\r\n",
       "<!-- 2 -->\r\n",
       "<g id=\"node11\" class=\"node\"><title>2</title>\r\n",
       "<polygon fill=\"none\" stroke=\"black\" points=\"804.5,-365 656.5,-365 656.5,-297 804.5,-297 804.5,-365\"/>\r\n",
       "<text text-anchor=\"middle\" x=\"730.5\" y=\"-349.8\" font-family=\"Times New Roman,serif\" font-size=\"14.00\">SHOT_DIST &lt;= 19.35</text>\r\n",
       "<text text-anchor=\"middle\" x=\"730.5\" y=\"-334.8\" font-family=\"Times New Roman,serif\" font-size=\"14.00\">gini = 0.478</text>\r\n",
       "<text text-anchor=\"middle\" x=\"730.5\" y=\"-319.8\" font-family=\"Times New Roman,serif\" font-size=\"14.00\">samples = 89177</text>\r\n",
       "<text text-anchor=\"middle\" x=\"730.5\" y=\"-304.8\" font-family=\"Times New Roman,serif\" font-size=\"14.00\">value = [53873, 35304]</text>\r\n",
       "</g>\r\n",
       "<!-- 0&#45;&gt;2 -->\r\n",
       "<g id=\"edge10\" class=\"edge\"><title>0&#45;&gt;2</title>\r\n",
       "<path fill=\"none\" stroke=\"black\" d=\"M648.785,-400.884C659.774,-391.62 671.833,-381.455 683.232,-371.845\"/>\r\n",
       "<polygon fill=\"black\" stroke=\"black\" points=\"685.608,-374.421 690.998,-365.299 681.096,-369.069 685.608,-374.421\"/>\r\n",
       "<text text-anchor=\"middle\" x=\"688.875\" y=\"-386.509\" font-family=\"Times New Roman,serif\" font-size=\"14.00\">False</text>\r\n",
       "</g>\r\n",
       "<!-- 3 -->\r\n",
       "<g id=\"node3\" class=\"node\"><title>3</title>\r\n",
       "<polygon fill=\"none\" stroke=\"black\" points=\"292,-261 137,-261 137,-193 292,-193 292,-261\"/>\r\n",
       "<text text-anchor=\"middle\" x=\"214.5\" y=\"-245.8\" font-family=\"Times New Roman,serif\" font-size=\"14.00\">TOUCH_TIME &lt;= 1.65</text>\r\n",
       "<text text-anchor=\"middle\" x=\"214.5\" y=\"-230.8\" font-family=\"Times New Roman,serif\" font-size=\"14.00\">gini = 0.496</text>\r\n",
       "<text text-anchor=\"middle\" x=\"214.5\" y=\"-215.8\" font-family=\"Times New Roman,serif\" font-size=\"14.00\">samples = 20002</text>\r\n",
       "<text text-anchor=\"middle\" x=\"214.5\" y=\"-200.8\" font-family=\"Times New Roman,serif\" font-size=\"14.00\">value = [9132, 10870]</text>\r\n",
       "</g>\r\n",
       "<!-- 1&#45;&gt;3 -->\r\n",
       "<g id=\"edge2\" class=\"edge\"><title>1&#45;&gt;3</title>\r\n",
       "<path fill=\"none\" stroke=\"black\" d=\"M399.54,-296.884C368.244,-285.233 333.118,-272.157 301.947,-260.553\"/>\r\n",
       "<polygon fill=\"black\" stroke=\"black\" points=\"303.002,-257.211 292.409,-257.003 300.56,-263.771 303.002,-257.211\"/>\r\n",
       "</g>\r\n",
       "<!-- 4 -->\r\n",
       "<g id=\"node6\" class=\"node\"><title>4</title>\r\n",
       "<polygon fill=\"none\" stroke=\"black\" points=\"579.5,-261 397.5,-261 397.5,-193 579.5,-193 579.5,-261\"/>\r\n",
       "<text text-anchor=\"middle\" x=\"488.5\" y=\"-245.8\" font-family=\"Times New Roman,serif\" font-size=\"14.00\">CLOSE_DEF_DIST &lt;= 4.55</text>\r\n",
       "<text text-anchor=\"middle\" x=\"488.5\" y=\"-230.8\" font-family=\"Times New Roman,serif\" font-size=\"14.00\">gini = 0.365</text>\r\n",
       "<text text-anchor=\"middle\" x=\"488.5\" y=\"-215.8\" font-family=\"Times New Roman,serif\" font-size=\"14.00\">samples = 11300</text>\r\n",
       "<text text-anchor=\"middle\" x=\"488.5\" y=\"-200.8\" font-family=\"Times New Roman,serif\" font-size=\"14.00\">value = [2711, 8589]</text>\r\n",
       "</g>\r\n",
       "<!-- 1&#45;&gt;4 -->\r\n",
       "<g id=\"edge5\" class=\"edge\"><title>1&#45;&gt;4</title>\r\n",
       "<path fill=\"none\" stroke=\"black\" d=\"M488.5,-296.884C488.5,-288.778 488.5,-279.982 488.5,-271.472\"/>\r\n",
       "<polygon fill=\"black\" stroke=\"black\" points=\"492,-271.299 488.5,-261.299 485,-271.299 492,-271.299\"/>\r\n",
       "</g>\r\n",
       "<!-- 7 -->\r\n",
       "<g id=\"node4\" class=\"node\"><title>7</title>\r\n",
       "<polygon fill=\"none\" stroke=\"black\" points=\"131,-149.5 0,-149.5 0,-96.5 131,-96.5 131,-149.5\"/>\r\n",
       "<text text-anchor=\"middle\" x=\"65.5\" y=\"-134.3\" font-family=\"Times New Roman,serif\" font-size=\"14.00\">gini = 0.48</text>\r\n",
       "<text text-anchor=\"middle\" x=\"65.5\" y=\"-119.3\" font-family=\"Times New Roman,serif\" font-size=\"14.00\">samples = 10313</text>\r\n",
       "<text text-anchor=\"middle\" x=\"65.5\" y=\"-104.3\" font-family=\"Times New Roman,serif\" font-size=\"14.00\">value = [4125, 6188]</text>\r\n",
       "</g>\r\n",
       "<!-- 3&#45;&gt;7 -->\r\n",
       "<g id=\"edge3\" class=\"edge\"><title>3&#45;&gt;7</title>\r\n",
       "<path fill=\"none\" stroke=\"black\" d=\"M166.124,-192.884C148.452,-180.786 128.534,-167.151 111.111,-155.224\"/>\r\n",
       "<polygon fill=\"black\" stroke=\"black\" points=\"113.008,-152.281 102.779,-149.52 109.054,-158.057 113.008,-152.281\"/>\r\n",
       "</g>\r\n",
       "<!-- 8 -->\r\n",
       "<g id=\"node5\" class=\"node\"><title>8</title>\r\n",
       "<polygon fill=\"none\" stroke=\"black\" points=\"280,-149.5 149,-149.5 149,-96.5 280,-96.5 280,-149.5\"/>\r\n",
       "<text text-anchor=\"middle\" x=\"214.5\" y=\"-134.3\" font-family=\"Times New Roman,serif\" font-size=\"14.00\">gini = 0.499</text>\r\n",
       "<text text-anchor=\"middle\" x=\"214.5\" y=\"-119.3\" font-family=\"Times New Roman,serif\" font-size=\"14.00\">samples = 9689</text>\r\n",
       "<text text-anchor=\"middle\" x=\"214.5\" y=\"-104.3\" font-family=\"Times New Roman,serif\" font-size=\"14.00\">value = [5007, 4682]</text>\r\n",
       "</g>\r\n",
       "<!-- 3&#45;&gt;8 -->\r\n",
       "<g id=\"edge4\" class=\"edge\"><title>3&#45;&gt;8</title>\r\n",
       "<path fill=\"none\" stroke=\"black\" d=\"M214.5,-192.884C214.5,-182.326 214.5,-170.597 214.5,-159.854\"/>\r\n",
       "<polygon fill=\"black\" stroke=\"black\" points=\"218,-159.52 214.5,-149.52 211,-159.52 218,-159.52\"/>\r\n",
       "</g>\r\n",
       "<!-- 9 -->\r\n",
       "<g id=\"node7\" class=\"node\"><title>9</title>\r\n",
       "<polygon fill=\"none\" stroke=\"black\" points=\"453,-157 298,-157 298,-89 453,-89 453,-157\"/>\r\n",
       "<text text-anchor=\"middle\" x=\"375.5\" y=\"-141.8\" font-family=\"Times New Roman,serif\" font-size=\"14.00\">TOUCH_TIME &lt;= 2.05</text>\r\n",
       "<text text-anchor=\"middle\" x=\"375.5\" y=\"-126.8\" font-family=\"Times New Roman,serif\" font-size=\"14.00\">gini = 0.407</text>\r\n",
       "<text text-anchor=\"middle\" x=\"375.5\" y=\"-111.8\" font-family=\"Times New Roman,serif\" font-size=\"14.00\">samples = 8275</text>\r\n",
       "<text text-anchor=\"middle\" x=\"375.5\" y=\"-96.8\" font-family=\"Times New Roman,serif\" font-size=\"14.00\">value = [2350, 5925]</text>\r\n",
       "</g>\r\n",
       "<!-- 4&#45;&gt;9 -->\r\n",
       "<g id=\"edge6\" class=\"edge\"><title>4&#45;&gt;9</title>\r\n",
       "<path fill=\"none\" stroke=\"black\" d=\"M451.812,-192.884C441.648,-183.709 430.505,-173.65 419.95,-164.123\"/>\r\n",
       "<polygon fill=\"black\" stroke=\"black\" points=\"422.159,-161.402 412.39,-157.299 417.468,-166.598 422.159,-161.402\"/>\r\n",
       "</g>\r\n",
       "<!-- 10 -->\r\n",
       "<g id=\"node10\" class=\"node\"><title>10</title>\r\n",
       "<polygon fill=\"none\" stroke=\"black\" points=\"596,-149.5 471,-149.5 471,-96.5 596,-96.5 596,-149.5\"/>\r\n",
       "<text text-anchor=\"middle\" x=\"533.5\" y=\"-134.3\" font-family=\"Times New Roman,serif\" font-size=\"14.00\">gini = 0.21</text>\r\n",
       "<text text-anchor=\"middle\" x=\"533.5\" y=\"-119.3\" font-family=\"Times New Roman,serif\" font-size=\"14.00\">samples = 3025</text>\r\n",
       "<text text-anchor=\"middle\" x=\"533.5\" y=\"-104.3\" font-family=\"Times New Roman,serif\" font-size=\"14.00\">value = [361, 2664]</text>\r\n",
       "</g>\r\n",
       "<!-- 4&#45;&gt;10 -->\r\n",
       "<g id=\"edge9\" class=\"edge\"><title>4&#45;&gt;10</title>\r\n",
       "<path fill=\"none\" stroke=\"black\" d=\"M503.11,-192.884C507.914,-181.996 513.266,-169.863 518.125,-158.85\"/>\r\n",
       "<polygon fill=\"black\" stroke=\"black\" points=\"521.407,-160.082 522.241,-149.52 515.003,-157.256 521.407,-160.082\"/>\r\n",
       "</g>\r\n",
       "<!-- 13 -->\r\n",
       "<g id=\"node8\" class=\"node\"><title>13</title>\r\n",
       "<polygon fill=\"none\" stroke=\"black\" points=\"367,-53 236,-53 236,-0 367,-0 367,-53\"/>\r\n",
       "<text text-anchor=\"middle\" x=\"301.5\" y=\"-37.8\" font-family=\"Times New Roman,serif\" font-size=\"14.00\">gini = 0.355</text>\r\n",
       "<text text-anchor=\"middle\" x=\"301.5\" y=\"-22.8\" font-family=\"Times New Roman,serif\" font-size=\"14.00\">samples = 5259</text>\r\n",
       "<text text-anchor=\"middle\" x=\"301.5\" y=\"-7.8\" font-family=\"Times New Roman,serif\" font-size=\"14.00\">value = [1213, 4046]</text>\r\n",
       "</g>\r\n",
       "<!-- 9&#45;&gt;13 -->\r\n",
       "<g id=\"edge7\" class=\"edge\"><title>9&#45;&gt;13</title>\r\n",
       "<path fill=\"none\" stroke=\"black\" d=\"M349.618,-88.9485C342.598,-79.9834 334.989,-70.2666 327.939,-61.2629\"/>\r\n",
       "<polygon fill=\"black\" stroke=\"black\" points=\"330.575,-58.9521 321.654,-53.2367 325.063,-63.2679 330.575,-58.9521\"/>\r\n",
       "</g>\r\n",
       "<!-- 14 -->\r\n",
       "<g id=\"node9\" class=\"node\"><title>14</title>\r\n",
       "<polygon fill=\"none\" stroke=\"black\" points=\"516,-53 385,-53 385,-0 516,-0 516,-53\"/>\r\n",
       "<text text-anchor=\"middle\" x=\"450.5\" y=\"-37.8\" font-family=\"Times New Roman,serif\" font-size=\"14.00\">gini = 0.47</text>\r\n",
       "<text text-anchor=\"middle\" x=\"450.5\" y=\"-22.8\" font-family=\"Times New Roman,serif\" font-size=\"14.00\">samples = 3016</text>\r\n",
       "<text text-anchor=\"middle\" x=\"450.5\" y=\"-7.8\" font-family=\"Times New Roman,serif\" font-size=\"14.00\">value = [1137, 1879]</text>\r\n",
       "</g>\r\n",
       "<!-- 9&#45;&gt;14 -->\r\n",
       "<g id=\"edge8\" class=\"edge\"><title>9&#45;&gt;14</title>\r\n",
       "<path fill=\"none\" stroke=\"black\" d=\"M401.731,-88.9485C408.846,-79.9834 416.558,-70.2666 423.704,-61.2629\"/>\r\n",
       "<polygon fill=\"black\" stroke=\"black\" points=\"426.599,-63.2454 430.074,-53.2367 421.116,-58.8938 426.599,-63.2454\"/>\r\n",
       "</g>\r\n",
       "<!-- 5 -->\r\n",
       "<g id=\"node12\" class=\"node\"><title>5</title>\r\n",
       "<polygon fill=\"none\" stroke=\"black\" points=\"821.5,-261 639.5,-261 639.5,-193 821.5,-193 821.5,-261\"/>\r\n",
       "<text text-anchor=\"middle\" x=\"730.5\" y=\"-245.8\" font-family=\"Times New Roman,serif\" font-size=\"14.00\">CLOSE_DEF_DIST &lt;= 3.75</text>\r\n",
       "<text text-anchor=\"middle\" x=\"730.5\" y=\"-230.8\" font-family=\"Times New Roman,serif\" font-size=\"14.00\">gini = 0.489</text>\r\n",
       "<text text-anchor=\"middle\" x=\"730.5\" y=\"-215.8\" font-family=\"Times New Roman,serif\" font-size=\"14.00\">samples = 46611</text>\r\n",
       "<text text-anchor=\"middle\" x=\"730.5\" y=\"-200.8\" font-family=\"Times New Roman,serif\" font-size=\"14.00\">value = [26752, 19859]</text>\r\n",
       "</g>\r\n",
       "<!-- 2&#45;&gt;5 -->\r\n",
       "<g id=\"edge11\" class=\"edge\"><title>2&#45;&gt;5</title>\r\n",
       "<path fill=\"none\" stroke=\"black\" d=\"M730.5,-296.884C730.5,-288.778 730.5,-279.982 730.5,-271.472\"/>\r\n",
       "<polygon fill=\"black\" stroke=\"black\" points=\"734,-271.299 730.5,-261.299 727,-271.299 734,-271.299\"/>\r\n",
       "</g>\r\n",
       "<!-- 6 -->\r\n",
       "<g id=\"node17\" class=\"node\"><title>6</title>\r\n",
       "<polygon fill=\"none\" stroke=\"black\" points=\"1078,-261 933,-261 933,-193 1078,-193 1078,-261\"/>\r\n",
       "<text text-anchor=\"middle\" x=\"1005.5\" y=\"-245.8\" font-family=\"Times New Roman,serif\" font-size=\"14.00\">W &lt;= 0.5</text>\r\n",
       "<text text-anchor=\"middle\" x=\"1005.5\" y=\"-230.8\" font-family=\"Times New Roman,serif\" font-size=\"14.00\">gini = 0.462</text>\r\n",
       "<text text-anchor=\"middle\" x=\"1005.5\" y=\"-215.8\" font-family=\"Times New Roman,serif\" font-size=\"14.00\">samples = 42566</text>\r\n",
       "<text text-anchor=\"middle\" x=\"1005.5\" y=\"-200.8\" font-family=\"Times New Roman,serif\" font-size=\"14.00\">value = [27121, 15445]</text>\r\n",
       "</g>\r\n",
       "<!-- 2&#45;&gt;6 -->\r\n",
       "<g id=\"edge16\" class=\"edge\"><title>2&#45;&gt;6</title>\r\n",
       "<path fill=\"none\" stroke=\"black\" d=\"M804.557,-302.532C841.221,-288.933 885.592,-272.475 923.304,-258.487\"/>\r\n",
       "<polygon fill=\"black\" stroke=\"black\" points=\"924.581,-261.747 932.74,-254.988 922.147,-255.184 924.581,-261.747\"/>\r\n",
       "</g>\r\n",
       "<!-- 15 -->\r\n",
       "<g id=\"node13\" class=\"node\"><title>15</title>\r\n",
       "<polygon fill=\"none\" stroke=\"black\" points=\"759,-149.5 614,-149.5 614,-96.5 759,-96.5 759,-149.5\"/>\r\n",
       "<text text-anchor=\"middle\" x=\"686.5\" y=\"-134.3\" font-family=\"Times New Roman,serif\" font-size=\"14.00\">gini = 0.481</text>\r\n",
       "<text text-anchor=\"middle\" x=\"686.5\" y=\"-119.3\" font-family=\"Times New Roman,serif\" font-size=\"14.00\">samples = 28621</text>\r\n",
       "<text text-anchor=\"middle\" x=\"686.5\" y=\"-104.3\" font-family=\"Times New Roman,serif\" font-size=\"14.00\">value = [17076, 11545]</text>\r\n",
       "</g>\r\n",
       "<!-- 5&#45;&gt;15 -->\r\n",
       "<g id=\"edge12\" class=\"edge\"><title>5&#45;&gt;15</title>\r\n",
       "<path fill=\"none\" stroke=\"black\" d=\"M716.214,-192.884C711.518,-181.996 706.284,-169.863 701.533,-158.85\"/>\r\n",
       "<polygon fill=\"black\" stroke=\"black\" points=\"704.683,-157.316 697.509,-149.52 698.256,-160.088 704.683,-157.316\"/>\r\n",
       "</g>\r\n",
       "<!-- 16 -->\r\n",
       "<g id=\"node14\" class=\"node\"><title>16</title>\r\n",
       "<polygon fill=\"none\" stroke=\"black\" points=\"918,-157 777,-157 777,-89 918,-89 918,-157\"/>\r\n",
       "<text text-anchor=\"middle\" x=\"847.5\" y=\"-141.8\" font-family=\"Times New Roman,serif\" font-size=\"14.00\">SHOT_DIST &lt;= 6.55</text>\r\n",
       "<text text-anchor=\"middle\" x=\"847.5\" y=\"-126.8\" font-family=\"Times New Roman,serif\" font-size=\"14.00\">gini = 0.497</text>\r\n",
       "<text text-anchor=\"middle\" x=\"847.5\" y=\"-111.8\" font-family=\"Times New Roman,serif\" font-size=\"14.00\">samples = 17990</text>\r\n",
       "<text text-anchor=\"middle\" x=\"847.5\" y=\"-96.8\" font-family=\"Times New Roman,serif\" font-size=\"14.00\">value = [9676, 8314]</text>\r\n",
       "</g>\r\n",
       "<!-- 5&#45;&gt;16 -->\r\n",
       "<g id=\"edge13\" class=\"edge\"><title>5&#45;&gt;16</title>\r\n",
       "<path fill=\"none\" stroke=\"black\" d=\"M768.487,-192.884C779.01,-183.709 790.548,-173.65 801.477,-164.123\"/>\r\n",
       "<polygon fill=\"black\" stroke=\"black\" points=\"804.066,-166.509 809.304,-157.299 799.466,-161.233 804.066,-166.509\"/>\r\n",
       "</g>\r\n",
       "<!-- 17 -->\r\n",
       "<g id=\"node15\" class=\"node\"><title>17</title>\r\n",
       "<polygon fill=\"none\" stroke=\"black\" points=\"834.5,-53 716.5,-53 716.5,-0 834.5,-0 834.5,-53\"/>\r\n",
       "<text text-anchor=\"middle\" x=\"775.5\" y=\"-37.8\" font-family=\"Times New Roman,serif\" font-size=\"14.00\">gini = 0.462</text>\r\n",
       "<text text-anchor=\"middle\" x=\"775.5\" y=\"-22.8\" font-family=\"Times New Roman,serif\" font-size=\"14.00\">samples = 1274</text>\r\n",
       "<text text-anchor=\"middle\" x=\"775.5\" y=\"-7.8\" font-family=\"Times New Roman,serif\" font-size=\"14.00\">value = [461, 813]</text>\r\n",
       "</g>\r\n",
       "<!-- 16&#45;&gt;17 -->\r\n",
       "<g id=\"edge14\" class=\"edge\"><title>16&#45;&gt;17</title>\r\n",
       "<path fill=\"none\" stroke=\"black\" d=\"M822.318,-88.9485C815.487,-79.9834 808.084,-70.2666 801.224,-61.2629\"/>\r\n",
       "<polygon fill=\"black\" stroke=\"black\" points=\"803.953,-59.0699 795.109,-53.2367 798.385,-63.3122 803.953,-59.0699\"/>\r\n",
       "</g>\r\n",
       "<!-- 18 -->\r\n",
       "<g id=\"node16\" class=\"node\"><title>18</title>\r\n",
       "<polygon fill=\"none\" stroke=\"black\" points=\"984,-53 853,-53 853,-0 984,-0 984,-53\"/>\r\n",
       "<text text-anchor=\"middle\" x=\"918.5\" y=\"-37.8\" font-family=\"Times New Roman,serif\" font-size=\"14.00\">gini = 0.495</text>\r\n",
       "<text text-anchor=\"middle\" x=\"918.5\" y=\"-22.8\" font-family=\"Times New Roman,serif\" font-size=\"14.00\">samples = 16716</text>\r\n",
       "<text text-anchor=\"middle\" x=\"918.5\" y=\"-7.8\" font-family=\"Times New Roman,serif\" font-size=\"14.00\">value = [9215, 7501]</text>\r\n",
       "</g>\r\n",
       "<!-- 16&#45;&gt;18 -->\r\n",
       "<g id=\"edge15\" class=\"edge\"><title>16&#45;&gt;18</title>\r\n",
       "<path fill=\"none\" stroke=\"black\" d=\"M872.332,-88.9485C879.068,-79.9834 886.368,-70.2666 893.133,-61.2629\"/>\r\n",
       "<polygon fill=\"black\" stroke=\"black\" points=\"895.955,-63.334 899.163,-53.2367 890.358,-59.1293 895.955,-63.334\"/>\r\n",
       "</g>\r\n",
       "<!-- 11 -->\r\n",
       "<g id=\"node18\" class=\"node\"><title>11</title>\r\n",
       "<polygon fill=\"none\" stroke=\"black\" points=\"1074.5,-149.5 936.5,-149.5 936.5,-96.5 1074.5,-96.5 1074.5,-149.5\"/>\r\n",
       "<text text-anchor=\"middle\" x=\"1005.5\" y=\"-134.3\" font-family=\"Times New Roman,serif\" font-size=\"14.00\">gini = 0.478</text>\r\n",
       "<text text-anchor=\"middle\" x=\"1005.5\" y=\"-119.3\" font-family=\"Times New Roman,serif\" font-size=\"14.00\">samples = 21705</text>\r\n",
       "<text text-anchor=\"middle\" x=\"1005.5\" y=\"-104.3\" font-family=\"Times New Roman,serif\" font-size=\"14.00\">value = [13131, 8574]</text>\r\n",
       "</g>\r\n",
       "<!-- 6&#45;&gt;11 -->\r\n",
       "<g id=\"edge17\" class=\"edge\"><title>6&#45;&gt;11</title>\r\n",
       "<path fill=\"none\" stroke=\"black\" d=\"M1005.5,-192.884C1005.5,-182.326 1005.5,-170.597 1005.5,-159.854\"/>\r\n",
       "<polygon fill=\"black\" stroke=\"black\" points=\"1009,-159.52 1005.5,-149.52 1002,-159.52 1009,-159.52\"/>\r\n",
       "</g>\r\n",
       "<!-- 12 -->\r\n",
       "<g id=\"node19\" class=\"node\"><title>12</title>\r\n",
       "<polygon fill=\"none\" stroke=\"black\" points=\"1230.5,-149.5 1092.5,-149.5 1092.5,-96.5 1230.5,-96.5 1230.5,-149.5\"/>\r\n",
       "<text text-anchor=\"middle\" x=\"1161.5\" y=\"-134.3\" font-family=\"Times New Roman,serif\" font-size=\"14.00\">gini = 0.442</text>\r\n",
       "<text text-anchor=\"middle\" x=\"1161.5\" y=\"-119.3\" font-family=\"Times New Roman,serif\" font-size=\"14.00\">samples = 20861</text>\r\n",
       "<text text-anchor=\"middle\" x=\"1161.5\" y=\"-104.3\" font-family=\"Times New Roman,serif\" font-size=\"14.00\">value = [13990, 6871]</text>\r\n",
       "</g>\r\n",
       "<!-- 6&#45;&gt;12 -->\r\n",
       "<g id=\"edge18\" class=\"edge\"><title>6&#45;&gt;12</title>\r\n",
       "<path fill=\"none\" stroke=\"black\" d=\"M1056.15,-192.884C1074.65,-180.786 1095.5,-167.151 1113.75,-155.224\"/>\r\n",
       "<polygon fill=\"black\" stroke=\"black\" points=\"1116.02,-157.922 1122.47,-149.52 1112.18,-152.063 1116.02,-157.922\"/>\r\n",
       "</g>\r\n",
       "</g>\r\n",
       "</svg>\r\n"
      ],
      "text/plain": [
       "<graphviz.files.Source at 0x2722bbece80>"
      ]
     },
     "execution_count": 220,
     "metadata": {},
     "output_type": "execute_result"
    }
   ],
   "source": [
    "dot_data = tree.export_graphviz(clf, out_file=None,feature_names = df.columns) \n",
    "graph = graphviz.Source(dot_data) \n",
    "graph.render(\"shots\")\n",
    "graph"
   ]
  },
  {
   "cell_type": "code",
   "execution_count": 116,
   "metadata": {},
   "outputs": [
    {
     "data": {
      "text/plain": [
       "(120479, 8)"
      ]
     },
     "execution_count": 116,
     "metadata": {},
     "output_type": "execute_result"
    }
   ],
   "source": [
    "data_train.shape"
   ]
  },
  {
   "cell_type": "code",
   "execution_count": 221,
   "metadata": {},
   "outputs": [
    {
     "name": "stdout",
     "output_type": "stream",
     "text": [
      "[[3121  370]\n",
      " [2040  811]]\n",
      "accuracy =0.619993692841375\n",
      "recall = 0.284461592423711\n",
      "presicion = 0.6867061812023709\n",
      "Specificity = 0.8940131767401891\n",
      "area under curve = 0.5892373845819501\n"
     ]
    },
    {
     "data": {
      "image/png": "[encoded data removed]",
      "text/plain": [
       "<Figure size 432x288 with 1 Axes>"
      ]
     },
     "metadata": {},
     "output_type": "display_data"
    }
   ],
   "source": [
    "print(confusion)\n",
    "print(\"accuracy =\" + str(metrics.accuracy_score(target_test, pred)))\n",
    "print(\"recall = \" + str(metrics.recall_score(target_test, pred)))\n",
    "print(\"presicion = \" + str(metrics.precision_score(target_test, pred)))\n",
    "print(\"Specificity = \" + str(confusion[0,0]/float(confusion[0,0] + confusion[0,1])))\n",
    "fpr, tpr, thresholds = metrics.roc_curve(target_test, pred)\n",
    "plt.plot(fpr, tpr)\n",
    "plt.xlim([0.0, 1.0])\n",
    "plt.ylim([0.0, 1.0])\n",
    "plt.title('ROC curve for Shots made')\n",
    "plt.xlabel('False Positive Rate (1 - Specificity)')\n",
    "plt.ylabel('True Positive Rate (Sensitivity)')\n",
    "plt.grid(True)\n",
    "print(\"area under curve = \" + str(metrics.roc_auc_score(target_test, pred)))"
   ]
  },
  {
   "cell_type": "code",
   "execution_count": 210,
   "metadata": {},
   "outputs": [
    {
     "name": "stdout",
     "output_type": "stream",
     "text": [
      "[0.02407555 0.         0.         0.         0.         0.\n",
      " 0.05733244 0.68907606 0.22951595]\n"
     ]
    }
   ],
   "source": [
    "print(clf.feature_importances_)"
   ]
  },
  {
   "cell_type": "code",
   "execution_count": 128,
   "metadata": {},
   "outputs": [
    {
     "data": {
      "text/plain": [
       "array([ 1. , -4. ,  1. ,  1. ,  1. ,  0. ,  1.1,  5. ,  4. ])"
      ]
     },
     "execution_count": 128,
     "metadata": {},
     "output_type": "execute_result"
    }
   ],
   "source": []
  },
  {
   "cell_type": "code",
   "execution_count": null,
   "metadata": {},
   "outputs": [],
   "source": []
  },
  {
   "cell_type": "markdown",
   "metadata": {},
   "source": [
    "after playing around with the tree settings, i came to the most optimal setting which gave me a bit more accuracy, rounding it up to 62%, and we can see that the false positive number dropped segnificitly, but also the true positive dropped, and with that, i will finish my classification notebook"
   ]
  },
  {
   "cell_type": "code",
   "execution_count": 74,
   "metadata": {},
   "outputs": [],
   "source": []
  },
  {
   "cell_type": "code",
   "execution_count": 85,
   "metadata": {},
   "outputs": [],
   "source": []
  },
  {
   "cell_type": "code",
   "execution_count": 94,
   "metadata": {},
   "outputs": [],
   "source": []
  },
  {
   "cell_type": "code",
   "execution_count": null,
   "metadata": {},
   "outputs": [],
   "source": []
  },
  {
   "cell_type": "code",
   "execution_count": null,
   "metadata": {},
   "outputs": [],
   "source": []
  },
  {
   "cell_type": "code",
   "execution_count": null,
   "metadata": {},
   "outputs": [],
   "source": []
  },
  {
   "cell_type": "code",
   "execution_count": null,
   "metadata": {},
   "outputs": [],
   "source": []
  },
  {
   "cell_type": "code",
   "execution_count": null,
   "metadata": {},
   "outputs": [],
   "source": []
  }
 ],
 "metadata": {
  "kernelspec": {
   "display_name": "Python 3",
   "language": "python",
   "name": "python3"
  },
  "language_info": {
   "codemirror_mode": {
    "name": "ipython",
    "version": 3
   },
   "file_extension": ".py",
   "mimetype": "text/x-python",
   "name": "python",
   "nbconvert_exporter": "python",
   "pygments_lexer": "ipython3",
   "version": "3.8.5"
  }
 },
 "nbformat": 4,
 "nbformat_minor": 4
}
